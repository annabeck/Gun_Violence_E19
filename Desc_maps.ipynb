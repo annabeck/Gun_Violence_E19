{
 "cells": [
  {
   "cell_type": "code",
   "execution_count": 524,
   "metadata": {},
   "outputs": [],
   "source": [
    "from zipfile import ZipFile\n",
    "import numpy as np\n",
    "import geopandas as gpd\n",
    "from shapely.geometry import Point, Polygon\n",
    "import matplotlib.pyplot as plt\n",
    "import pandas as pd\n",
    "%matplotlib inline\n",
    "from geopandas import GeoDataFrame\n",
    "from descartes import PolygonPatch\n",
    "from mpl_toolkits.axes_grid1 import make_axes_locatable"
   ]
  },
  {
   "cell_type": "code",
   "execution_count": 525,
   "metadata": {},
   "outputs": [
    {
     "name": "stderr",
     "output_type": "stream",
     "text": [
      "/Users/josefinebjornholm/anaconda3/lib/python3.7/site-packages/IPython/core/interactiveshell.py:3049: DtypeWarning: Columns (30,31,32,33,34,35,36,37,38,39,40,41,42,43,44,45,46,47,48,49,50,51,52,53,54,55,56,57,58,59,60,61,62,63,64,65,66,67,68,69,70,71,72,73,74,75,76,77,78,79,80,81,82,83,84,85,86,87,88,89,90,91,92,93,94,95,96,97,98,99,100,101,102,103,104,105,106,107,108,109,110,111,112,113,114,115,116,117,118,119,120,121,122,123,124,125,126,127,128,129,130,131,132,133,134,135,136,137,138) have mixed types. Specify dtype option on import or set low_memory=False.\n",
      "  interactivity=interactivity, compiler=compiler, result=result)\n"
     ]
    },
    {
     "data": {
      "text/html": [
       "<div>\n",
       "<style scoped>\n",
       "    .dataframe tbody tr th:only-of-type {\n",
       "        vertical-align: middle;\n",
       "    }\n",
       "\n",
       "    .dataframe tbody tr th {\n",
       "        vertical-align: top;\n",
       "    }\n",
       "\n",
       "    .dataframe thead th {\n",
       "        text-align: right;\n",
       "    }\n",
       "</style>\n",
       "<table border=\"1\" class=\"dataframe\">\n",
       "  <thead>\n",
       "    <tr style=\"text-align: right;\">\n",
       "      <th></th>\n",
       "      <th>Unnamed: 0</th>\n",
       "      <th>incident_id</th>\n",
       "      <th>date</th>\n",
       "      <th>state</th>\n",
       "      <th>city_or_county</th>\n",
       "      <th>address</th>\n",
       "      <th>n_killed</th>\n",
       "      <th>n_injured</th>\n",
       "      <th>incident_url</th>\n",
       "      <th>source_url</th>\n",
       "      <th>...</th>\n",
       "      <th>Officer Involved Shooting - Bystander killed</th>\n",
       "      <th>Child injured</th>\n",
       "      <th>Gun buy back action</th>\n",
       "      <th>Terrorism Involvement</th>\n",
       "      <th>Officer Involved Shooting - Accidental discharge - no injury required</th>\n",
       "      <th>Mistaken ID</th>\n",
       "      <th>Officer Involved Shooting - subject/suspect/perpetrator suicide by cop</th>\n",
       "      <th>Ghost gun</th>\n",
       "      <th>Political Violence</th>\n",
       "      <th>NAV</th>\n",
       "    </tr>\n",
       "  </thead>\n",
       "  <tbody>\n",
       "    <tr>\n",
       "      <th>0</th>\n",
       "      <td>0</td>\n",
       "      <td>461105</td>\n",
       "      <td>2013-01-01</td>\n",
       "      <td>Pennsylvania</td>\n",
       "      <td>Mckeesport</td>\n",
       "      <td>1506 Versailles Avenue and Coursin Street</td>\n",
       "      <td>0</td>\n",
       "      <td>4</td>\n",
       "      <td>http://www.gunviolencearchive.org/incident/461105</td>\n",
       "      <td>http://www.post-gazette.com/local/south/2013/0...</td>\n",
       "      <td>...</td>\n",
       "      <td>False</td>\n",
       "      <td>False</td>\n",
       "      <td>False</td>\n",
       "      <td>False</td>\n",
       "      <td>False</td>\n",
       "      <td>False</td>\n",
       "      <td>False</td>\n",
       "      <td>False</td>\n",
       "      <td>False</td>\n",
       "      <td>False</td>\n",
       "    </tr>\n",
       "  </tbody>\n",
       "</table>\n",
       "<p>1 rows × 139 columns</p>\n",
       "</div>"
      ],
      "text/plain": [
       "   Unnamed: 0  incident_id        date         state city_or_county  \\\n",
       "0           0       461105  2013-01-01  Pennsylvania     Mckeesport   \n",
       "\n",
       "                                     address  n_killed  n_injured  \\\n",
       "0  1506 Versailles Avenue and Coursin Street         0          4   \n",
       "\n",
       "                                        incident_url  \\\n",
       "0  http://www.gunviolencearchive.org/incident/461105   \n",
       "\n",
       "                                          source_url  ...  \\\n",
       "0  http://www.post-gazette.com/local/south/2013/0...  ...   \n",
       "\n",
       "   Officer Involved Shooting - Bystander killed  Child injured  \\\n",
       "0                                         False          False   \n",
       "\n",
       "  Gun buy back action Terrorism Involvement  \\\n",
       "0               False                 False   \n",
       "\n",
       "  Officer Involved Shooting - Accidental discharge - no injury required  \\\n",
       "0                                              False                      \n",
       "\n",
       "   Mistaken ID   \\\n",
       "0         False   \n",
       "\n",
       "  Officer Involved Shooting - subject/suspect/perpetrator suicide by cop  \\\n",
       "0                                              False                       \n",
       "\n",
       "   Ghost gun  Political Violence    NAV  \n",
       "0      False               False  False  \n",
       "\n",
       "[1 rows x 139 columns]"
      ]
     },
     "execution_count": 525,
     "metadata": {},
     "output_type": "execute_result"
    }
   ],
   "source": [
    "import pandas as pd\n",
    "import zipfile\n",
    "import re\n",
    "\n",
    "\n",
    "# Loading incident data \n",
    "zf = zipfile.ZipFile('Data_incidents.csv.zip') \n",
    "df = pd.read_csv(zf.open('Data_incidents.csv.zip'))\n",
    "\n",
    "df.head(1)"
   ]
  },
  {
   "cell_type": "code",
   "execution_count": 526,
   "metadata": {},
   "outputs": [],
   "source": [
    "# Loading law data \n",
    "df_law = pd.read_csv('gun_law_merge.csv', sep = ';')\n",
    "\n",
    "# Renaming the state column\n",
    "df_law.rename(columns={'Unnamed: 0':'state'}, inplace=True)"
   ]
  },
  {
   "cell_type": "code",
   "execution_count": 527,
   "metadata": {},
   "outputs": [
    {
     "data": {
      "text/html": [
       "<div>\n",
       "<style scoped>\n",
       "    .dataframe tbody tr th:only-of-type {\n",
       "        vertical-align: middle;\n",
       "    }\n",
       "\n",
       "    .dataframe tbody tr th {\n",
       "        vertical-align: top;\n",
       "    }\n",
       "\n",
       "    .dataframe thead th {\n",
       "        text-align: right;\n",
       "    }\n",
       "</style>\n",
       "<table border=\"1\" class=\"dataframe\">\n",
       "  <thead>\n",
       "    <tr style=\"text-align: right;\">\n",
       "      <th></th>\n",
       "      <th>STATE_NAME</th>\n",
       "      <th>DRAWSEQ</th>\n",
       "      <th>STATE_FIPS</th>\n",
       "      <th>SUB_REGION</th>\n",
       "      <th>STATE_ABBR</th>\n",
       "      <th>geometry</th>\n",
       "    </tr>\n",
       "  </thead>\n",
       "  <tbody>\n",
       "    <tr>\n",
       "      <th>0</th>\n",
       "      <td>Hawaii</td>\n",
       "      <td>1</td>\n",
       "      <td>15</td>\n",
       "      <td>Pacific</td>\n",
       "      <td>HI</td>\n",
       "      <td>MULTIPOLYGON (((-160.07380 22.00418, -160.0497...</td>\n",
       "    </tr>\n",
       "    <tr>\n",
       "      <th>1</th>\n",
       "      <td>Washington</td>\n",
       "      <td>2</td>\n",
       "      <td>53</td>\n",
       "      <td>Pacific</td>\n",
       "      <td>WA</td>\n",
       "      <td>MULTIPOLYGON (((-122.40202 48.22522, -122.4628...</td>\n",
       "    </tr>\n",
       "  </tbody>\n",
       "</table>\n",
       "</div>"
      ],
      "text/plain": [
       "   STATE_NAME  DRAWSEQ STATE_FIPS SUB_REGION STATE_ABBR  \\\n",
       "0      Hawaii        1         15    Pacific         HI   \n",
       "1  Washington        2         53    Pacific         WA   \n",
       "\n",
       "                                            geometry  \n",
       "0  MULTIPOLYGON (((-160.07380 22.00418, -160.0497...  \n",
       "1  MULTIPOLYGON (((-122.40202 48.22522, -122.4628...  "
      ]
     },
     "execution_count": 527,
     "metadata": {},
     "output_type": "execute_result"
    }
   ],
   "source": [
    "# Loading map data \n",
    "usa = gpd.read_file('/Users/josefinebjornholm/Documents/GitHub/Gun_Violence_E19/maps/states_21basic/states.shp')\n",
    "usa.head(2)"
   ]
  },
  {
   "cell_type": "markdown",
   "metadata": {},
   "source": [
    "### Excluding Alaska and Hawaii"
   ]
  },
  {
   "cell_type": "code",
   "execution_count": 528,
   "metadata": {},
   "outputs": [],
   "source": [
    "usa_49 = usa[1:50]"
   ]
  },
  {
   "cell_type": "markdown",
   "metadata": {},
   "source": [
    "### Grouping the incident data by sum and count depending on what we want"
   ]
  },
  {
   "cell_type": "code",
   "execution_count": 529,
   "metadata": {},
   "outputs": [],
   "source": [
    "df_group_count=df.groupby('state').count().reset_index()\n",
    "df_group_incidents_count = df_group_count[['state','incident_id']]\n",
    "df_group_sum = df.groupby('state').sum().reset_index()\n",
    "df_group_incidents_sum = df_group_sum[['state','n_killed','n_injured']]\n",
    "df_group_incidents_sum.head(1)\n",
    "\n",
    "# Dataset with N_incident, n_killed and n_injured\n",
    "df_group_incidents= df_group_incidents_sum.set_index('state').join(df_group_incidents_count.set_index('state')).reset_index()"
   ]
  },
  {
   "cell_type": "markdown",
   "metadata": {},
   "source": [
    "### Grouping the incident data by number of true in incident characteristics"
   ]
  },
  {
   "cell_type": "code",
   "execution_count": 530,
   "metadata": {},
   "outputs": [
    {
     "name": "stdout",
     "output_type": "stream",
     "text": [
      "state\n",
      "Shot - Wounded/Injured\n",
      "Mass Shooting\n",
      "Possession\n",
      "Possession of gun by felon or prohibited person\n",
      "Shot - Dead\n",
      "Gang involvement\n",
      "Shots Fired - No Injuries\n",
      "Bar/club incident - in or around establishment\n",
      "Officer Involved Incident\n",
      "Officer Involved Shooting - subject/suspect/perpetrator killed\n",
      "Drug involvement\n",
      "Kidnapping/abductions/hostage\n",
      "Under the influence of alcohol or drugs\n",
      "Suicide\n",
      "Murder/Suicide\n",
      "Attempted Murder/Suicide\n",
      "Domestic Violence\n",
      "Home Invasion\n",
      "Home Invasion - Resident killed\n",
      "Armed robbery with injury/death and/or evidence of DGU found\n",
      "Drive-by\n",
      "Officer Involved Shooting - Officer shot\n",
      "Officer Involved Shooting - Officer killed\n",
      "Officer Involved Shooting - subject/suspect/perpetrator shot\n",
      "Officer Involved Shooting - subject/suspect/perpetrator suicide at standoff\n",
      "Spree Shooting\n",
      "Institution/Group/Business\n",
      "Animal shot/killed\n",
      "Home Invasion - Resident injured\n",
      "Mass Murder\n",
      "Concealed Carry License - Perpetrator\n",
      "Stolen/Illegally owned\n",
      "School Incident\n",
      "School Shooting - university/college\n",
      "Car-jacking\n",
      "Hate crime\n",
      "House party\n",
      "Defensive Use\n",
      "Defensive Use - Crime occurs, victim shoots subject/suspect/perpetrator\n",
      "Defensive Use - Victim stops crime\n",
      "Workplace shooting\n",
      "Assault weapon\n",
      "Pistol-whipping\n",
      "Implied Weapon\n",
      "Accidental Shooting\n",
      "Accidental Shooting - Injury\n",
      "Cleaning gun\n",
      "Brandishing/flourishing/open carry/lost/found\n",
      "Non-Shooting Incident\n",
      "ATF/LE Confiscation/Raid/Arrest\n",
      "Unlawful purchase/sale\n",
      "Accidental Shooting - Death\n",
      "BB/Pellet/Replica gun\n",
      "Hunting accident\n",
      "Road rage\n",
      "Home Invasion - No death or injury\n",
      "Accidental/Negligent Discharge\n",
      "Shots fired, no action\n",
      "Sex crime involving firearm\n",
      "TSA Action\n",
      "Thought gun was unloaded\n",
      "stolen from owner\n",
      "Gun range/gun shop/gun show shooting\n",
      "Home Invasion - subject/suspect/perpetrator killed\n",
      "Home Invasion - subject/suspect/perpetrator injured\n",
      "Child Involved Incident\n",
      "Child injured self\n",
      "Suicide - Attempt\n",
      "Child killed by child\n",
      "Self-Inflicted\n",
      "School Shooting - elementary/secondary school\n",
      "Officer Involved Incident - Weapon involved but no shots fired\n",
      "Defensive Use - Shots fired, no injury/death\n",
      "Concealed Carry License - Victim\n",
      "Officer Involved Shooting - Shots fired, no injury\n",
      "Accidental Shooting at a Business\n",
      "Criminal act with stolen gun\n",
      "Child killed self\n",
      "Child picked up & fired gun\n",
      "Gun at school, no death/injury - elementary/secondary school\n",
      "Gun at school, no death/injury - university/college\n",
      "Non-Aggression Incident\n",
      "Defensive Use - WITHOUT a gun\n",
      "Police Targeted\n",
      "Defensive Use - Stand Your Ground/Castle Doctrine established\n",
      "Playing with gun\n",
      "Child injured by child\n",
      "Officer Involved Shooting - subject/suspect/perpetrator unarmed\n",
      "ShotSpotter\n",
      "Officer Involved Shooting - subject/suspect/perpetrator surrender at standoff\n",
      "Defensive Use - Good Samaritan/Third Party\n",
      "LOCKDOWN/ALERT ONLY: No GV Incident Occurred Onsite\n",
      "Child killed\n",
      "Child with gun - no shots fired\n",
      "Gun shop robbery or burglary\n",
      "Shootout\n",
      "Guns stolen from law enforcement\n",
      "Defensive use - No shots fired\n",
      "Officer Involved Shooting - Bystander shot\n",
      "Officer Involved Shooting - Bystander killed\n",
      "Child injured\n",
      "Gun buy back action\n",
      "Terrorism Involvement\n",
      "Officer Involved Shooting - Accidental discharge - no injury required\n",
      "Mistaken ID \n",
      "Officer Involved Shooting - subject/suspect/perpetrator suicide by cop\n",
      "Ghost gun\n",
      "Political Violence\n",
      "NAV\n"
     ]
    }
   ],
   "source": [
    "df_IC = df.iloc[:, [3] + list(range(30,139))]\n",
    "df_IC_group = df_IC.groupby('state').sum().reset_index()\n",
    "\n",
    "for col in df_IC_group.columns: \n",
    "    print(col)"
   ]
  },
  {
   "cell_type": "markdown",
   "metadata": {},
   "source": [
    "### Editing law data"
   ]
  },
  {
   "cell_type": "code",
   "execution_count": 531,
   "metadata": {},
   "outputs": [
    {
     "name": "stdout",
     "output_type": "stream",
     "text": [
      "8\n",
      "8\n"
     ]
    },
    {
     "data": {
      "text/html": [
       "<div>\n",
       "<style scoped>\n",
       "    .dataframe tbody tr th:only-of-type {\n",
       "        vertical-align: middle;\n",
       "    }\n",
       "\n",
       "    .dataframe tbody tr th {\n",
       "        vertical-align: top;\n",
       "    }\n",
       "\n",
       "    .dataframe thead th {\n",
       "        text-align: right;\n",
       "    }\n",
       "</style>\n",
       "<table border=\"1\" class=\"dataframe\">\n",
       "  <thead>\n",
       "    <tr style=\"text-align: right;\">\n",
       "      <th></th>\n",
       "      <th>state</th>\n",
       "      <th>State permit required to purchase? - Long guns</th>\n",
       "      <th>Firearm registration? - Long guns</th>\n",
       "      <th>Owner license required? - Long guns</th>\n",
       "      <th>Assault weapon law? - Long guns</th>\n",
       "      <th>NFA weapons restricted? - Long guns</th>\n",
       "      <th>Background checks required for private sales? - Long guns</th>\n",
       "      <th>Magazine Capacity Restriction? - Long guns</th>\n",
       "      <th>Red flag law? - Long guns</th>\n",
       "      <th>State permit required to purchase? - Handguns</th>\n",
       "      <th>Firearm registration? - Handguns</th>\n",
       "      <th>Owner license required? - Handguns</th>\n",
       "      <th>Assault weapon law? - Handguns</th>\n",
       "      <th>NFA weapons restricted? - Handguns</th>\n",
       "      <th>Background checks required for private sales? - Handguns</th>\n",
       "      <th>Magazine Capacity Restriction? - Handguns</th>\n",
       "      <th>Red flag law? - Handguns</th>\n",
       "      <th>handgun_laws - count</th>\n",
       "      <th>longgun_laws - count</th>\n",
       "    </tr>\n",
       "  </thead>\n",
       "  <tbody>\n",
       "    <tr>\n",
       "      <th>0</th>\n",
       "      <td>Alabama</td>\n",
       "      <td>0</td>\n",
       "      <td>0</td>\n",
       "      <td>0</td>\n",
       "      <td>0</td>\n",
       "      <td>0</td>\n",
       "      <td>0</td>\n",
       "      <td>0</td>\n",
       "      <td>0</td>\n",
       "      <td>0</td>\n",
       "      <td>0</td>\n",
       "      <td>0</td>\n",
       "      <td>0</td>\n",
       "      <td>0</td>\n",
       "      <td>0</td>\n",
       "      <td>0</td>\n",
       "      <td>0</td>\n",
       "      <td>0</td>\n",
       "      <td>0</td>\n",
       "    </tr>\n",
       "  </tbody>\n",
       "</table>\n",
       "</div>"
      ],
      "text/plain": [
       "     state  State permit required to purchase? - Long guns  \\\n",
       "0  Alabama                                               0   \n",
       "\n",
       "   Firearm registration? - Long guns  Owner license required? - Long guns  \\\n",
       "0                                  0                                    0   \n",
       "\n",
       "   Assault weapon law? - Long guns  NFA weapons restricted? - Long guns  \\\n",
       "0                                0                                    0   \n",
       "\n",
       "   Background checks required for private sales? - Long guns  \\\n",
       "0                                                  0           \n",
       "\n",
       "   Magazine Capacity Restriction? - Long guns  Red flag law? - Long guns  \\\n",
       "0                                           0                          0   \n",
       "\n",
       "   State permit required to purchase? - Handguns  \\\n",
       "0                                              0   \n",
       "\n",
       "   Firearm registration? - Handguns  Owner license required? - Handguns  \\\n",
       "0                                 0                                   0   \n",
       "\n",
       "   Assault weapon law? - Handguns  NFA weapons restricted? - Handguns  \\\n",
       "0                               0                                   0   \n",
       "\n",
       "   Background checks required for private sales? - Handguns  \\\n",
       "0                                                  0          \n",
       "\n",
       "   Magazine Capacity Restriction? - Handguns  Red flag law? - Handguns  \\\n",
       "0                                          0                         0   \n",
       "\n",
       "   handgun_laws - count  longgun_laws - count  \n",
       "0                     0                     0  "
      ]
     },
     "execution_count": 531,
     "metadata": {},
     "output_type": "execute_result"
    }
   ],
   "source": [
    "laws =['State permit required to purchase? - Long guns',\n",
    "'Firearm registration? - Long guns',\n",
    "'Owner license required? - Long guns',\n",
    "'Assault weapon law? - Long guns',\n",
    "'NFA weapons restricted? - Long guns',\n",
    "'Background checks required for private sales? - Long guns',\n",
    "'Magazine Capacity Restriction? - Long guns',\n",
    "'Red flag law? - Long guns',\n",
    "'State permit required to purchase? - Handguns',\n",
    "'Firearm registration? - Handguns',\n",
    "'Owner license required? - Handguns',\n",
    "'Assault weapon law? - Handguns',\n",
    "'NFA weapons restricted? - Handguns',\n",
    "'Background checks required for private sales? - Handguns',\n",
    "'Magazine Capacity Restriction? - Handguns',\n",
    "'Red flag law? - Handguns']\n",
    "\n",
    "laws_longguns = laws[0:8]\n",
    "laws_handguns = laws[8:16]\n",
    "\n",
    "print(len(laws_longguns))\n",
    "print(len(laws_handguns))\n",
    "\n",
    "\n",
    "#count how many laws on handguns and longgund each state has\n",
    "\n",
    "df_law['handgun_laws - count'] = df_law.loc[:, laws_handguns].sum(axis=1)\n",
    "df_law['longgun_laws - count'] = df_law.loc[:, laws_longguns].sum(axis=1)\n",
    "df_law.head(1)"
   ]
  },
  {
   "cell_type": "markdown",
   "metadata": {},
   "source": [
    "### Merging the map data, incident data and law data"
   ]
  },
  {
   "cell_type": "code",
   "execution_count": 532,
   "metadata": {},
   "outputs": [],
   "source": [
    "merged_group = usa_49.set_index('STATE_NAME').join(df_group_incidents.set_index('state')).reset_index()\n",
    "merged_group_all = merged_group.set_index('STATE_NAME').join(df_IC_group.set_index('state')).join(df_law.set_index('state'))\n",
    "\n",
    "# Renaming incident_id to N_incident\n",
    "merged_group_all.rename(columns={'incident_id':'N_incident'}, inplace=True)"
   ]
  },
  {
   "cell_type": "code",
   "execution_count": 533,
   "metadata": {},
   "outputs": [
    {
     "data": {
      "text/html": [
       "<div>\n",
       "<style scoped>\n",
       "    .dataframe tbody tr th:only-of-type {\n",
       "        vertical-align: middle;\n",
       "    }\n",
       "\n",
       "    .dataframe tbody tr th {\n",
       "        vertical-align: top;\n",
       "    }\n",
       "\n",
       "    .dataframe thead th {\n",
       "        text-align: right;\n",
       "    }\n",
       "</style>\n",
       "<table border=\"1\" class=\"dataframe\">\n",
       "  <thead>\n",
       "    <tr style=\"text-align: right;\">\n",
       "      <th></th>\n",
       "      <th>N_incident</th>\n",
       "      <th>n_killed</th>\n",
       "      <th>n_injured</th>\n",
       "      <th>Child injured</th>\n",
       "      <th>Mass Shooting</th>\n",
       "      <th>Child killed self</th>\n",
       "      <th>Hate crime</th>\n",
       "      <th>NFA weapons restricted? - Handguns</th>\n",
       "    </tr>\n",
       "  </thead>\n",
       "  <tbody>\n",
       "    <tr>\n",
       "      <th>count</th>\n",
       "      <td>49.000000</td>\n",
       "      <td>49.000000</td>\n",
       "      <td>49.000000</td>\n",
       "      <td>49.000000</td>\n",
       "      <td>49.000000</td>\n",
       "      <td>49.000000</td>\n",
       "      <td>49.000000</td>\n",
       "      <td>46.000000</td>\n",
       "    </tr>\n",
       "    <tr>\n",
       "      <th>mean</th>\n",
       "      <td>4857.938776</td>\n",
       "      <td>1227.306122</td>\n",
       "      <td>2408.000000</td>\n",
       "      <td>21.102041</td>\n",
       "      <td>33.387755</td>\n",
       "      <td>3.326531</td>\n",
       "      <td>2.081633</td>\n",
       "      <td>0.217391</td>\n",
       "    </tr>\n",
       "    <tr>\n",
       "      <th>std</th>\n",
       "      <td>4274.192138</td>\n",
       "      <td>1254.442509</td>\n",
       "      <td>2565.497012</td>\n",
       "      <td>22.259123</td>\n",
       "      <td>40.229972</td>\n",
       "      <td>4.084461</td>\n",
       "      <td>2.970948</td>\n",
       "      <td>0.417029</td>\n",
       "    </tr>\n",
       "    <tr>\n",
       "      <th>min</th>\n",
       "      <td>472.000000</td>\n",
       "      <td>57.000000</td>\n",
       "      <td>52.000000</td>\n",
       "      <td>0.000000</td>\n",
       "      <td>0.000000</td>\n",
       "      <td>0.000000</td>\n",
       "      <td>0.000000</td>\n",
       "      <td>0.000000</td>\n",
       "    </tr>\n",
       "    <tr>\n",
       "      <th>25%</th>\n",
       "      <td>1651.000000</td>\n",
       "      <td>282.000000</td>\n",
       "      <td>674.000000</td>\n",
       "      <td>4.000000</td>\n",
       "      <td>5.000000</td>\n",
       "      <td>0.000000</td>\n",
       "      <td>0.000000</td>\n",
       "      <td>0.000000</td>\n",
       "    </tr>\n",
       "    <tr>\n",
       "      <th>50%</th>\n",
       "      <td>3434.000000</td>\n",
       "      <td>853.000000</td>\n",
       "      <td>1415.000000</td>\n",
       "      <td>10.000000</td>\n",
       "      <td>17.000000</td>\n",
       "      <td>2.000000</td>\n",
       "      <td>1.000000</td>\n",
       "      <td>0.000000</td>\n",
       "    </tr>\n",
       "    <tr>\n",
       "      <th>75%</th>\n",
       "      <td>6631.000000</td>\n",
       "      <td>1705.000000</td>\n",
       "      <td>3566.000000</td>\n",
       "      <td>39.000000</td>\n",
       "      <td>47.000000</td>\n",
       "      <td>5.000000</td>\n",
       "      <td>2.000000</td>\n",
       "      <td>0.000000</td>\n",
       "    </tr>\n",
       "    <tr>\n",
       "      <th>max</th>\n",
       "      <td>17556.000000</td>\n",
       "      <td>5562.000000</td>\n",
       "      <td>13514.000000</td>\n",
       "      <td>83.000000</td>\n",
       "      <td>194.000000</td>\n",
       "      <td>19.000000</td>\n",
       "      <td>15.000000</td>\n",
       "      <td>1.000000</td>\n",
       "    </tr>\n",
       "  </tbody>\n",
       "</table>\n",
       "</div>"
      ],
      "text/plain": [
       "         N_incident     n_killed     n_injured  Child injured  Mass Shooting  \\\n",
       "count     49.000000    49.000000     49.000000      49.000000      49.000000   \n",
       "mean    4857.938776  1227.306122   2408.000000      21.102041      33.387755   \n",
       "std     4274.192138  1254.442509   2565.497012      22.259123      40.229972   \n",
       "min      472.000000    57.000000     52.000000       0.000000       0.000000   \n",
       "25%     1651.000000   282.000000    674.000000       4.000000       5.000000   \n",
       "50%     3434.000000   853.000000   1415.000000      10.000000      17.000000   \n",
       "75%     6631.000000  1705.000000   3566.000000      39.000000      47.000000   \n",
       "max    17556.000000  5562.000000  13514.000000      83.000000     194.000000   \n",
       "\n",
       "       Child killed self  Hate crime  NFA weapons restricted? - Handguns  \n",
       "count          49.000000   49.000000                           46.000000  \n",
       "mean            3.326531    2.081633                            0.217391  \n",
       "std             4.084461    2.970948                            0.417029  \n",
       "min             0.000000    0.000000                            0.000000  \n",
       "25%             0.000000    0.000000                            0.000000  \n",
       "50%             2.000000    1.000000                            0.000000  \n",
       "75%             5.000000    2.000000                            0.000000  \n",
       "max            19.000000   15.000000                            1.000000  "
      ]
     },
     "execution_count": 533,
     "metadata": {},
     "output_type": "execute_result"
    }
   ],
   "source": [
    "merged_group_all['NFA weapons restricted? - Handguns']\n",
    "merged_group_all[['N_incident','n_killed', 'n_injured','Child injured','Mass Shooting', 'Child killed self','Hate crime','NFA weapons restricted? - Handguns']].describe()"
   ]
  },
  {
   "cell_type": "code",
   "execution_count": 534,
   "metadata": {},
   "outputs": [
    {
     "data": {
      "text/plain": [
       "<matplotlib.axes._subplots.AxesSubplot at 0x219348cf8>"
      ]
     },
     "execution_count": 534,
     "metadata": {},
     "output_type": "execute_result"
    },
    {
     "data": {
      "image/png": "[encoded data removed]",
      "text/plain": [
       "<Figure size 432x288 with 1 Axes>"
      ]
     },
     "metadata": {
      "needs_background": "light"
     },
     "output_type": "display_data"
    }
   ],
   "source": [
    "## Code for plotting specific regions (can also be used for states etc)\n",
    "merged_group[merged_group.SUB_REGION == 'Pacific'].plot()"
   ]
  },
  {
   "cell_type": "code",
   "execution_count": 553,
   "metadata": {},
   "outputs": [
    {
     "data": {
      "image/png": "[encoded data removed]",
      "text/plain": [
       "<Figure size 1440x1080 with 1 Axes>"
      ]
     },
     "metadata": {
      "needs_background": "light"
     },
     "output_type": "display_data"
    }
   ],
   "source": [
    "# set a variable that will call whatever column we want to visualise on the map\n",
    "variable = 'Child injured'\n",
    "\n",
    "# set the range for the choropleth\n",
    "vmin, vmax = 0, 8\n",
    "\n",
    "# create figure and axes for Matplotlib\n",
    "fig, ax = plt.subplots(1, figsize=(20, 15))"
   ]
  },
  {
   "cell_type": "code",
   "execution_count": 554,
   "metadata": {},
   "outputs": [
    {
     "data": {
      "text/plain": [
       "<matplotlib.axes._subplots.AxesSubplot at 0x21b1facf8>"
      ]
     },
     "execution_count": 554,
     "metadata": {},
     "output_type": "execute_result"
    },
    {
     "data": {
      "text/plain": [
       "<Figure size 432x288 with 0 Axes>"
      ]
     },
     "metadata": {},
     "output_type": "display_data"
    }
   ],
   "source": [
    "merged_group_all.plot(column=variable, cmap='Reds', linewidth=0.8, ax = ax)"
   ]
  },
  {
   "cell_type": "code",
   "execution_count": 555,
   "metadata": {},
   "outputs": [
    {
     "data": {
      "text/plain": [
       "(-127.62094421524407, -64.08109635606795, 23.73560864957025, 50.59249807458268)"
      ]
     },
     "execution_count": 555,
     "metadata": {},
     "output_type": "execute_result"
    }
   ],
   "source": [
    "ax.axis('off')"
   ]
  },
  {
   "cell_type": "code",
   "execution_count": 556,
   "metadata": {},
   "outputs": [],
   "source": [
    "divider = make_axes_locatable(ax)\n",
    "cax = divider.append_axes(\"right\", size=\"3%\", pad=0.00)\n",
    "\n",
    "\n",
    "# Create colorbar as a legend\n",
    "sm = plt.cm.ScalarMappable(cmap='Reds', norm=plt.Normalize(vmin=vmin, vmax=vmax))\n",
    "\n",
    "# empty array for the data range\n",
    "sm._A = []\n",
    "\n",
    "# add the colorbar to the figure\n",
    "cbar = fig.colorbar(sm, cax=cax)"
   ]
  },
  {
   "cell_type": "code",
   "execution_count": 557,
   "metadata": {},
   "outputs": [
    {
     "data": {
      "image/png": "[encoded data removed]",
      "text/plain": [
       "<Figure size 1440x1080 with 2 Axes>"
      ]
     },
     "execution_count": 557,
     "metadata": {},
     "output_type": "execute_result"
    }
   ],
   "source": [
    "fig"
   ]
  },
  {
   "cell_type": "code",
   "execution_count": null,
   "metadata": {},
   "outputs": [],
   "source": []
  },
  {
   "cell_type": "code",
   "execution_count": null,
   "metadata": {},
   "outputs": [],
   "source": []
  }
 ],
 "metadata": {
  "kernelspec": {
   "display_name": "Python 3",
   "language": "python",
   "name": "python3"
  },
  "language_info": {
   "codemirror_mode": {
    "name": "ipython",
    "version": 3
   },
   "file_extension": ".py",
   "mimetype": "text/x-python",
   "name": "python",
   "nbconvert_exporter": "python",
   "pygments_lexer": "ipython3",
   "version": "3.7.3"
  }
 },
 "nbformat": 4,
 "nbformat_minor": 2
}
