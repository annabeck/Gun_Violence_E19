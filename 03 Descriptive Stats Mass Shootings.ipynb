{
 "cells": [
  {
   "cell_type": "code",
   "execution_count": 2,
   "metadata": {},
   "outputs": [],
   "source": [
    "from zipfile import ZipFile\n",
    "import numpy as np\n",
    "import pandas as pd\n",
    "import zipfile\n",
    "import re\n",
    "import matplotlib.pyplot as plt\n",
    "from scipy.stats import gaussian_kde\n",
    "%matplotlib inline\n",
    "from matplotlib.pyplot import figure\n",
    "import matplotlib\n",
    "from sklearn.neighbors import KernelDensity\n",
    "import os\n"
   ]
  },
  {
   "cell_type": "code",
   "execution_count": 3,
   "metadata": {},
   "outputs": [
    {
     "name": "stderr",
     "output_type": "stream",
     "text": [
      "/Users/Anna/opt/anaconda3/lib/python3.7/site-packages/IPython/core/interactiveshell.py:3058: DtypeWarning: Columns (19,20,21,22,23,24,25,26,27,28,29,30,31,32,33,34,35,36,37,38,39,40,41,42,43,44,45,46,47,48,49,50,51,52,53,54,55,56,57,58,59,60,61,62,63,64,65,66,67,68,69,70,71,72,73,74,75,76,77,78,79,80,81,82,83,84,85,86,87,88,89,90,91,92,93,94,95,96,97,98,99,100,101,102,103,104,105,106,107,108,109,110,111,112,113,114,115,116,117,118,119,120,121,122,123,124,125,126,127) have mixed types. Specify dtype option on import or set low_memory=False.\n",
      "  interactivity=interactivity, compiler=compiler, result=result)\n"
     ]
    }
   ],
   "source": [
    "zf = zipfile.ZipFile('Data/Data_incidents.csv.zip') \n",
    "data = pd.read_csv('Data/Data_incidents.csv.zip').reset_index()"
   ]
  },
  {
   "cell_type": "markdown",
   "metadata": {},
   "source": [
    "# Plot development of all incidents and mass shooting over time (year-month)"
   ]
  },
  {
   "cell_type": "markdown",
   "metadata": {},
   "source": [
    "### Mass shootings"
   ]
  },
  {
   "cell_type": "code",
   "execution_count": 4,
   "metadata": {},
   "outputs": [],
   "source": [
    "data = data.drop(columns=['index','Unnamed: 0'])"
   ]
  },
  {
   "cell_type": "code",
   "execution_count": 5,
   "metadata": {},
   "outputs": [],
   "source": [
    "mass_shootings = data[data['Mass Shooting']==True]"
   ]
  },
  {
   "cell_type": "code",
   "execution_count": 6,
   "metadata": {},
   "outputs": [],
   "source": [
    "ms_time = mass_shootings.groupby('Date')['incident_id'].nunique()"
   ]
  },
  {
   "cell_type": "code",
   "execution_count": 7,
   "metadata": {},
   "outputs": [],
   "source": [
    "ms_time = ms_time.to_frame()\n",
    "ms_time.reset_index(level=0, inplace=True)"
   ]
  },
  {
   "cell_type": "code",
   "execution_count": 8,
   "metadata": {},
   "outputs": [
    {
     "data": {
      "text/plain": [
       "1352"
      ]
     },
     "execution_count": 8,
     "metadata": {},
     "output_type": "execute_result"
    }
   ],
   "source": [
    "#check sum\n",
    "ms_time['incident_id'].sum()"
   ]
  },
  {
   "cell_type": "code",
   "execution_count": 9,
   "metadata": {},
   "outputs": [],
   "source": [
    "# format date\n",
    "ms_time['date'] = pd.to_datetime(ms_time.Date.str.strip(), format = '%Y-%m-%d')#\n",
    "ms_time=ms_time.drop(columns = 'Date');"
   ]
  },
  {
   "cell_type": "code",
   "execution_count": 10,
   "metadata": {},
   "outputs": [],
   "source": [
    "# Create new date columns\n",
    "ms_time['Year'] = ms_time.date.apply(lambda x: x.year)\n",
    "ms_time['Month'] = ms_time.date.apply(lambda x: x.month)\n",
    "ms_time['Year_Month'] = ms_time.date.apply(lambda x: 100*x.year + x.month)"
   ]
  },
  {
   "cell_type": "code",
   "execution_count": 11,
   "metadata": {},
   "outputs": [],
   "source": [
    "ms_year_month = ms_time.groupby('Year_Month').incident_id.sum()"
   ]
  },
  {
   "cell_type": "code",
   "execution_count": 12,
   "metadata": {},
   "outputs": [],
   "source": [
    "ms_year_month = ms_year_month.to_frame()\n",
    "ms_year_month.reset_index(level=0, inplace=True)\n",
    "ms_year_month.columns = ['Year_Month', 'ms_all']"
   ]
  },
  {
   "cell_type": "markdown",
   "metadata": {},
   "source": [
    "### All incidents"
   ]
  },
  {
   "cell_type": "code",
   "execution_count": 13,
   "metadata": {},
   "outputs": [],
   "source": [
    "inc_all = data.Date\n",
    "inc_all = inc_all.to_frame()\n",
    "inc_all['counts'] = 1"
   ]
  },
  {
   "cell_type": "code",
   "execution_count": 14,
   "metadata": {},
   "outputs": [],
   "source": [
    "inc_all['date'] = pd.to_datetime(inc_all.Date.str.strip(), format = '%Y-%m-%d')#\n",
    "inc_all= inc_all.drop(['Date'], axis=1);"
   ]
  },
  {
   "cell_type": "code",
   "execution_count": 15,
   "metadata": {},
   "outputs": [],
   "source": [
    "inc_all['Year'] = inc_all.date.apply(lambda x: x.year)\n",
    "inc_all['Year_Month'] = inc_all.date.apply(lambda x: 100*x.year + x.month)"
   ]
  },
  {
   "cell_type": "code",
   "execution_count": 16,
   "metadata": {},
   "outputs": [],
   "source": [
    "all_YM = inc_all.groupby('Year_Month').counts.sum()"
   ]
  },
  {
   "cell_type": "code",
   "execution_count": 17,
   "metadata": {},
   "outputs": [],
   "source": [
    "all_YM_pd = all_YM.to_frame()\n",
    "all_YM_pd.reset_index(level=0, inplace=True)\n",
    "all_YM_pd.columns = ['Year_Month', 'inc_all']"
   ]
  },
  {
   "cell_type": "code",
   "execution_count": 18,
   "metadata": {},
   "outputs": [],
   "source": [
    "YM = pd.merge(all_YM_pd, ms_year_month, on='Year_Month')"
   ]
  },
  {
   "cell_type": "code",
   "execution_count": 19,
   "metadata": {},
   "outputs": [],
   "source": [
    "YM.to_csv('Data/YM.csv')\n",
    "# The plot is made in Excel"
   ]
  },
  {
   "cell_type": "markdown",
   "metadata": {},
   "source": [
    "## TABLE OF CHARACTERISTICS"
   ]
  },
  {
   "cell_type": "code",
   "execution_count": 20,
   "metadata": {
    "scrolled": true
   },
   "outputs": [
    {
     "name": "stderr",
     "output_type": "stream",
     "text": [
      "/Users/Anna/opt/anaconda3/lib/python3.7/site-packages/ipykernel_launcher.py:15: FutureWarning: Sorting because non-concatenation axis is not aligned. A future version\n",
      "of pandas will change to not sort by default.\n",
      "\n",
      "To accept the future behavior, pass 'sort=False'.\n",
      "\n",
      "To retain the current behavior and silence the warning, pass 'sort=True'.\n",
      "\n",
      "  from ipykernel import kernelapp as app\n"
     ]
    }
   ],
   "source": [
    "dataframes_gender = []\n",
    "\n",
    "for row in mass_shootings['participant_gender'].fillna(\"0:,\")[:len(mass_shootings)]:\n",
    "    participants = np.array([re.split(r'::?', p) for p in re.split(r'\\|\\|?', row)]).T\n",
    "    #print('participants: ', participants)\n",
    "\n",
    "    data = dict(zip(*participants))\n",
    "    #print('data: ', data)\n",
    "\n",
    "    dataframe = pd.Series(data).to_frame().T\n",
    "    #display(dataframe)\n",
    "\n",
    "    dataframes_gender.append(dataframe)\n",
    "\n",
    "gender = pd.concat(dataframes_gender).reset_index().drop('index', 1).fillna('')"
   ]
  },
  {
   "cell_type": "code",
   "execution_count": 21,
   "metadata": {},
   "outputs": [
    {
     "name": "stderr",
     "output_type": "stream",
     "text": [
      "/Users/Anna/opt/anaconda3/lib/python3.7/site-packages/ipykernel_launcher.py:15: FutureWarning: Sorting because non-concatenation axis is not aligned. A future version\n",
      "of pandas will change to not sort by default.\n",
      "\n",
      "To accept the future behavior, pass 'sort=False'.\n",
      "\n",
      "To retain the current behavior and silence the warning, pass 'sort=True'.\n",
      "\n",
      "  from ipykernel import kernelapp as app\n"
     ]
    }
   ],
   "source": [
    "dataframes_age = []\n",
    "\n",
    "for row in mass_shootings['participant_age'].fillna(\"0:,\")[:len(mass_shootings)]:\n",
    "    participants = np.array([re.split(r'::?', p) for p in re.split(r'\\|\\|?', row)]).T\n",
    "    #print('participants: ', participants)\n",
    "\n",
    "    data = dict(zip(*participants))\n",
    "    #print('data: ', data)\n",
    "\n",
    "    dataframe = pd.Series(data).to_frame().T\n",
    "    #display(dataframe)\n",
    "\n",
    "    dataframes_age.append(dataframe)\n",
    "\n",
    "age = pd.concat(dataframes_age).reset_index().drop('index', 1).fillna('')"
   ]
  },
  {
   "cell_type": "code",
   "execution_count": 22,
   "metadata": {
    "scrolled": true
   },
   "outputs": [
    {
     "name": "stderr",
     "output_type": "stream",
     "text": [
      "/Users/Anna/opt/anaconda3/lib/python3.7/site-packages/ipykernel_launcher.py:12: FutureWarning: Sorting because non-concatenation axis is not aligned. A future version\n",
      "of pandas will change to not sort by default.\n",
      "\n",
      "To accept the future behavior, pass 'sort=False'.\n",
      "\n",
      "To retain the current behavior and silence the warning, pass 'sort=True'.\n",
      "\n",
      "  if sys.path[0] == '':\n"
     ]
    }
   ],
   "source": [
    "dataframes_status = []\n",
    "\n",
    "for row in mass_shootings['participant_status'].fillna(\"0:,\")[:len(mass_shootings)]:\n",
    "    participants = np.array([re.split(r'::?', p) for p in re.split(r'\\|\\|?', row)]).T\n",
    "\n",
    "    data = dict(zip(*participants))\n",
    "\n",
    "    dataframe = pd.Series(data).to_frame().T\n",
    "\n",
    "    dataframes_status.append(dataframe)\n",
    "\n",
    "status = pd.concat(dataframes_status).reset_index().drop('index', 1).fillna('')"
   ]
  },
  {
   "cell_type": "code",
   "execution_count": 23,
   "metadata": {},
   "outputs": [
    {
     "name": "stderr",
     "output_type": "stream",
     "text": [
      "/Users/Anna/opt/anaconda3/lib/python3.7/site-packages/ipykernel_launcher.py:15: FutureWarning: Sorting because non-concatenation axis is not aligned. A future version\n",
      "of pandas will change to not sort by default.\n",
      "\n",
      "To accept the future behavior, pass 'sort=False'.\n",
      "\n",
      "To retain the current behavior and silence the warning, pass 'sort=True'.\n",
      "\n",
      "  from ipykernel import kernelapp as app\n"
     ]
    }
   ],
   "source": [
    "dataframes_type = []\n",
    "\n",
    "for row in mass_shootings['participant_type'].fillna(\"0:,\")[:len(mass_shootings)]:\n",
    "    participants = np.array([re.split(r'::?', p) for p in re.split(r'\\|\\|?', row)]).T\n",
    "    #print('participants: ', participants)\n",
    "\n",
    "    data = dict(zip(*participants))\n",
    "    #print('data: ', data)\n",
    "\n",
    "    dataframe = pd.Series(data).to_frame().T\n",
    "    #display(dataframe)\n",
    "\n",
    "    dataframes_type.append(dataframe)\n",
    "\n",
    "_type = pd.concat(dataframes_type).reset_index().drop('index', 1).fillna('')"
   ]
  },
  {
   "cell_type": "markdown",
   "metadata": {},
   "source": [
    "### Gender of victimes and suspects"
   ]
  },
  {
   "cell_type": "code",
   "execution_count": 24,
   "metadata": {},
   "outputs": [
    {
     "data": {
      "text/plain": [
       "Male, Victim       3834\n",
       "Female, Victim     1479\n",
       "Male, Suspect      1073\n",
       "Female, Suspect      32\n",
       "Victim1            1367\n",
       "Victim2             108\n",
       "Subject             105\n",
       "dtype: int64"
      ]
     },
     "execution_count": 24,
     "metadata": {},
     "output_type": "execute_result"
    }
   ],
   "source": [
    "combined_gender = gender.astype(str).add(',').add(_type.astype(str))\n",
    "com = combined_gender.fillna(',')\n",
    "\n",
    "com['Male, Victim'] = com.apply(lambda row: sum(row[0:-1]=='Male,Victim') ,axis=1)\n",
    "com['Female, Victim'] = com.apply(lambda row: sum(row[0:-1]=='Female,Victim') ,axis=1)\n",
    "com['Male, Suspect'] = com.apply(lambda row: sum(row[0:-1]=='Male,Subject-Suspect') ,axis=1)\n",
    "com['Female, Suspect'] = com.apply(lambda row: sum(row[0:-1]=='Female,Subject-Suspect') ,axis=1)\n",
    "com['Victim1'] = com.apply(lambda row: sum(row[0:-1]==',Victim') ,axis=1)\n",
    "com['Victim2'] = com.apply(lambda row: sum(row[0:-1]==',,Victim') ,axis=1)\n",
    "com['Subject'] = com.apply(lambda row: sum(row[0:-1]==',Subject-Suspect') ,axis=1)\n",
    "\n",
    "com[['Male, Victim','Female, Victim','Male, Suspect','Female, Suspect','Victim1','Victim2','Subject']].sum()"
   ]
  },
  {
   "cell_type": "markdown",
   "metadata": {},
   "source": [
    "### Status of victimes and suspects"
   ]
  },
  {
   "cell_type": "code",
   "execution_count": 25,
   "metadata": {
    "scrolled": true
   },
   "outputs": [
    {
     "data": {
      "text/plain": [
       "Killed, Victim                1426\n",
       "Injured, Victim               5328\n",
       "Unharmed/Arrested, Victim        3\n",
       "Killed, Suspect                 92\n",
       "Injured, Suspect                25\n",
       "Unharmed/Arrested, Suspect     550\n",
       "dtype: int64"
      ]
     },
     "execution_count": 25,
     "metadata": {},
     "output_type": "execute_result"
    }
   ],
   "source": [
    "combined_status = status.astype(str).add(', ').add(_type.astype(str))\n",
    "com_s = combined_status.fillna(',')\n",
    "\n",
    "com_s['Killed, Victim'] = com_s.apply(lambda row: sum(row[0:-1]=='Killed, Victim') ,axis=1)\n",
    "com_s['Injured, Victim'] = com_s.apply(lambda row: sum(row[0:-1]=='Injured, Victim') ,axis=1)\n",
    "com_s['Unharmed/Arrested, Victim'] = com_s.apply(lambda row: sum(row[0:-1]=='Unharmed, Arrested, Victim') ,axis=1)\n",
    "com_s['Killed, Suspect'] = com_s.apply(lambda row: sum(row[0:-1]=='Killed, Subject-Suspect') ,axis=1)\n",
    "com_s['Injured, Suspect'] = com_s.apply(lambda row: sum(row[0:-1]=='Injured, Subject-Suspect') ,axis=1)\n",
    "com_s['Unharmed/Arrested, Suspect'] = com_s.apply(lambda row: sum(row[0:-1]=='Unharmed, Arrested, Subject-Suspect') ,axis=1)\n",
    "\n",
    "com_s[['Killed, Victim', 'Injured, Victim','Unharmed/Arrested, Victim','Killed, Suspect','Injured, Suspect','Unharmed/Arrested, Suspect']].sum()"
   ]
  },
  {
   "cell_type": "markdown",
   "metadata": {},
   "source": [
    "### Combined gender and status"
   ]
  },
  {
   "cell_type": "code",
   "execution_count": 26,
   "metadata": {
    "scrolled": true
   },
   "outputs": [
    {
     "data": {
      "text/plain": [
       "Male, Killed       1074\n",
       "Female, Killed      417\n",
       "Male, Injured      2837\n",
       "Female, Injured    1057\n",
       "dtype: int64"
      ]
     },
     "execution_count": 26,
     "metadata": {},
     "output_type": "execute_result"
    }
   ],
   "source": [
    "combined_gender_status = gender.astype(str).add(',').add(status.astype(str)) #.add(', ').add(status.astype(str))\n",
    "com_gs = combined_gender_status.fillna(',')\n",
    "\n",
    "com_gs['Male, Killed'] = com_gs.apply(lambda row: sum(row[0:103]=='Male,Killed') ,axis=1)\n",
    "com_gs['Female, Killed'] = com_gs.apply(lambda row: sum(row[0:103]=='Female,Killed') ,axis=1)\n",
    "com_gs['Male, Injured'] = com_gs.apply(lambda row: sum(row[0:103]=='Male,Injured') ,axis=1)\n",
    "com_gs['Female, Injured'] = com_gs.apply(lambda row: sum(row[0:103]=='Female,Injured') ,axis=1)\n",
    "#com_gs['Victim1'] = com_gs.apply(lambda row: sum(row[0:103]==',Victim') ,axis=1)\n",
    "#com_gs['Victim2'] = com_gs.apply(lambda row: sum(row[0:103]==',,Victim') ,axis=1)\n",
    "#com_gs['Subject'] = com_gs.apply(lambda row: sum(row[0:103]==',Subject-Suspect') ,axis=1)\n",
    "\n",
    "com_gs[['Male, Killed','Female, Killed','Male, Injured','Female, Injured']].sum()"
   ]
  },
  {
   "cell_type": "markdown",
   "metadata": {},
   "source": [
    "# Most frequent characteristics"
   ]
  },
  {
   "cell_type": "code",
   "execution_count": 109,
   "metadata": {},
   "outputs": [],
   "source": [
    "df_incidents = mass_shootings.iloc[:, list(range(18,127))]\n",
    "incidents = []\n",
    "\n",
    "for col in df_incidents.columns: \n",
    "    incidents.append(col)"
   ]
  },
  {
   "cell_type": "code",
   "execution_count": 111,
   "metadata": {},
   "outputs": [],
   "source": [
    "char = pd.DataFrame(mass_shootings[incidents].sum())\n",
    "char.columns = ['count']\n",
    "char = char[char['count'] >= 50]"
   ]
  },
  {
   "cell_type": "code",
   "execution_count": 112,
   "metadata": {
    "scrolled": true
   },
   "outputs": [
    {
     "data": {
      "text/html": [
       "<div>\n",
       "<style scoped>\n",
       "    .dataframe tbody tr th:only-of-type {\n",
       "        vertical-align: middle;\n",
       "    }\n",
       "\n",
       "    .dataframe tbody tr th {\n",
       "        vertical-align: top;\n",
       "    }\n",
       "\n",
       "    .dataframe thead th {\n",
       "        text-align: right;\n",
       "    }\n",
       "</style>\n",
       "<table border=\"1\" class=\"dataframe\">\n",
       "  <thead>\n",
       "    <tr style=\"text-align: right;\">\n",
       "      <th></th>\n",
       "      <th>count</th>\n",
       "    </tr>\n",
       "  </thead>\n",
       "  <tbody>\n",
       "    <tr>\n",
       "      <td>Mass Shooting</td>\n",
       "      <td>1352.0</td>\n",
       "    </tr>\n",
       "    <tr>\n",
       "      <td>Shot - Wounded/Injured</td>\n",
       "      <td>1290.0</td>\n",
       "    </tr>\n",
       "    <tr>\n",
       "      <td>Shot - Dead</td>\n",
       "      <td>708.0</td>\n",
       "    </tr>\n",
       "    <tr>\n",
       "      <td>Bar/club incident - in or around establishment</td>\n",
       "      <td>228.0</td>\n",
       "    </tr>\n",
       "    <tr>\n",
       "      <td>Drive-by</td>\n",
       "      <td>213.0</td>\n",
       "    </tr>\n",
       "    <tr>\n",
       "      <td>Gang involvement</td>\n",
       "      <td>157.0</td>\n",
       "    </tr>\n",
       "    <tr>\n",
       "      <td>Possession</td>\n",
       "      <td>137.0</td>\n",
       "    </tr>\n",
       "    <tr>\n",
       "      <td>Domestic Violence</td>\n",
       "      <td>93.0</td>\n",
       "    </tr>\n",
       "    <tr>\n",
       "      <td>Institution/Group/Business</td>\n",
       "      <td>87.0</td>\n",
       "    </tr>\n",
       "    <tr>\n",
       "      <td>Mass Murder</td>\n",
       "      <td>80.0</td>\n",
       "    </tr>\n",
       "    <tr>\n",
       "      <td>Possession of gun by felon or prohibited person</td>\n",
       "      <td>79.0</td>\n",
       "    </tr>\n",
       "    <tr>\n",
       "      <td>Officer Involved Incident</td>\n",
       "      <td>70.0</td>\n",
       "    </tr>\n",
       "    <tr>\n",
       "      <td>Suicide</td>\n",
       "      <td>58.0</td>\n",
       "    </tr>\n",
       "    <tr>\n",
       "      <td>House party</td>\n",
       "      <td>57.0</td>\n",
       "    </tr>\n",
       "    <tr>\n",
       "      <td>Murder/Suicide</td>\n",
       "      <td>54.0</td>\n",
       "    </tr>\n",
       "    <tr>\n",
       "      <td>Child Involved Incident</td>\n",
       "      <td>53.0</td>\n",
       "    </tr>\n",
       "    <tr>\n",
       "      <td>Drug involvement</td>\n",
       "      <td>51.0</td>\n",
       "    </tr>\n",
       "    <tr>\n",
       "      <td>Shootout</td>\n",
       "      <td>51.0</td>\n",
       "    </tr>\n",
       "  </tbody>\n",
       "</table>\n",
       "</div>"
      ],
      "text/plain": [
       "                                                  count\n",
       "Mass Shooting                                    1352.0\n",
       "Shot - Wounded/Injured                           1290.0\n",
       "Shot - Dead                                       708.0\n",
       "Bar/club incident - in or around establishment    228.0\n",
       "Drive-by                                          213.0\n",
       "Gang involvement                                  157.0\n",
       "Possession                                        137.0\n",
       "Domestic Violence                                  93.0\n",
       "Institution/Group/Business                         87.0\n",
       "Mass Murder                                        80.0\n",
       "Possession of gun by felon or prohibited person    79.0\n",
       "Officer Involved Incident                          70.0\n",
       "Suicide                                            58.0\n",
       "House party                                        57.0\n",
       "Murder/Suicide                                     54.0\n",
       "Child Involved Incident                            53.0\n",
       "Drug involvement                                   51.0\n",
       "Shootout                                           51.0"
      ]
     },
     "execution_count": 112,
     "metadata": {},
     "output_type": "execute_result"
    }
   ],
   "source": [
    "char.sort_values('count', ascending=False)"
   ]
  }
 ],
 "metadata": {
  "kernelspec": {
   "display_name": "Python 3",
   "language": "python",
   "name": "python3"
  },
  "language_info": {
   "codemirror_mode": {
    "name": "ipython",
    "version": 3
   },
   "file_extension": ".py",
   "mimetype": "text/x-python",
   "name": "python",
   "nbconvert_exporter": "python",
   "pygments_lexer": "ipython3",
   "version": "3.7.4"
  }
 },
 "nbformat": 4,
 "nbformat_minor": 4
}
