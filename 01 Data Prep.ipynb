{
 "cells": [
  {
   "cell_type": "code",
   "execution_count": 1,
   "metadata": {},
   "outputs": [],
   "source": [
    "from zipfile import ZipFile\n",
    "import numpy as np"
   ]
  },
  {
   "cell_type": "code",
   "execution_count": 21,
   "metadata": {},
   "outputs": [],
   "source": [
    "import pandas as pd\n",
    "import zipfile\n",
    "import re\n",
    "\n",
    "zf = zipfile.ZipFile('Rawdata/gun-violence-data_01-2013_03-2018.csv.zip') \n",
    "df = pd.read_csv('Rawdata/gun-violence-data_01-2013_03-2018.csv.zip')"
   ]
  },
  {
   "cell_type": "code",
   "execution_count": 16,
   "metadata": {},
   "outputs": [
    {
     "name": "stdout",
     "output_type": "stream",
     "text": [
      "incident_id\n",
      "date\n",
      "state\n",
      "city_or_county\n",
      "address\n",
      "n_killed\n",
      "n_injured\n",
      "incident_url\n",
      "source_url\n",
      "incident_url_fields_missing\n",
      "congressional_district\n",
      "gun_stolen\n",
      "gun_type\n",
      "incident_characteristics\n",
      "latitude\n",
      "location_description\n",
      "longitude\n",
      "n_guns_involved\n",
      "notes\n",
      "participant_age\n",
      "participant_age_group\n",
      "participant_gender\n",
      "participant_name\n",
      "participant_relationship\n",
      "participant_status\n",
      "participant_type\n",
      "sources\n",
      "state_house_district\n",
      "state_senate_district\n"
     ]
    }
   ],
   "source": [
    "for col in df.columns: \n",
    "    print(col)"
   ]
  },
  {
   "cell_type": "code",
   "execution_count": 22,
   "metadata": {},
   "outputs": [
    {
     "data": {
      "text/plain": [
       "239677"
      ]
     },
     "execution_count": 22,
     "metadata": {},
     "output_type": "execute_result"
    }
   ],
   "source": [
    "len(df)"
   ]
  },
  {
   "cell_type": "code",
   "execution_count": 23,
   "metadata": {},
   "outputs": [],
   "source": [
    "## DROP ROW WITH NO LATITUDE/LONGITUDE DATA\n",
    "df = df.dropna(subset=['latitude'])"
   ]
  },
  {
   "cell_type": "markdown",
   "metadata": {},
   "source": [
    "### Removing Alaska, Hawaii and District of Columbia"
   ]
  },
  {
   "cell_type": "code",
   "execution_count": 26,
   "metadata": {},
   "outputs": [
    {
     "data": {
      "text/plain": [
       "array(['Pennsylvania', 'California', 'Ohio', 'Colorado', 'North Carolina',\n",
       "       'Oklahoma', 'New Mexico', 'Louisiana', 'Maryland', 'Tennessee',\n",
       "       'Missouri', 'Illinois', 'Delaware', 'Utah', 'Michigan', 'Georgia',\n",
       "       'Indiana', 'Mississippi', 'New York', 'Florida', 'Washington',\n",
       "       'South Carolina', 'Arizona', 'Kentucky', 'New Jersey', 'Virginia',\n",
       "       'Wisconsin', 'Rhode Island', 'Texas', 'Alabama', 'Kansas',\n",
       "       'Connecticut', 'West Virginia', 'Minnesota', 'Nevada', 'Nebraska',\n",
       "       'Massachusetts', 'New Hampshire', 'Iowa', 'Arkansas', 'Idaho',\n",
       "       'Oregon', 'Wyoming', 'Maine', 'North Dakota', 'Montana', 'Vermont',\n",
       "       'South Dakota'], dtype=object)"
      ]
     },
     "execution_count": 26,
     "metadata": {},
     "output_type": "execute_result"
    }
   ],
   "source": [
    "df = df[df['state']!='Alaska']\n",
    "df = df[df['state']!='Hawaii']\n",
    "df = df[df['state']!='District of Columbia']\n",
    "df['state'].unique()"
   ]
  },
  {
   "cell_type": "code",
   "execution_count": 27,
   "metadata": {},
   "outputs": [],
   "source": [
    "df['Date'] = pd.to_datetime(df.date.str.strip(), format = '%Y-%m-%d') # make date time\n",
    "df = df.drop(columns = 'date')"
   ]
  },
  {
   "cell_type": "code",
   "execution_count": 28,
   "metadata": {},
   "outputs": [],
   "source": [
    "df['Year'] = df.Date.apply(lambda x: x.year)"
   ]
  },
  {
   "cell_type": "markdown",
   "metadata": {},
   "source": [
    "### Drops irrelevant columns and data from 2013"
   ]
  },
  {
   "cell_type": "code",
   "execution_count": 29,
   "metadata": {},
   "outputs": [],
   "source": [
    "df = df[df['Year']!= 2013]\n",
    "\n",
    "df = df.drop(columns = ['address', 'incident_url','source_url','incident_url_fields_missing', 'congressional_district',\n",
    "                        'gun_stolen','gun_type', 'notes', 'n_guns_involved','sources', 'state_house_district', 'state_senate_district'])\n"
   ]
  },
  {
   "cell_type": "code",
   "execution_count": 30,
   "metadata": {},
   "outputs": [],
   "source": [
    "df = df.reset_index()\n",
    "df = df.drop(columns = 'index')"
   ]
  },
  {
   "cell_type": "markdown",
   "metadata": {},
   "source": [
    "## Splitting incident characteristics and matching with incident ID "
   ]
  },
  {
   "cell_type": "code",
   "execution_count": null,
   "metadata": {},
   "outputs": [],
   "source": [
    "id_incident = []\n",
    "\n",
    "for i in range(len(df)):\n",
    "    id_ = df['incident_id'][i]\n",
    "    id_2 = np.array(id_)\n",
    "    incident = df['incident_characteristics'][i]\n",
    "    if pd.isnull(incident) == True: \n",
    "        continue\n",
    "    else:\n",
    "        incident2 = np.array([re.split(r'\\|\\|?',p) for p in re.split(r'\\|\\|?', incident)]).T\n",
    "        test = np.c_[id_2, incident2]\n",
    "        df_test = pd.DataFrame(test)\n",
    "        id_incident.append(df_test)\n",
    "\n",
    "               \n",
    "incidents = pd.concat(id_incident).reset_index().drop('index', 1)"
   ]
  },
  {
   "cell_type": "code",
   "execution_count": null,
   "metadata": {},
   "outputs": [],
   "source": [
    "incidents.head()\n",
    "print(incidents.shape)\n",
    "print(df.shape)\n",
    "len(df)-len(incidents)"
   ]
  },
  {
   "cell_type": "code",
   "execution_count": null,
   "metadata": {},
   "outputs": [],
   "source": [
    "incidents['MISSING']= incidents.apply(lambda x: x.isnull().sum(), axis='columns')\n",
    "incidents.head(2)\n",
    "incidents.loc[incidents['MISSING'] == 0]"
   ]
  },
  {
   "cell_type": "code",
   "execution_count": null,
   "metadata": {},
   "outputs": [],
   "source": [
    "incidents.columns = ['A','B','C','D','E','F','G','H','I','J','K','L','M','N','O','P','Q','R','S','T','U']"
   ]
  },
  {
   "cell_type": "markdown",
   "metadata": {},
   "source": [
    "## Identifying the unique values in incident characteristics"
   ]
  },
  {
   "cell_type": "code",
   "execution_count": null,
   "metadata": {},
   "outputs": [],
   "source": [
    "stacked = incidents[['B','C','D','E','F','G','H','I','J','K','L','M','N','O','P','Q','R','S','T']].stack()\n",
    "unikke = stacked.unique()\n",
    "unikke"
   ]
  },
  {
   "cell_type": "code",
   "execution_count": null,
   "metadata": {},
   "outputs": [],
   "source": [
    "unikke2 = ['Shot - Wounded/Injured',\n",
    "       'Mass Shooting',\n",
    "       'Possession',\n",
    "       'Possession of gun by felon or prohibited person',\n",
    "       'Shot - Dead', 'Gang involvement',\n",
    "       'Shots Fired - No Injuries',\n",
    "       'Bar/club incident - in or around establishment',\n",
    "       'Officer Involved Incident',\n",
    "       'Officer Involved Shooting - subject/suspect/perpetrator killed',\n",
    "       'Drug involvement', 'Kidnapping/abductions/hostage',\n",
    "       'Under the influence of alcohol or drugs',\n",
    "       'Suicide', 'Murder/Suicide',\n",
    "       'Attempted Murder/Suicide',\n",
    "       'Domestic Violence', 'Home Invasion',\n",
    "       'Home Invasion - Resident killed',\n",
    "       'Armed robbery with injury/death and/or evidence of DGU found',\n",
    "       'Drive-by',\n",
    "       'Officer Involved Shooting - Officer shot',\n",
    "       'Officer Involved Shooting - Officer killed',\n",
    "       'Officer Involved Shooting - subject/suspect/perpetrator shot',\n",
    "       'Officer Involved Shooting - subject/suspect/perpetrator suicide at standoff',\n",
    "       'Spree Shooting',\n",
    "       'Institution/Group/Business', 'Animal shot/killed',\n",
    "       'Home Invasion - Resident injured',\n",
    "       'Mass Murder',\n",
    "       'Concealed Carry License - Perpetrator',\n",
    "       'Stolen/Illegally owned',\n",
    "       'School Incident', 'School Shooting - university/college',\n",
    "       'Car-jacking', 'Hate crime', 'House party', 'Defensive Use',\n",
    "       'Defensive Use - Crime occurs, victim shoots subject/suspect/perpetrator',\n",
    "       'Defensive Use - Victim stops crime',\n",
    "       'Workplace shooting',\n",
    "       'Assault weapon',\n",
    "       'Pistol-whipping', 'Implied Weapon', 'Accidental Shooting',\n",
    "       'Accidental Shooting - Injury', 'Cleaning gun',\n",
    "       'Brandishing/flourishing/open carry/lost/found',\n",
    "       'Non-Shooting Incident', 'ATF/LE Confiscation/Raid/Arrest',\n",
    "       'Unlawful purchase/sale', 'Accidental Shooting - Death',\n",
    "       'BB/Pellet/Replica gun', 'Hunting accident', 'Road rage',\n",
    "       'Home Invasion - No death or injury',\n",
    "       'Accidental/Negligent Discharge',\n",
    "       'Shots fired, no action',\n",
    "       'Sex crime involving firearm', 'TSA Action',\n",
    "       'Thought gun was unloaded', 'stolen from owner',\n",
    "       'Gun range/gun shop/gun show shooting',\n",
    "       'Home Invasion - subject/suspect/perpetrator killed',\n",
    "       'Home Invasion - subject/suspect/perpetrator injured',\n",
    "       'Child Involved Incident', 'Child injured self',\n",
    "       'Suicide - Attempt', 'Child killed by child',\n",
    "       'Self-Inflicted',\n",
    "       'School Shooting - elementary/secondary school',\n",
    "       'Officer Involved Incident - Weapon involved but no shots fired',\n",
    "       'Defensive Use - Shots fired, no injury/death',\n",
    "       'Concealed Carry License - Victim',\n",
    "       'Officer Involved Shooting - Shots fired, no injury',\n",
    "       'Accidental Shooting at a Business',\n",
    "       'Criminal act with stolen gun', 'Child killed self',\n",
    "       'Child picked up & fired gun',\n",
    "       'Gun at school, no death/injury - elementary/secondary school',\n",
    "       'Gun at school, no death/injury - university/college',\n",
    "       'Non-Aggression Incident', 'Defensive Use - WITHOUT a gun',\n",
    "       'Police Targeted',\n",
    "       'Defensive Use - Stand Your Ground/Castle Doctrine established',\n",
    "       'Playing with gun', 'Child injured by child',\n",
    "       'Officer Involved Shooting - subject/suspect/perpetrator unarmed',\n",
    "       'ShotSpotter',\n",
    "       'Officer Involved Shooting - subject/suspect/perpetrator surrender at standoff',\n",
    "       'Defensive Use - Good Samaritan/Third Party',\n",
    "       'LOCKDOWN/ALERT ONLY: No GV Incident Occurred Onsite',\n",
    "       'Child killed',\n",
    "       'Child with gun - no shots fired', 'Gun shop robbery or burglary',\n",
    "       'Shootout',\n",
    "       'Guns stolen from law enforcement',\n",
    "       'Defensive use - No shots fired',\n",
    "       'Officer Involved Shooting - Bystander shot',\n",
    "       'Officer Involved Shooting - Bystander killed',\n",
    "       'Child injured', 'Gun buy back action',\n",
    "       'Terrorism Involvement',\n",
    "       'Officer Involved Shooting - Accidental discharge - no injury required',\n",
    "       'Mistaken ID ',\n",
    "       'Officer Involved Shooting - subject/suspect/perpetrator suicide by cop',\n",
    "       'Ghost gun', 'Political Violence', 'NAV']"
   ]
  },
  {
   "cell_type": "markdown",
   "metadata": {},
   "source": [
    "## Creating columns for each incident"
   ]
  },
  {
   "cell_type": "code",
   "execution_count": null,
   "metadata": {},
   "outputs": [],
   "source": [
    "for i in unikke2: \n",
    "    df[i] = df.incident_characteristics.str.contains(i)"
   ]
  },
  {
   "cell_type": "markdown",
   "metadata": {},
   "source": [
    "## Making table with incidents"
   ]
  },
  {
   "cell_type": "code",
   "execution_count": 79,
   "metadata": {},
   "outputs": [],
   "source": [
    "# Tjekker om vi har identificeret de rigtig variable \n",
    "col = [('False',[]),('True',[])]\n",
    "\n",
    "\n",
    "for i in unikke2:    \n",
    "    s = df[i].value_counts()\n",
    "    s1 = list(s)\n",
    "    for j in range(2): \n",
    "        col[j][1].append(s1[j])\n",
    "    "
   ]
  },
  {
   "cell_type": "code",
   "execution_count": 80,
   "metadata": {},
   "outputs": [],
   "source": [
    "Dict = {title:column for (title,column) in col}\n",
    "di = pd.DataFrame(Dict) #Tabel der viser, hvor mange incidents der er \n",
    "nv_incident = pd.DataFrame(unikke)\n",
    "di['Name']=pd.DataFrame(nv_incident, index = di.index)\n",
    "di = di[['Name','False','True']]\n"
   ]
  },
  {
   "cell_type": "code",
   "execution_count": 81,
   "metadata": {},
   "outputs": [
    {
     "data": {
      "text/html": [
       "<div>\n",
       "<style scoped>\n",
       "    .dataframe tbody tr th:only-of-type {\n",
       "        vertical-align: middle;\n",
       "    }\n",
       "\n",
       "    .dataframe tbody tr th {\n",
       "        vertical-align: top;\n",
       "    }\n",
       "\n",
       "    .dataframe thead th {\n",
       "        text-align: right;\n",
       "    }\n",
       "</style>\n",
       "<table border=\"1\" class=\"dataframe\">\n",
       "  <thead>\n",
       "    <tr style=\"text-align: right;\">\n",
       "      <th></th>\n",
       "      <th>Name</th>\n",
       "      <th>False</th>\n",
       "      <th>True</th>\n",
       "    </tr>\n",
       "  </thead>\n",
       "  <tbody>\n",
       "    <tr>\n",
       "      <td>0</td>\n",
       "      <td>Shots Fired - No Injuries</td>\n",
       "      <td>142045</td>\n",
       "      <td>92206</td>\n",
       "    </tr>\n",
       "    <tr>\n",
       "      <td>4</td>\n",
       "      <td>Drive-by (car to street, car to car)</td>\n",
       "      <td>181716</td>\n",
       "      <td>52535</td>\n",
       "    </tr>\n",
       "    <tr>\n",
       "      <td>48</td>\n",
       "      <td>Child injured self</td>\n",
       "      <td>190923</td>\n",
       "      <td>43328</td>\n",
       "    </tr>\n",
       "    <tr>\n",
       "      <td>2</td>\n",
       "      <td>Shot - Dead (murder, accidental, suicide)</td>\n",
       "      <td>195956</td>\n",
       "      <td>38295</td>\n",
       "    </tr>\n",
       "    <tr>\n",
       "      <td>6</td>\n",
       "      <td>Implied Weapon</td>\n",
       "      <td>199070</td>\n",
       "      <td>35181</td>\n",
       "    </tr>\n",
       "    <tr>\n",
       "      <td>...</td>\n",
       "      <td>...</td>\n",
       "      <td>...</td>\n",
       "      <td>...</td>\n",
       "    </tr>\n",
       "    <tr>\n",
       "      <td>104</td>\n",
       "      <td>Mistaken ID (thought it was an intruder/threat...</td>\n",
       "      <td>234171</td>\n",
       "      <td>80</td>\n",
       "    </tr>\n",
       "    <tr>\n",
       "      <td>99</td>\n",
       "      <td>Child injured (not child shooter)</td>\n",
       "      <td>234220</td>\n",
       "      <td>31</td>\n",
       "    </tr>\n",
       "    <tr>\n",
       "      <td>102</td>\n",
       "      <td>Concealed Carry License - Perpetrator</td>\n",
       "      <td>234221</td>\n",
       "      <td>30</td>\n",
       "    </tr>\n",
       "    <tr>\n",
       "      <td>107</td>\n",
       "      <td>Political Violence</td>\n",
       "      <td>234238</td>\n",
       "      <td>13</td>\n",
       "    </tr>\n",
       "    <tr>\n",
       "      <td>108</td>\n",
       "      <td>NAV</td>\n",
       "      <td>234249</td>\n",
       "      <td>2</td>\n",
       "    </tr>\n",
       "  </tbody>\n",
       "</table>\n",
       "<p>109 rows × 3 columns</p>\n",
       "</div>"
      ],
      "text/plain": [
       "                                                  Name   False   True\n",
       "0                            Shots Fired - No Injuries  142045  92206\n",
       "4                 Drive-by (car to street, car to car)  181716  52535\n",
       "48                                  Child injured self  190923  43328\n",
       "2            Shot - Dead (murder, accidental, suicide)  195956  38295\n",
       "6                                       Implied Weapon  199070  35181\n",
       "..                                                 ...     ...    ...\n",
       "104  Mistaken ID (thought it was an intruder/threat...  234171     80\n",
       "99                   Child injured (not child shooter)  234220     31\n",
       "102              Concealed Carry License - Perpetrator  234221     30\n",
       "107                                 Political Violence  234238     13\n",
       "108                                                NAV  234249      2\n",
       "\n",
       "[109 rows x 3 columns]"
      ]
     },
     "execution_count": 81,
     "metadata": {},
     "output_type": "execute_result"
    }
   ],
   "source": [
    "di.sort_values(by=['True'], ascending = False)"
   ]
  },
  {
   "cell_type": "code",
   "execution_count": 90,
   "metadata": {},
   "outputs": [],
   "source": [
    "\n"
   ]
  },
  {
   "cell_type": "markdown",
   "metadata": {},
   "source": [
    "## Saving CSV"
   ]
  },
  {
   "cell_type": "code",
   "execution_count": 22,
   "metadata": {},
   "outputs": [],
   "source": [
    "df.to_csv('Data/Data_incidents.csv.zip', index = True, sep = ',', compression = 'zip')"
   ]
  }
 ],
 "metadata": {
  "kernelspec": {
   "display_name": "Python 3",
   "language": "python",
   "name": "python3"
  },
  "language_info": {
   "codemirror_mode": {
    "name": "ipython",
    "version": 3
   },
   "file_extension": ".py",
   "mimetype": "text/x-python",
   "name": "python",
   "nbconvert_exporter": "python",
   "pygments_lexer": "ipython3",
   "version": "3.7.4"
  }
 },
 "nbformat": 4,
 "nbformat_minor": 4
}
