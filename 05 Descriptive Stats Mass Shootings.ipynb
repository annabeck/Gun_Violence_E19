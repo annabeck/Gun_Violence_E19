{
 "cells": [
  {
   "cell_type": "code",
   "execution_count": 1,
   "metadata": {},
   "outputs": [],
   "source": [
    "from zipfile import ZipFile\n",
    "import numpy as np\n",
    "import pandas as pd\n",
    "import zipfile\n",
    "import re\n",
    "import matplotlib.pyplot as plt\n",
    "from scipy.stats import gaussian_kde\n",
    "%matplotlib inline\n",
    "from matplotlib.pyplot import figure\n",
    "import matplotlib\n",
    "from sklearn.neighbors import KernelDensity\n",
    "import os\n"
   ]
  },
  {
   "cell_type": "code",
   "execution_count": 2,
   "metadata": {},
   "outputs": [
    {
     "name": "stderr",
     "output_type": "stream",
     "text": [
      "/Users/Anna/opt/anaconda3/lib/python3.7/site-packages/IPython/core/interactiveshell.py:3058: DtypeWarning: Columns (19,20,21,22,23,24,25,26,27,28,29,30,31,32,33,34,35,36,37,38,39,40,41,42,43,44,45,46,47,48,49,50,51,52,53,54,55,56,57,58,59,60,61,62,63,64,65,66,67,68,69,70,71,72,73,74,75,76,77,78,79,80,81,82,83,84,85,86,87,88,89,90,91,92,93,94,95,96,97,98,99,100,101,102,103,104,105,106,107,108,109,110,111,112,113,114,115,116,117,118,119,120,121,122,123,124,125,126,127) have mixed types. Specify dtype option on import or set low_memory=False.\n",
      "  interactivity=interactivity, compiler=compiler, result=result)\n"
     ]
    }
   ],
   "source": [
    "zf = zipfile.ZipFile('Data/Data_incidents.csv.zip') \n",
    "data = pd.read_csv('Data/Data_incidents.csv.zip').reset_index()"
   ]
  },
  {
   "cell_type": "markdown",
   "metadata": {},
   "source": [
    "## Extract mass shooting incidents"
   ]
  },
  {
   "cell_type": "code",
   "execution_count": 3,
   "metadata": {},
   "outputs": [],
   "source": [
    "data = data.drop(columns=['index','Unnamed: 0'])"
   ]
  },
  {
   "cell_type": "code",
   "execution_count": 4,
   "metadata": {},
   "outputs": [],
   "source": [
    "mass_shootings = data[data['Mass Shooting']==True]"
   ]
  },
  {
   "cell_type": "code",
   "execution_count": 6,
   "metadata": {},
   "outputs": [
    {
     "data": {
      "text/plain": [
       "1352"
      ]
     },
     "execution_count": 6,
     "metadata": {},
     "output_type": "execute_result"
    }
   ],
   "source": [
    "len(mass_shootings)"
   ]
  },
  {
   "cell_type": "markdown",
   "metadata": {},
   "source": [
    "## Incidents over time"
   ]
  },
  {
   "cell_type": "code",
   "execution_count": 5,
   "metadata": {},
   "outputs": [
    {
     "data": {
      "text/plain": [
       "Date\n",
       "2014-01-01    1\n",
       "2014-01-03    1\n",
       "2014-01-12    3\n",
       "2014-01-13    1\n",
       "2014-01-14    1\n",
       "             ..\n",
       "2018-03-17    2\n",
       "2018-03-21    1\n",
       "2018-03-24    1\n",
       "2018-03-29    2\n",
       "2018-03-31    1\n",
       "Name: incident_id, Length: 808, dtype: int64"
      ]
     },
     "execution_count": 5,
     "metadata": {},
     "output_type": "execute_result"
    }
   ],
   "source": [
    "ms_time = mass_shootings.groupby('Date')['incident_id'].nunique()\n",
    "ms_time"
   ]
  },
  {
   "cell_type": "code",
   "execution_count": 6,
   "metadata": {},
   "outputs": [],
   "source": [
    "ms_time = ms_time.to_frame()\n",
    "ms_time.reset_index(level=0, inplace=True)"
   ]
  },
  {
   "cell_type": "code",
   "execution_count": 7,
   "metadata": {},
   "outputs": [
    {
     "data": {
      "text/html": [
       "<div>\n",
       "<style scoped>\n",
       "    .dataframe tbody tr th:only-of-type {\n",
       "        vertical-align: middle;\n",
       "    }\n",
       "\n",
       "    .dataframe tbody tr th {\n",
       "        vertical-align: top;\n",
       "    }\n",
       "\n",
       "    .dataframe thead th {\n",
       "        text-align: right;\n",
       "    }\n",
       "</style>\n",
       "<table border=\"1\" class=\"dataframe\">\n",
       "  <thead>\n",
       "    <tr style=\"text-align: right;\">\n",
       "      <th></th>\n",
       "      <th>Date</th>\n",
       "      <th>incident_id</th>\n",
       "    </tr>\n",
       "  </thead>\n",
       "  <tbody>\n",
       "    <tr>\n",
       "      <td>0</td>\n",
       "      <td>2014-01-01</td>\n",
       "      <td>1</td>\n",
       "    </tr>\n",
       "    <tr>\n",
       "      <td>1</td>\n",
       "      <td>2014-01-03</td>\n",
       "      <td>1</td>\n",
       "    </tr>\n",
       "    <tr>\n",
       "      <td>2</td>\n",
       "      <td>2014-01-12</td>\n",
       "      <td>3</td>\n",
       "    </tr>\n",
       "    <tr>\n",
       "      <td>3</td>\n",
       "      <td>2014-01-13</td>\n",
       "      <td>1</td>\n",
       "    </tr>\n",
       "    <tr>\n",
       "      <td>4</td>\n",
       "      <td>2014-01-14</td>\n",
       "      <td>1</td>\n",
       "    </tr>\n",
       "    <tr>\n",
       "      <td>...</td>\n",
       "      <td>...</td>\n",
       "      <td>...</td>\n",
       "    </tr>\n",
       "    <tr>\n",
       "      <td>803</td>\n",
       "      <td>2018-03-17</td>\n",
       "      <td>2</td>\n",
       "    </tr>\n",
       "    <tr>\n",
       "      <td>804</td>\n",
       "      <td>2018-03-21</td>\n",
       "      <td>1</td>\n",
       "    </tr>\n",
       "    <tr>\n",
       "      <td>805</td>\n",
       "      <td>2018-03-24</td>\n",
       "      <td>1</td>\n",
       "    </tr>\n",
       "    <tr>\n",
       "      <td>806</td>\n",
       "      <td>2018-03-29</td>\n",
       "      <td>2</td>\n",
       "    </tr>\n",
       "    <tr>\n",
       "      <td>807</td>\n",
       "      <td>2018-03-31</td>\n",
       "      <td>1</td>\n",
       "    </tr>\n",
       "  </tbody>\n",
       "</table>\n",
       "<p>808 rows × 2 columns</p>\n",
       "</div>"
      ],
      "text/plain": [
       "           Date  incident_id\n",
       "0    2014-01-01            1\n",
       "1    2014-01-03            1\n",
       "2    2014-01-12            3\n",
       "3    2014-01-13            1\n",
       "4    2014-01-14            1\n",
       "..          ...          ...\n",
       "803  2018-03-17            2\n",
       "804  2018-03-21            1\n",
       "805  2018-03-24            1\n",
       "806  2018-03-29            2\n",
       "807  2018-03-31            1\n",
       "\n",
       "[808 rows x 2 columns]"
      ]
     },
     "execution_count": 7,
     "metadata": {},
     "output_type": "execute_result"
    }
   ],
   "source": [
    "ms_time"
   ]
  },
  {
   "cell_type": "code",
   "execution_count": 8,
   "metadata": {},
   "outputs": [
    {
     "data": {
      "text/plain": [
       "1363"
      ]
     },
     "execution_count": 8,
     "metadata": {},
     "output_type": "execute_result"
    }
   ],
   "source": [
    "#check sum\n",
    "ms_time['incident_id'].sum()"
   ]
  },
  {
   "cell_type": "code",
   "execution_count": 28,
   "metadata": {},
   "outputs": [
    {
     "ename": "NameError",
     "evalue": "name 'ms_time' is not defined",
     "output_type": "error",
     "traceback": [
      "\u001b[0;31m---------------------------------------------------------------------------\u001b[0m",
      "\u001b[0;31mNameError\u001b[0m                                 Traceback (most recent call last)",
      "\u001b[0;32m<ipython-input-28-77b6b8664d0f>\u001b[0m in \u001b[0;36m<module>\u001b[0;34m\u001b[0m\n\u001b[1;32m      1\u001b[0m \u001b[0;31m# format date\u001b[0m\u001b[0;34m\u001b[0m\u001b[0;34m\u001b[0m\u001b[0;34m\u001b[0m\u001b[0m\n\u001b[0;32m----> 2\u001b[0;31m \u001b[0mms_time\u001b[0m\u001b[0;34m[\u001b[0m\u001b[0;34m'date'\u001b[0m\u001b[0;34m]\u001b[0m \u001b[0;34m=\u001b[0m \u001b[0mpd\u001b[0m\u001b[0;34m.\u001b[0m\u001b[0mto_datetime\u001b[0m\u001b[0;34m(\u001b[0m\u001b[0mms_time\u001b[0m\u001b[0;34m.\u001b[0m\u001b[0mDate\u001b[0m\u001b[0;34m.\u001b[0m\u001b[0mstr\u001b[0m\u001b[0;34m.\u001b[0m\u001b[0mstrip\u001b[0m\u001b[0;34m(\u001b[0m\u001b[0;34m)\u001b[0m\u001b[0;34m,\u001b[0m \u001b[0mformat\u001b[0m \u001b[0;34m=\u001b[0m \u001b[0;34m'%Y-%m-%d'\u001b[0m\u001b[0;34m)\u001b[0m\u001b[0;31m#\u001b[0m\u001b[0;34m\u001b[0m\u001b[0;34m\u001b[0m\u001b[0m\n\u001b[0m\u001b[1;32m      3\u001b[0m \u001b[0mms_time\u001b[0m\u001b[0;34m=\u001b[0m\u001b[0mms_time\u001b[0m\u001b[0;34m.\u001b[0m\u001b[0mdrop\u001b[0m\u001b[0;34m(\u001b[0m\u001b[0mcolumns\u001b[0m \u001b[0;34m=\u001b[0m \u001b[0;34m'Date'\u001b[0m\u001b[0;34m)\u001b[0m\u001b[0;34m;\u001b[0m\u001b[0;34m\u001b[0m\u001b[0;34m\u001b[0m\u001b[0m\n",
      "\u001b[0;31mNameError\u001b[0m: name 'ms_time' is not defined"
     ]
    }
   ],
   "source": [
    "# format date\n",
    "ms_time['date'] = pd.to_datetime(ms_time.Date.str.strip(), format = '%Y-%m-%d')#\n",
    "ms_time=ms_time.drop(columns = 'Date');"
   ]
  },
  {
   "cell_type": "code",
   "execution_count": 10,
   "metadata": {},
   "outputs": [
    {
     "data": {
      "text/html": [
       "<div>\n",
       "<style scoped>\n",
       "    .dataframe tbody tr th:only-of-type {\n",
       "        vertical-align: middle;\n",
       "    }\n",
       "\n",
       "    .dataframe tbody tr th {\n",
       "        vertical-align: top;\n",
       "    }\n",
       "\n",
       "    .dataframe thead th {\n",
       "        text-align: right;\n",
       "    }\n",
       "</style>\n",
       "<table border=\"1\" class=\"dataframe\">\n",
       "  <thead>\n",
       "    <tr style=\"text-align: right;\">\n",
       "      <th></th>\n",
       "      <th>incident_id</th>\n",
       "      <th>date</th>\n",
       "    </tr>\n",
       "  </thead>\n",
       "  <tbody>\n",
       "    <tr>\n",
       "      <td>0</td>\n",
       "      <td>1</td>\n",
       "      <td>2014-01-01</td>\n",
       "    </tr>\n",
       "    <tr>\n",
       "      <td>1</td>\n",
       "      <td>1</td>\n",
       "      <td>2014-01-03</td>\n",
       "    </tr>\n",
       "    <tr>\n",
       "      <td>2</td>\n",
       "      <td>3</td>\n",
       "      <td>2014-01-12</td>\n",
       "    </tr>\n",
       "    <tr>\n",
       "      <td>3</td>\n",
       "      <td>1</td>\n",
       "      <td>2014-01-13</td>\n",
       "    </tr>\n",
       "    <tr>\n",
       "      <td>4</td>\n",
       "      <td>1</td>\n",
       "      <td>2014-01-14</td>\n",
       "    </tr>\n",
       "    <tr>\n",
       "      <td>...</td>\n",
       "      <td>...</td>\n",
       "      <td>...</td>\n",
       "    </tr>\n",
       "    <tr>\n",
       "      <td>803</td>\n",
       "      <td>2</td>\n",
       "      <td>2018-03-17</td>\n",
       "    </tr>\n",
       "    <tr>\n",
       "      <td>804</td>\n",
       "      <td>1</td>\n",
       "      <td>2018-03-21</td>\n",
       "    </tr>\n",
       "    <tr>\n",
       "      <td>805</td>\n",
       "      <td>1</td>\n",
       "      <td>2018-03-24</td>\n",
       "    </tr>\n",
       "    <tr>\n",
       "      <td>806</td>\n",
       "      <td>2</td>\n",
       "      <td>2018-03-29</td>\n",
       "    </tr>\n",
       "    <tr>\n",
       "      <td>807</td>\n",
       "      <td>1</td>\n",
       "      <td>2018-03-31</td>\n",
       "    </tr>\n",
       "  </tbody>\n",
       "</table>\n",
       "<p>808 rows × 2 columns</p>\n",
       "</div>"
      ],
      "text/plain": [
       "     incident_id       date\n",
       "0              1 2014-01-01\n",
       "1              1 2014-01-03\n",
       "2              3 2014-01-12\n",
       "3              1 2014-01-13\n",
       "4              1 2014-01-14\n",
       "..           ...        ...\n",
       "803            2 2018-03-17\n",
       "804            1 2018-03-21\n",
       "805            1 2018-03-24\n",
       "806            2 2018-03-29\n",
       "807            1 2018-03-31\n",
       "\n",
       "[808 rows x 2 columns]"
      ]
     },
     "execution_count": 10,
     "metadata": {},
     "output_type": "execute_result"
    }
   ],
   "source": [
    "ms_time"
   ]
  },
  {
   "cell_type": "code",
   "execution_count": 11,
   "metadata": {},
   "outputs": [],
   "source": [
    "# Create new date columns\n",
    "ms_time['Year'] = ms_time.date.apply(lambda x: x.year)\n",
    "ms_time['Month'] = ms_time.date.apply(lambda x: x.month)\n",
    "ms_time['Year_Month'] = ms_time.date.apply(lambda x: 100*x.year + x.month)"
   ]
  },
  {
   "cell_type": "code",
   "execution_count": 12,
   "metadata": {},
   "outputs": [
    {
     "data": {
      "text/html": [
       "<div>\n",
       "<style scoped>\n",
       "    .dataframe tbody tr th:only-of-type {\n",
       "        vertical-align: middle;\n",
       "    }\n",
       "\n",
       "    .dataframe tbody tr th {\n",
       "        vertical-align: top;\n",
       "    }\n",
       "\n",
       "    .dataframe thead th {\n",
       "        text-align: right;\n",
       "    }\n",
       "</style>\n",
       "<table border=\"1\" class=\"dataframe\">\n",
       "  <thead>\n",
       "    <tr style=\"text-align: right;\">\n",
       "      <th></th>\n",
       "      <th>incident_id</th>\n",
       "      <th>date</th>\n",
       "      <th>Year</th>\n",
       "      <th>Month</th>\n",
       "      <th>Year_Month</th>\n",
       "    </tr>\n",
       "  </thead>\n",
       "  <tbody>\n",
       "    <tr>\n",
       "      <td>0</td>\n",
       "      <td>1</td>\n",
       "      <td>2014-01-01</td>\n",
       "      <td>2014</td>\n",
       "      <td>1</td>\n",
       "      <td>201401</td>\n",
       "    </tr>\n",
       "    <tr>\n",
       "      <td>1</td>\n",
       "      <td>1</td>\n",
       "      <td>2014-01-03</td>\n",
       "      <td>2014</td>\n",
       "      <td>1</td>\n",
       "      <td>201401</td>\n",
       "    </tr>\n",
       "  </tbody>\n",
       "</table>\n",
       "</div>"
      ],
      "text/plain": [
       "   incident_id       date  Year  Month  Year_Month\n",
       "0            1 2014-01-01  2014      1      201401\n",
       "1            1 2014-01-03  2014      1      201401"
      ]
     },
     "execution_count": 12,
     "metadata": {},
     "output_type": "execute_result"
    }
   ],
   "source": [
    "ms_time.head(2)"
   ]
  },
  {
   "cell_type": "code",
   "execution_count": 13,
   "metadata": {},
   "outputs": [],
   "source": [
    "#ms_year = ms_time.groupby('Year').incident_id.sum()\n",
    "ms_year_month = ms_time.groupby('Year_Month').incident_id.sum()"
   ]
  },
  {
   "cell_type": "code",
   "execution_count": 14,
   "metadata": {},
   "outputs": [],
   "source": [
    "ms_year_month = ms_year_month.to_frame()\n",
    "ms_year_month.reset_index(level=0, inplace=True)\n",
    "ms_year_month.columns = ['Year_Month', 'ms_all']"
   ]
  },
  {
   "cell_type": "code",
   "execution_count": 15,
   "metadata": {},
   "outputs": [],
   "source": [
    "inc_all = data.Date\n",
    "inc_all = inc_all.to_frame()\n",
    "inc_all['counts'] = 1"
   ]
  },
  {
   "cell_type": "code",
   "execution_count": 16,
   "metadata": {},
   "outputs": [],
   "source": [
    "inc_all['date'] = pd.to_datetime(inc_all.Date.str.strip(), format = '%Y-%m-%d')#\n",
    "inc_all= inc_all.drop(['Date'], axis=1);"
   ]
  },
  {
   "cell_type": "code",
   "execution_count": 17,
   "metadata": {},
   "outputs": [],
   "source": [
    "inc_all['Year'] = inc_all.date.apply(lambda x: x.year)\n",
    "inc_all['Year_Month'] = inc_all.date.apply(lambda x: 100*x.year + x.month)"
   ]
  },
  {
   "cell_type": "code",
   "execution_count": 18,
   "metadata": {},
   "outputs": [],
   "source": [
    "all_YM = inc_all.groupby('Year_Month').counts.sum()"
   ]
  },
  {
   "cell_type": "code",
   "execution_count": 19,
   "metadata": {},
   "outputs": [],
   "source": [
    "all_YM_pd = all_YM.to_frame()\n",
    "all_YM_pd.reset_index(level=0, inplace=True)\n",
    "all_YM_pd.columns = ['Year_Month', 'inc_all']"
   ]
  },
  {
   "cell_type": "code",
   "execution_count": 20,
   "metadata": {},
   "outputs": [],
   "source": [
    "YM = pd.merge(all_YM_pd, ms_year_month, on='Year_Month')"
   ]
  },
  {
   "cell_type": "code",
   "execution_count": 21,
   "metadata": {},
   "outputs": [
    {
     "data": {
      "text/plain": [
       "1363"
      ]
     },
     "execution_count": 21,
     "metadata": {},
     "output_type": "execute_result"
    }
   ],
   "source": [
    "len(YM)\n",
    "YM.ms_all.sum()"
   ]
  },
  {
   "cell_type": "code",
   "execution_count": 1,
   "metadata": {
    "scrolled": true
   },
   "outputs": [
    {
     "ename": "NameError",
     "evalue": "name 'mass_shootings' is not defined",
     "output_type": "error",
     "traceback": [
      "\u001b[0;31m---------------------------------------------------------------------------\u001b[0m",
      "\u001b[0;31mNameError\u001b[0m                                 Traceback (most recent call last)",
      "\u001b[0;32m<ipython-input-1-d86c884340ab>\u001b[0m in \u001b[0;36m<module>\u001b[0;34m\u001b[0m\n\u001b[0;32m----> 1\u001b[0;31m \u001b[0mmass_shootings\u001b[0m\u001b[0;34m[\u001b[0m\u001b[0;34m'victims'\u001b[0m\u001b[0;34m]\u001b[0m \u001b[0;34m=\u001b[0m \u001b[0mmass_shootings\u001b[0m\u001b[0;34m.\u001b[0m\u001b[0mn_killed\u001b[0m \u001b[0;34m+\u001b[0m \u001b[0mmass_shootings\u001b[0m\u001b[0;34m.\u001b[0m\u001b[0mn_injured\u001b[0m\u001b[0;34m\u001b[0m\u001b[0;34m\u001b[0m\u001b[0m\n\u001b[0m",
      "\u001b[0;31mNameError\u001b[0m: name 'mass_shootings' is not defined"
     ]
    }
   ],
   "source": [
    "mass_shootings['victims'] = mass_shootings.n_killed + mass_shootings.n_injured"
   ]
  },
  {
   "cell_type": "code",
   "execution_count": 23,
   "metadata": {
    "scrolled": true
   },
   "outputs": [
    {
     "data": {
      "text/html": [
       "<div>\n",
       "<style scoped>\n",
       "    .dataframe tbody tr th:only-of-type {\n",
       "        vertical-align: middle;\n",
       "    }\n",
       "\n",
       "    .dataframe tbody tr th {\n",
       "        vertical-align: top;\n",
       "    }\n",
       "\n",
       "    .dataframe thead th {\n",
       "        text-align: right;\n",
       "    }\n",
       "</style>\n",
       "<table border=\"1\" class=\"dataframe\">\n",
       "  <thead>\n",
       "    <tr style=\"text-align: right;\">\n",
       "      <th></th>\n",
       "      <th>incident_id</th>\n",
       "      <th>state</th>\n",
       "      <th>city_or_county</th>\n",
       "      <th>n_killed</th>\n",
       "      <th>n_injured</th>\n",
       "      <th>incident_characteristics</th>\n",
       "      <th>latitude</th>\n",
       "      <th>location_description</th>\n",
       "      <th>longitude</th>\n",
       "      <th>participant_age</th>\n",
       "      <th>...</th>\n",
       "      <th>Child injured</th>\n",
       "      <th>Gun buy back action</th>\n",
       "      <th>Terrorism Involvement</th>\n",
       "      <th>Officer Involved Shooting - Accidental discharge - no injury required</th>\n",
       "      <th>Mistaken ID</th>\n",
       "      <th>Officer Involved Shooting - subject/suspect/perpetrator suicide by cop</th>\n",
       "      <th>Ghost gun</th>\n",
       "      <th>Political Violence</th>\n",
       "      <th>NAV</th>\n",
       "      <th>victims</th>\n",
       "    </tr>\n",
       "  </thead>\n",
       "  <tbody>\n",
       "    <tr>\n",
       "      <td>127677</td>\n",
       "      <td>577157</td>\n",
       "      <td>Florida</td>\n",
       "      <td>Orlando</td>\n",
       "      <td>50</td>\n",
       "      <td>53</td>\n",
       "      <td>Shot - Wounded/Injured||Shot - Dead (murder, a...</td>\n",
       "      <td>28.5195</td>\n",
       "      <td>Pulse</td>\n",
       "      <td>-81.3767</td>\n",
       "      <td>0::34||1::23||2::20||3::22||4::36||5::22||6::2...</td>\n",
       "      <td>...</td>\n",
       "      <td>False</td>\n",
       "      <td>False</td>\n",
       "      <td>True</td>\n",
       "      <td>False</td>\n",
       "      <td>False</td>\n",
       "      <td>False</td>\n",
       "      <td>False</td>\n",
       "      <td>False</td>\n",
       "      <td>False</td>\n",
       "      <td>103</td>\n",
       "    </tr>\n",
       "  </tbody>\n",
       "</table>\n",
       "<p>1 rows × 128 columns</p>\n",
       "</div>"
      ],
      "text/plain": [
       "        incident_id    state city_or_county  n_killed  n_injured  \\\n",
       "127677       577157  Florida        Orlando        50         53   \n",
       "\n",
       "                                 incident_characteristics  latitude  \\\n",
       "127677  Shot - Wounded/Injured||Shot - Dead (murder, a...   28.5195   \n",
       "\n",
       "       location_description  longitude  \\\n",
       "127677                Pulse   -81.3767   \n",
       "\n",
       "                                          participant_age  ... Child injured  \\\n",
       "127677  0::34||1::23||2::20||3::22||4::36||5::22||6::2...  ...         False   \n",
       "\n",
       "       Gun buy back action Terrorism Involvement  \\\n",
       "127677               False                  True   \n",
       "\n",
       "       Officer Involved Shooting - Accidental discharge - no injury required  \\\n",
       "127677                                              False                      \n",
       "\n",
       "       Mistaken ID   \\\n",
       "127677        False   \n",
       "\n",
       "       Officer Involved Shooting - subject/suspect/perpetrator suicide by cop  \\\n",
       "127677                                              False                       \n",
       "\n",
       "       Ghost gun  Political Violence    NAV victims  \n",
       "127677     False               False  False     103  \n",
       "\n",
       "[1 rows x 128 columns]"
      ]
     },
     "execution_count": 23,
     "metadata": {},
     "output_type": "execute_result"
    }
   ],
   "source": [
    "max_vic = mass_shootings.victims.max()\n",
    "mass_shootings[mass_shootings['victims']==max_vic]"
   ]
  },
  {
   "cell_type": "code",
   "execution_count": 51,
   "metadata": {
    "scrolled": true
   },
   "outputs": [
    {
     "data": {
      "text/plain": [
       "victims\n",
       "4      759\n",
       "5      337\n",
       "6      111\n",
       "7       71\n",
       "8       33\n",
       "9       16\n",
       "10       7\n",
       "11       3\n",
       "12       7\n",
       "13       1\n",
       "14       1\n",
       "15       3\n",
       "16       1\n",
       "17       2\n",
       "18       2\n",
       "19       1\n",
       "20       1\n",
       "21       1\n",
       "25       1\n",
       "27       1\n",
       "34       1\n",
       "35       1\n",
       "47       1\n",
       "103      1\n",
       "Name: incident_id, dtype: int64"
      ]
     },
     "execution_count": 51,
     "metadata": {},
     "output_type": "execute_result"
    }
   ],
   "source": [
    "mass_shootings.groupby('victims')['incident_id'].nunique()"
   ]
  },
  {
   "cell_type": "markdown",
   "metadata": {},
   "source": [
    "## Mass Shootings Timelines"
   ]
  },
  {
   "cell_type": "code",
   "execution_count": 5,
   "metadata": {},
   "outputs": [],
   "source": [
    "ms_dates = mass_shootings[['Date','state','n_killed','n_injured']].reset_index()\n",
    "ms_dates=ms_dates.drop(columns = 'index')"
   ]
  },
  {
   "cell_type": "code",
   "execution_count": 6,
   "metadata": {},
   "outputs": [],
   "source": [
    "# format date\n",
    "ms_dates['date'] = pd.to_datetime(ms_dates.Date.str.strip(), format = '%Y-%m-%d')#\n",
    "ms_dates=ms_dates.drop(columns = 'Date');"
   ]
  },
  {
   "cell_type": "code",
   "execution_count": 7,
   "metadata": {},
   "outputs": [],
   "source": [
    "northeast = ['Illinois','Wisconsin','Michigan','Indiana']\n",
    "ms_northeast= ms_dates.loc[ms_dates['state'].isin(northeast)].reset_index()\n",
    "ms_northeast=ms_northeast.drop(columns = 'index')\n",
    "\n",
    "middleatlantic = ['Connecticut','Massachusetts','Delaware','Maryland','New York','Pennsylvania','New Jersey']\n",
    "ms_midatlantic= ms_dates.loc[ms_dates['state'].isin(middleatlantic)].reset_index()\n",
    "ms_midatlantic=ms_midatlantic.drop(columns = 'index')\n",
    "\n",
    "#ms_newjersey = ms_dates[ms_dates['state']== 'New Jersey'].reset_index()\n",
    "#ms_newjersey=ms_newjersey.drop(columns = 'index')\n",
    "\n",
    "#ms_illinois = ms_dates[ms_dates['state']== 'Illinois'].reset_index()\n",
    "#ms_illinois=ms_illinois.drop(columns = 'index')\n",
    "\n",
    "ms_cali = ms_dates[ms_dates['state']== 'California'].reset_index()\n",
    "ms_cali=ms_cali.drop(columns = 'index')\n",
    "\n",
    "\n"
   ]
  },
  {
   "cell_type": "markdown",
   "metadata": {},
   "source": [
    "days = [0]\n",
    "\n",
    "for i in range(len(ms_dates)-1):\n",
    "    first = ms_dates.date[i]\n",
    "    second = ms_dates.date[i+1]\n",
    "    day = (second-first).days\n",
    "    days.append(day)\n",
    "    "
   ]
  },
  {
   "cell_type": "markdown",
   "metadata": {},
   "source": [
    "ms_dates['days_btw'] = pd.DataFrame(days, index=ms_dates.index)"
   ]
  },
  {
   "cell_type": "markdown",
   "metadata": {},
   "source": [
    "days_ne = [0]\n",
    "\n",
    "for i in range(len(ms_northeast)-1):\n",
    "    first = ms_northeast.date[i]\n",
    "    second = ms_northeast.date[i+1]\n",
    "    day = (second-first).days\n",
    "    days_ne.append(day)\n",
    "    "
   ]
  },
  {
   "cell_type": "markdown",
   "metadata": {},
   "source": [
    "ms_northeast['days_btw'] = pd.DataFrame(days_ne, index=ms_northeast.index)"
   ]
  },
  {
   "cell_type": "markdown",
   "metadata": {},
   "source": [
    "days_ca = [0]\n",
    "\n",
    "for i in range(len(ms_cali)-1):\n",
    "    first = ms_cali.date[i]\n",
    "    second = ms_cali.date[i+1]\n",
    "    day = (second-first).days\n",
    "    days_ca.append(day)\n",
    "    "
   ]
  },
  {
   "cell_type": "markdown",
   "metadata": {},
   "source": [
    "ms_cali['days_btw'] = pd.DataFrame(days_ca, index=ms_cali.index)"
   ]
  },
  {
   "cell_type": "markdown",
   "metadata": {},
   "source": [
    "days_ma = [0]\n",
    "\n",
    "for i in range(len(ms_midatlantic)-1):\n",
    "    first = ms_midatlantic.date[i]\n",
    "    second = ms_midatlantic.date[i+1]\n",
    "    day = (second-first).days\n",
    "    days_ma.append(day)\n",
    "    "
   ]
  },
  {
   "cell_type": "markdown",
   "metadata": {},
   "source": [
    "ms_midatlantic['days_btw'] = pd.DataFrame(days_ma, index=ms_midatlantic.index)"
   ]
  },
  {
   "cell_type": "markdown",
   "metadata": {},
   "source": [
    "days_il = [0]\n",
    "\n",
    "for i in range(len(ms_illinois)-1):\n",
    "    first = ms_illinois.date[i]\n",
    "    second = ms_illinois.date[i+1]\n",
    "    day = (second-first).days\n",
    "    days_il.append(day)\n",
    "    "
   ]
  },
  {
   "cell_type": "markdown",
   "metadata": {},
   "source": [
    "ms_illinois['days_btw'] = pd.DataFrame(days_il, index=ms_illinois.index)"
   ]
  },
  {
   "cell_type": "markdown",
   "metadata": {},
   "source": [
    "days_nj = [0]\n",
    "\n",
    "for i in range(len(ms_newjersey)-1):\n",
    "    first = ms_newjersey.date[i]\n",
    "    second = ms_newjersey.date[i+1]\n",
    "    day = (second-first).days\n",
    "    days_nj.append(day)"
   ]
  },
  {
   "cell_type": "markdown",
   "metadata": {},
   "source": [
    "ms_newjersey['days_btw'] = pd.DataFrame(days_nj, index=ms_newjersey.index)"
   ]
  },
  {
   "cell_type": "markdown",
   "metadata": {},
   "source": [
    "fig, ax = plt.subplots(figsize=(40,15))\n",
    "plt.plot(ms_dates.date,ms_dates.days_btw)"
   ]
  },
  {
   "cell_type": "markdown",
   "metadata": {},
   "source": [
    "fig, ax = plt.subplots(figsize=(20,10))\n",
    "plt.plot(ms_northeast.date,ms_northeast.days_btw)"
   ]
  },
  {
   "cell_type": "markdown",
   "metadata": {},
   "source": [
    "fig, ax = plt.subplots(figsize=(20,10))\n",
    "plt.plot(ms_cali.date,ms_cali.days_btw)"
   ]
  },
  {
   "cell_type": "code",
   "execution_count": 8,
   "metadata": {},
   "outputs": [
    {
     "name": "stderr",
     "output_type": "stream",
     "text": [
      "/Users/Anna/opt/anaconda3/lib/python3.7/site-packages/pandas/plotting/_matplotlib/converter.py:103: FutureWarning: Using an implicitly registered datetime converter for a matplotlib plotting method. The converter was registered by pandas on import. Future versions of pandas will require you to explicitly register matplotlib converters.\n",
      "\n",
      "To register the converters:\n",
      "\t>>> from pandas.plotting import register_matplotlib_converters\n",
      "\t>>> register_matplotlib_converters()\n",
      "  warnings.warn(msg, FutureWarning)\n"
     ]
    },
    {
     "data": {
      "image/png": "[encoded data removed]",
      "text/plain": [
       "<Figure size 1440x144 with 1 Axes>"
      ]
     },
     "metadata": {
      "needs_background": "light"
     },
     "output_type": "display_data"
    }
   ],
   "source": [
    "# Choose some nice levels\n",
    "levels_cali = np.tile([-1, 1, -1, 1, -1, 1],\n",
    "                 int(np.ceil(len(ms_cali.date)/6)))[:len(ms_cali.date)]\n",
    "\n",
    "# Create figure and plot a stem plot with the date\n",
    "fig, ax = plt.subplots(figsize=(20, 2)) #constrained_layout=True)\n",
    "\n",
    "\n",
    "markerline, stemline, baseline = ax.stem(ms_cali.date, levels_cali,\n",
    "                                         linefmt=\"white\", basefmt=\"k-\",\n",
    "                                         use_line_collection=True)\n",
    "\n",
    "\n",
    "\n",
    "plt.setp(markerline, mec=\"k\", mfc=\"w\", zorder=3,markersize=10)\n",
    "\n",
    "# Shift the markers to the baseline by replacing the y-data by zeros.\n",
    "markerline.set_ydata(np.zeros(len(ms_cali.date)))\n",
    "\n",
    "# remove y axis and spines\n",
    "ax.get_yaxis().set_visible(False)\n",
    "for spine in [\"left\", \"top\", \"right\"]:\n",
    "    ax.spines[spine].set_visible(False)\n",
    "\n",
    "#caliax.margins(y=0.1)\n",
    "plt.xticks(fontsize=12)\n",
    "plt.ylim(bottom=-0.25)\n",
    "plt.ylim(top=0.25)\n",
    "\n",
    "\n",
    "plt.show()"
   ]
  },
  {
   "cell_type": "code",
   "execution_count": 9,
   "metadata": {},
   "outputs": [
    {
     "data": {
      "image/png": "[encoded data removed]",
      "text/plain": [
       "<Figure size 1440x144 with 1 Axes>"
      ]
     },
     "metadata": {
      "needs_background": "light"
     },
     "output_type": "display_data"
    }
   ],
   "source": [
    "levels_NE = np.tile([-1, 1, -1, 1, -1, 1],\n",
    "                 int(np.ceil(len(ms_northeast.date)/6)))[:len(ms_northeast.date)]\n",
    "\n",
    "# Create figure and plot a stem plot with the date\n",
    "fig, ax = plt.subplots(figsize=(20, 2)) #constrained_layout=True)\n",
    "\n",
    "markerline, stemline, baseline = ax.stem(ms_northeast.date, levels_NE,\n",
    "                                         linefmt=\"white\", basefmt=\"k-\",\n",
    "                                         use_line_collection=True)\n",
    "\n",
    "\n",
    "\n",
    "plt.setp(markerline, mec=\"k\", mfc=\"w\", zorder=3,markersize=10)\n",
    "\n",
    "# Shift the markers to the baseline by replacing the y-data by zeros.\n",
    "markerline.set_ydata(np.zeros(len(ms_northeast.date)))\n",
    "\n",
    "# remove y axis and spines\n",
    "ax.get_yaxis().set_visible(False)\n",
    "for spine in [\"left\", \"top\", \"right\"]:\n",
    "    ax.spines[spine].set_visible(False)\n",
    "\n",
    "#caliax.margins(y=0.1)\n",
    "plt.xticks(fontsize=12)\n",
    "plt.ylim(bottom=-0.25)\n",
    "plt.ylim(top=0.25)\n",
    "\n",
    "\n",
    "plt.show()"
   ]
  },
  {
   "cell_type": "code",
   "execution_count": 10,
   "metadata": {},
   "outputs": [
    {
     "data": {
      "image/png": "[encoded data removed]",
      "text/plain": [
       "<Figure size 1440x144 with 1 Axes>"
      ]
     },
     "metadata": {
      "needs_background": "light"
     },
     "output_type": "display_data"
    }
   ],
   "source": [
    "levels_MA = np.tile([-1, 1, -1, 1, -1, 1],\n",
    "                 int(np.ceil(len(ms_midatlantic.date)/6)))[:len(ms_midatlantic.date)]\n",
    "\n",
    "# Create figure and plot a stem plot with the date\n",
    "fig, ax = plt.subplots(figsize=(20, 2)) #constrained_layout=True)\n",
    "\n",
    "markerline, stemline, baseline = ax.stem(ms_midatlantic.date, levels_MA,\n",
    "                                         linefmt=\"white\", basefmt=\"k-\",\n",
    "                                         use_line_collection=True)\n",
    "\n",
    "\n",
    "\n",
    "plt.setp(markerline, mec=\"k\", mfc=\"w\", zorder=3,markersize=10)\n",
    "\n",
    "# Shift the markers to the baseline by replacing the y-data by zeros.\n",
    "markerline.set_ydata(np.zeros(len(ms_midatlantic.date)))\n",
    "\n",
    "# remove y axis and spines\n",
    "ax.get_yaxis().set_visible(False)\n",
    "for spine in [\"left\", \"top\", \"right\"]:\n",
    "    ax.spines[spine].set_visible(False)\n",
    "\n",
    "#caliax.margins(y=0.1)\n",
    "plt.xticks(fontsize=12)\n",
    "plt.ylim(bottom=-0.25)\n",
    "plt.ylim(top=0.25)\n",
    "\n",
    "\n",
    "plt.show()"
   ]
  },
  {
   "cell_type": "markdown",
   "metadata": {},
   "source": [
    "### Kernel Density Estimation "
   ]
  },
  {
   "cell_type": "code",
   "execution_count": 241,
   "metadata": {},
   "outputs": [],
   "source": [
    "ms_cali['ordinal'] = [x.toordinal() for x in ms_cali.date]\n",
    "ms_northeast['ordinal'] = [x.toordinal() for x in ms_northeast.date]\n",
    "ms_midatlantic['ordinal'] = [x.toordinal() for x in ms_midatlantic.date]\n",
    "ms_dates['ordinal'] = [x.toordinal() for x in ms_dates.date]\n",
    "min_ = ms_dates['ordinal'].min()\n",
    "max_ = ms_dates['ordinal'].max()"
   ]
  },
  {
   "cell_type": "code",
   "execution_count": 197,
   "metadata": {},
   "outputs": [],
   "source": [
    "# Finding optimal bandwidths using silverman i.e. minimizing squared errors (check notes from AME)\n",
    "\n",
    "#California\n",
    "kde_cali = gaussian_kde(ms_cali['ordinal'], bw_method = 'silverman')\n",
    "bw_cali = kde_cali.factor\n",
    "\n",
    "#North east central\n",
    "kde_NE = gaussian_kde(ms_northeast['ordinal'], bw_method = 'silverman')\n",
    "bw_NE = kde_NE.factor\n",
    "\n",
    "\n",
    "#Midatlantic\n",
    "kde_MA = gaussian_kde(ms_midatlantic['ordinal'], bw_method = 'silverman')\n",
    "bw_MA = kde_MA.factor"
   ]
  },
  {
   "cell_type": "code",
   "execution_count": 282,
   "metadata": {},
   "outputs": [
    {
     "data": {
      "image/png": "[encoded data removed]",
      "text/plain": [
       "<Figure size 864x432 with 1 Axes>"
      ]
     },
     "metadata": {
      "needs_background": "light"
     },
     "output_type": "display_data"
    }
   ],
   "source": [
    "matplotlib.rc('xtick', labelsize = 12)\n",
    "matplotlib.rc('ytick', labelsize = 12)\n",
    "\n",
    "fig, ax = plt.subplots(1, figsize=(12, 6))\n",
    "\n",
    "ax = ms_cali['ordinal'].plot(kind='kde', bw_method = bw_cali, label = 'California')\n",
    "#rename xlabel \n",
    "x_ticks = np.linspace(min_,max_,50)\n",
    "ax.set_xticks(x_ticks)\n",
    "xlabels = [pd.datetime.fromordinal(int(x)).strftime('%Y-%m-%d') for x in x_ticks]\n",
    "ax.set_xticklabels(xlabels)\n",
    "plt.xlim(right =736774)\n",
    "plt.xlim(left =735247)\n",
    "plt.xticks(rotation = 90)\n",
    "\n",
    "\n",
    "ax = ms_northeast['ordinal'].plot(kind='kde', bw_method = bw_NE, label = 'North East Central')\n",
    "plt.xticks(rotation = 90)\n",
    "plt.legend(loc='best')\n",
    "\n",
    "ax = ms_midatlantic['ordinal'].plot(kind='kde', bw_method = bw_MA, label = 'Midatlantic')\n",
    "plt.xticks(rotation = 90)\n",
    "plt.legend(loc='best')\n",
    "\n",
    "# Removes top and right border\n",
    "ax.spines['right'].set_visible(False)\n",
    "ax.spines['top'].set_visible(False)\n",
    "\n",
    "# Makes legend pretty\n",
    "plt.legend(loc=2, prop={'size': 12}, frameon=False)\n",
    "plt.ylabel('Probability density', fontsize = 12);"
   ]
  },
  {
   "cell_type": "code",
   "execution_count": 286,
   "metadata": {},
   "outputs": [],
   "source": [
    "os.chdir('/Users/josefinebjornholm/Documents/GitHub/Gun_Violence_E19/Figures')\n",
    "\n",
    "fig.savefig(\"time_density.pdf\", bbox_inches='tight')"
   ]
  },
  {
   "cell_type": "markdown",
   "metadata": {},
   "source": [
    "### Removing conventional crimes"
   ]
  },
  {
   "cell_type": "code",
   "execution_count": 80,
   "metadata": {},
   "outputs": [],
   "source": [
    "ms_noncon = mass_shootings[mass_shootings['Gang involvement'] == False]\n",
    "ms_noncon = ms_noncon[ms_noncon['Armed robbery with injury/death and/or evidence of DGU found'] == False]\n",
    "ms_noncon = ms_noncon['Date']\n",
    "ms_noncon = pd.DataFrame(ms_noncon).reset_index()\n",
    "ms_noncon=ms_noncon.drop(columns = 'index')"
   ]
  },
  {
   "cell_type": "code",
   "execution_count": 81,
   "metadata": {},
   "outputs": [],
   "source": [
    "# format date\n",
    "ms_noncon['date'] = pd.to_datetime(ms_noncon.Date.str.strip(), format = '%Y-%m-%d')#\n",
    "ms_noncon=ms_noncon.drop(columns = 'Date');"
   ]
  },
  {
   "cell_type": "code",
   "execution_count": 83,
   "metadata": {},
   "outputs": [],
   "source": [
    "days_con = [0]\n",
    "\n",
    "for i in range(len(ms_noncon)-1):\n",
    "    first = ms_noncon.date[i]\n",
    "    second = ms_noncon.date[i+1]\n",
    "    day = (second-first).days\n",
    "    days_con.append(day)\n",
    "    "
   ]
  },
  {
   "cell_type": "code",
   "execution_count": 85,
   "metadata": {},
   "outputs": [],
   "source": [
    "ms_noncon['days_btw'] = pd.DataFrame(days_con, index=ms_noncon.index)"
   ]
  },
  {
   "cell_type": "code",
   "execution_count": 86,
   "metadata": {},
   "outputs": [
    {
     "data": {
      "text/html": [
       "<div>\n",
       "<style scoped>\n",
       "    .dataframe tbody tr th:only-of-type {\n",
       "        vertical-align: middle;\n",
       "    }\n",
       "\n",
       "    .dataframe tbody tr th {\n",
       "        vertical-align: top;\n",
       "    }\n",
       "\n",
       "    .dataframe thead th {\n",
       "        text-align: right;\n",
       "    }\n",
       "</style>\n",
       "<table border=\"1\" class=\"dataframe\">\n",
       "  <thead>\n",
       "    <tr style=\"text-align: right;\">\n",
       "      <th></th>\n",
       "      <th>date</th>\n",
       "      <th>days_btw</th>\n",
       "    </tr>\n",
       "  </thead>\n",
       "  <tbody>\n",
       "    <tr>\n",
       "      <td>0</td>\n",
       "      <td>2014-01-01</td>\n",
       "      <td>0</td>\n",
       "    </tr>\n",
       "    <tr>\n",
       "      <td>1</td>\n",
       "      <td>2014-01-03</td>\n",
       "      <td>2</td>\n",
       "    </tr>\n",
       "    <tr>\n",
       "      <td>2</td>\n",
       "      <td>2014-01-12</td>\n",
       "      <td>9</td>\n",
       "    </tr>\n",
       "    <tr>\n",
       "      <td>3</td>\n",
       "      <td>2014-01-12</td>\n",
       "      <td>0</td>\n",
       "    </tr>\n",
       "    <tr>\n",
       "      <td>4</td>\n",
       "      <td>2014-01-12</td>\n",
       "      <td>0</td>\n",
       "    </tr>\n",
       "    <tr>\n",
       "      <td>...</td>\n",
       "      <td>...</td>\n",
       "      <td>...</td>\n",
       "    </tr>\n",
       "    <tr>\n",
       "      <td>1162</td>\n",
       "      <td>2018-03-17</td>\n",
       "      <td>0</td>\n",
       "    </tr>\n",
       "    <tr>\n",
       "      <td>1163</td>\n",
       "      <td>2018-03-21</td>\n",
       "      <td>4</td>\n",
       "    </tr>\n",
       "    <tr>\n",
       "      <td>1164</td>\n",
       "      <td>2018-03-29</td>\n",
       "      <td>8</td>\n",
       "    </tr>\n",
       "    <tr>\n",
       "      <td>1165</td>\n",
       "      <td>2018-03-29</td>\n",
       "      <td>0</td>\n",
       "    </tr>\n",
       "    <tr>\n",
       "      <td>1166</td>\n",
       "      <td>2018-03-31</td>\n",
       "      <td>2</td>\n",
       "    </tr>\n",
       "  </tbody>\n",
       "</table>\n",
       "<p>1167 rows × 2 columns</p>\n",
       "</div>"
      ],
      "text/plain": [
       "           date  days_btw\n",
       "0    2014-01-01         0\n",
       "1    2014-01-03         2\n",
       "2    2014-01-12         9\n",
       "3    2014-01-12         0\n",
       "4    2014-01-12         0\n",
       "...         ...       ...\n",
       "1162 2018-03-17         0\n",
       "1163 2018-03-21         4\n",
       "1164 2018-03-29         8\n",
       "1165 2018-03-29         0\n",
       "1166 2018-03-31         2\n",
       "\n",
       "[1167 rows x 2 columns]"
      ]
     },
     "execution_count": 86,
     "metadata": {},
     "output_type": "execute_result"
    }
   ],
   "source": [
    "ms_noncon"
   ]
  },
  {
   "cell_type": "code",
   "execution_count": 87,
   "metadata": {},
   "outputs": [
    {
     "data": {
      "text/plain": [
       "[<matplotlib.lines.Line2D at 0x11a7bae90>]"
      ]
     },
     "execution_count": 87,
     "metadata": {},
     "output_type": "execute_result"
    },
    {
     "data": {
      "image/png": "[encoded data removed]",
      "text/plain": [
       "<Figure size 1440x720 with 1 Axes>"
      ]
     },
     "metadata": {
      "needs_background": "light"
     },
     "output_type": "display_data"
    }
   ],
   "source": [
    "fig, ax = plt.subplots(figsize=(20,10))\n",
    "plt.plot(ms_noncon.date,ms_noncon.days_btw)"
   ]
  },
  {
   "cell_type": "markdown",
   "metadata": {},
   "source": [
    "## TABLE OF CHARACTERISTICS"
   ]
  },
  {
   "cell_type": "code",
   "execution_count": 52,
   "metadata": {},
   "outputs": [],
   "source": [
    "df_incidents = mass_shootings.iloc[:, list(range(18,128))]\n",
    "incidents = []\n",
    "\n",
    "for col in df_incidents.columns: \n",
    "    incidents.append(col)"
   ]
  },
  {
   "cell_type": "code",
   "execution_count": 40,
   "metadata": {},
   "outputs": [
    {
     "name": "stderr",
     "output_type": "stream",
     "text": [
      "/opt/anaconda3/lib/python3.7/site-packages/ipykernel_launcher.py:15: FutureWarning: Sorting because non-concatenation axis is not aligned. A future version\n",
      "of pandas will change to not sort by default.\n",
      "\n",
      "To accept the future behavior, pass 'sort=False'.\n",
      "\n",
      "To retain the current behavior and silence the warning, pass 'sort=True'.\n",
      "\n",
      "  from ipykernel import kernelapp as app\n"
     ]
    }
   ],
   "source": [
    "dataframes_gender = []\n",
    "\n",
    "for row in mass_shootings['participant_gender'].fillna(\"0:,\")[:len(mass_shootings)]:\n",
    "    participants = np.array([re.split(r'::?', p) for p in re.split(r'\\|\\|?', row)]).T\n",
    "    #print('participants: ', participants)\n",
    "\n",
    "    data = dict(zip(*participants))\n",
    "    #print('data: ', data)\n",
    "\n",
    "    dataframe = pd.Series(data).to_frame().T\n",
    "    #display(dataframe)\n",
    "\n",
    "    dataframes_gender.append(dataframe)\n",
    "\n",
    "gender = pd.concat(dataframes_gender).reset_index().drop('index', 1).fillna('')"
   ]
  },
  {
   "cell_type": "code",
   "execution_count": 42,
   "metadata": {},
   "outputs": [
    {
     "name": "stderr",
     "output_type": "stream",
     "text": [
      "/opt/anaconda3/lib/python3.7/site-packages/ipykernel_launcher.py:15: FutureWarning: Sorting because non-concatenation axis is not aligned. A future version\n",
      "of pandas will change to not sort by default.\n",
      "\n",
      "To accept the future behavior, pass 'sort=False'.\n",
      "\n",
      "To retain the current behavior and silence the warning, pass 'sort=True'.\n",
      "\n",
      "  from ipykernel import kernelapp as app\n"
     ]
    }
   ],
   "source": [
    "dataframes_age = []\n",
    "\n",
    "for row in mass_shootings['participant_age'].fillna(\"0:,\")[:len(mass_shootings)]:\n",
    "    participants = np.array([re.split(r'::?', p) for p in re.split(r'\\|\\|?', row)]).T\n",
    "    #print('participants: ', participants)\n",
    "\n",
    "    data = dict(zip(*participants))\n",
    "    #print('data: ', data)\n",
    "\n",
    "    dataframe = pd.Series(data).to_frame().T\n",
    "    #display(dataframe)\n",
    "\n",
    "    dataframes_age.append(dataframe)\n",
    "\n",
    "age = pd.concat(dataframes_age).reset_index().drop('index', 1).fillna('')"
   ]
  },
  {
   "cell_type": "code",
   "execution_count": 43,
   "metadata": {},
   "outputs": [
    {
     "name": "stderr",
     "output_type": "stream",
     "text": [
      "/opt/anaconda3/lib/python3.7/site-packages/ipykernel_launcher.py:15: FutureWarning: Sorting because non-concatenation axis is not aligned. A future version\n",
      "of pandas will change to not sort by default.\n",
      "\n",
      "To accept the future behavior, pass 'sort=False'.\n",
      "\n",
      "To retain the current behavior and silence the warning, pass 'sort=True'.\n",
      "\n",
      "  from ipykernel import kernelapp as app\n"
     ]
    }
   ],
   "source": [
    "dataframes_status = []\n",
    "\n",
    "for row in mass_shootings['participant_status'].fillna(\"0:,\")[:len(mass_shootings)]:\n",
    "    participants = np.array([re.split(r'::?', p) for p in re.split(r'\\|\\|?', row)]).T\n",
    "    #print('participants: ', participants)\n",
    "\n",
    "    data = dict(zip(*participants))\n",
    "    #print('data: ', data)\n",
    "\n",
    "    dataframe = pd.Series(data).to_frame().T\n",
    "    #display(dataframe)\n",
    "\n",
    "    dataframes_status.append(dataframe)\n",
    "\n",
    "status = pd.concat(dataframes_status).reset_index().drop('index', 1).fillna('')"
   ]
  },
  {
   "cell_type": "code",
   "execution_count": 44,
   "metadata": {},
   "outputs": [
    {
     "name": "stderr",
     "output_type": "stream",
     "text": [
      "/opt/anaconda3/lib/python3.7/site-packages/ipykernel_launcher.py:15: FutureWarning: Sorting because non-concatenation axis is not aligned. A future version\n",
      "of pandas will change to not sort by default.\n",
      "\n",
      "To accept the future behavior, pass 'sort=False'.\n",
      "\n",
      "To retain the current behavior and silence the warning, pass 'sort=True'.\n",
      "\n",
      "  from ipykernel import kernelapp as app\n"
     ]
    }
   ],
   "source": [
    "dataframes_type = []\n",
    "\n",
    "for row in mass_shootings['participant_type'].fillna(\"0:,\")[:len(mass_shootings)]:\n",
    "    participants = np.array([re.split(r'::?', p) for p in re.split(r'\\|\\|?', row)]).T\n",
    "    #print('participants: ', participants)\n",
    "\n",
    "    data = dict(zip(*participants))\n",
    "    #print('data: ', data)\n",
    "\n",
    "    dataframe = pd.Series(data).to_frame().T\n",
    "    #display(dataframe)\n",
    "\n",
    "    dataframes_type.append(dataframe)\n",
    "\n",
    "_type = pd.concat(dataframes_type).reset_index().drop('index', 1).fillna('')"
   ]
  },
  {
   "cell_type": "markdown",
   "metadata": {},
   "source": [
    "### Gender of victimes and suspects"
   ]
  },
  {
   "cell_type": "code",
   "execution_count": 55,
   "metadata": {},
   "outputs": [
    {
     "data": {
      "text/plain": [
       "Male, Victim       3863\n",
       "Female, Victim     1484\n",
       "Male, Suspect      1086\n",
       "Female, Suspect      33\n",
       "Victim1            1386\n",
       "Victim2             109\n",
       "Subject             107\n",
       "dtype: int64"
      ]
     },
     "execution_count": 55,
     "metadata": {},
     "output_type": "execute_result"
    }
   ],
   "source": [
    "combined_gender = gender.astype(str).add(',').add(_type.astype(str)) #.add(', ').add(status.astype(str))\n",
    "com = combined_gender.fillna(',')\n",
    "\n",
    "com['Male, Victim'] = com.apply(lambda row: sum(row[0:103]=='Male,Victim') ,axis=1)\n",
    "com['Female, Victim'] = com.apply(lambda row: sum(row[0:103]=='Female,Victim') ,axis=1)\n",
    "com['Male, Suspect'] = com.apply(lambda row: sum(row[0:103]=='Male,Subject-Suspect') ,axis=1)\n",
    "com['Female, Suspect'] = com.apply(lambda row: sum(row[0:103]=='Female,Subject-Suspect') ,axis=1)\n",
    "com['Victim1'] = com.apply(lambda row: sum(row[0:103]==',Victim') ,axis=1)\n",
    "com['Victim2'] = com.apply(lambda row: sum(row[0:103]==',,Victim') ,axis=1)\n",
    "com['Subject'] = com.apply(lambda row: sum(row[0:103]==',Subject-Suspect') ,axis=1)\n",
    "\n",
    "com[['Male, Victim','Female, Victim','Male, Suspect','Female, Suspect','Victim1','Victim2','Subject']].sum()"
   ]
  },
  {
   "cell_type": "markdown",
   "metadata": {},
   "source": [
    "### Status of victimes and suspects"
   ]
  },
  {
   "cell_type": "code",
   "execution_count": 56,
   "metadata": {},
   "outputs": [
    {
     "data": {
      "text/plain": [
       "Killed, Victim                0\n",
       "Injured, Victim               0\n",
       "Unharmed/Arrested, Victim     0\n",
       "Killed, Suspect               0\n",
       "Injured, Suspect              0\n",
       "Unharmed/Arrested, Suspect    0\n",
       "dtype: int64"
      ]
     },
     "execution_count": 56,
     "metadata": {},
     "output_type": "execute_result"
    }
   ],
   "source": [
    "combined_status = status.astype(str).add(',').add(_type.astype(str)) #.add(', ').add(status.astype(str))\n",
    "com_s = combined_status.fillna(',')\n",
    "\n",
    "com_s['Killed, Victim'] = com.apply(lambda row: sum(row[0:103]=='Killed,Victim') ,axis=1)\n",
    "com_s['Injured, Victim'] = com.apply(lambda row: sum(row[0:103]=='Injured,Victim') ,axis=1)\n",
    "com_s['Unharmed/Arrested, Victim'] = com.apply(lambda row: sum(row[0:103]=='Unharmed, Arrested,Victim') ,axis=1)\n",
    "com_s['Killed, Suspect'] = com.apply(lambda row: sum(row[0:103]=='Killed,Subject-Suspect') ,axis=1)\n",
    "com_s['Injured, Suspect'] = com.apply(lambda row: sum(row[0:103]=='Injured,Subject-Suspect') ,axis=1)\n",
    "com_s['Unharmed/Arrested, Suspect'] = com.apply(lambda row: sum(row[0:103]=='Unharmed, Arrested,Subject-Suspect') ,axis=1)\n",
    "\n",
    "com_s[['Killed, Victim', 'Injured, Victim','Unharmed/Arrested, Victim','Killed, Suspect','Injured, Suspect','Unharmed/Arrested, Suspect']].sum()"
   ]
  },
  {
   "cell_type": "markdown",
   "metadata": {},
   "source": [
    "## Combined gender and status"
   ]
  },
  {
   "cell_type": "code",
   "execution_count": 66,
   "metadata": {},
   "outputs": [
    {
     "data": {
      "text/plain": [
       "Male, Killed       1089\n",
       "Female, Killed      417\n",
       "Male, Injured      2850\n",
       "Female, Injured    1062\n",
       "dtype: int64"
      ]
     },
     "execution_count": 66,
     "metadata": {},
     "output_type": "execute_result"
    }
   ],
   "source": [
    "combined_gender_status = gender.astype(str).add(',').add(status.astype(str)) #.add(', ').add(status.astype(str))\n",
    "com_gs = combined_gender_status.fillna(',')\n",
    "\n",
    "com_gs['Male, Killed'] = com_gs.apply(lambda row: sum(row[0:103]=='Male,Killed') ,axis=1)\n",
    "com_gs['Female, Killed'] = com_gs.apply(lambda row: sum(row[0:103]=='Female,Killed') ,axis=1)\n",
    "com_gs['Male, Injured'] = com_gs.apply(lambda row: sum(row[0:103]=='Male,Injured') ,axis=1)\n",
    "com_gs['Female, Injured'] = com_gs.apply(lambda row: sum(row[0:103]=='Female,Injured') ,axis=1)\n",
    "#com_gs['Victim1'] = com_gs.apply(lambda row: sum(row[0:103]==',Victim') ,axis=1)\n",
    "#com_gs['Victim2'] = com_gs.apply(lambda row: sum(row[0:103]==',,Victim') ,axis=1)\n",
    "#com_gs['Subject'] = com_gs.apply(lambda row: sum(row[0:103]==',Subject-Suspect') ,axis=1)\n",
    "\n",
    "com_gs[['Male, Killed','Female, Killed','Male, Injured','Female, Injured']].sum()"
   ]
  },
  {
   "cell_type": "code",
   "execution_count": 59,
   "metadata": {},
   "outputs": [
    {
     "data": {
      "text/plain": [
       "0                                                 Injured,Victim\n",
       "1                                                 Injured,Victim\n",
       "10                            Unharmed, Arrested,Subject-Suspect\n",
       "100                                                            ,\n",
       "101                                                            ,\n",
       "                                             ...                \n",
       "Injured, Victim                                                0\n",
       "Unharmed/Arrested, Victim                                      0\n",
       "Killed, Suspect                                                0\n",
       "Injured, Suspect                                               0\n",
       "Unharmed/Arrested, Suspect                                     0\n",
       "Name: 2, Length: 109, dtype: object"
      ]
     },
     "execution_count": 59,
     "metadata": {},
     "output_type": "execute_result"
    }
   ],
   "source": [
    "com_s.loc[2]"
   ]
  },
  {
   "cell_type": "code",
   "execution_count": 68,
   "metadata": {},
   "outputs": [],
   "source": [
    "##SKAL GENNEMSKUES!\n",
    "\n",
    "#stacked = combined.stack()\n",
    "#stacked_df = pd.DataFrame(stacked)\n",
    "#combinations = stacked_df.reset_index()\n",
    "#stacked.unique()"
   ]
  },
  {
   "cell_type": "code",
   "execution_count": 61,
   "metadata": {},
   "outputs": [],
   "source": [
    "def separate(df):\n",
    "    df=df.split(\"||\")\n",
    "    df=[(x.split(\"::\")) for x in df]\n",
    "    y = []\n",
    "    for  i in range (0, len(df)):\n",
    "        y.append(df[i][-1])\n",
    "    return(y) "
   ]
  },
  {
   "cell_type": "code",
   "execution_count": 62,
   "metadata": {},
   "outputs": [],
   "source": [
    "# Counting males and females \n",
    "mass_shootings['participant_gender'] = mass_shootings['participant_gender'].fillna(\"0::Zero\")\n",
    "mass_shootings['gender'] = mass_shootings['participant_gender'].apply(lambda x: separate(x))\n",
    "mass_shootings['Males'] = mass_shootings['gender'].apply(lambda x: x.count('Male'))\n",
    "mass_shootings['Females'] = mass_shootings['gender'].apply(lambda x: x.count('Female'))\n",
    "\n",
    "# Counting victims and subjects    \n",
    "mass_shootings['participant_type'] = mass_shootings['participant_type'].fillna(\"0::Zero\")\n",
    "mass_shootings['type'] = mass_shootings['participant_type'].apply(lambda x: separate(x))\n",
    "mass_shootings['Victims'] = mass_shootings['type'].apply(lambda x: x.count('Victim'))\n",
    "mass_shootings['Subject'] = mass_shootings['type'].apply(lambda x: x.count('Subject-Suspect'))"
   ]
  },
  {
   "cell_type": "code",
   "execution_count": 63,
   "metadata": {},
   "outputs": [
    {
     "name": "stdout",
     "output_type": "stream",
     "text": [
      "6793\n",
      "1210\n"
     ]
    }
   ],
   "source": [
    "print(mass_shootings['Victims'].sum())\n",
    "print(mass_shootings['Subject'].sum())"
   ]
  },
  {
   "cell_type": "code",
   "execution_count": 64,
   "metadata": {},
   "outputs": [],
   "source": [
    "char = pd.DataFrame(mass_shootings[incidents].sum())\n",
    "char.columns = ['count']\n",
    "char = char[char['count'] >= 50]"
   ]
  },
  {
   "cell_type": "code",
   "execution_count": 65,
   "metadata": {},
   "outputs": [
    {
     "data": {
      "text/html": [
       "<div>\n",
       "<style scoped>\n",
       "    .dataframe tbody tr th:only-of-type {\n",
       "        vertical-align: middle;\n",
       "    }\n",
       "\n",
       "    .dataframe tbody tr th {\n",
       "        vertical-align: top;\n",
       "    }\n",
       "\n",
       "    .dataframe thead th {\n",
       "        text-align: right;\n",
       "    }\n",
       "</style>\n",
       "<table border=\"1\" class=\"dataframe\">\n",
       "  <thead>\n",
       "    <tr style=\"text-align: right;\">\n",
       "      <th></th>\n",
       "      <th>count</th>\n",
       "    </tr>\n",
       "  </thead>\n",
       "  <tbody>\n",
       "    <tr>\n",
       "      <td>victims</td>\n",
       "      <td>6968.0</td>\n",
       "    </tr>\n",
       "    <tr>\n",
       "      <td>Mass Shooting</td>\n",
       "      <td>1363.0</td>\n",
       "    </tr>\n",
       "    <tr>\n",
       "      <td>Shot - Wounded/Injured</td>\n",
       "      <td>1300.0</td>\n",
       "    </tr>\n",
       "    <tr>\n",
       "      <td>Shot - Dead</td>\n",
       "      <td>715.0</td>\n",
       "    </tr>\n",
       "    <tr>\n",
       "      <td>Bar/club incident - in or around establishment</td>\n",
       "      <td>230.0</td>\n",
       "    </tr>\n",
       "    <tr>\n",
       "      <td>Drive-by</td>\n",
       "      <td>216.0</td>\n",
       "    </tr>\n",
       "    <tr>\n",
       "      <td>Gang involvement</td>\n",
       "      <td>160.0</td>\n",
       "    </tr>\n",
       "    <tr>\n",
       "      <td>Possession</td>\n",
       "      <td>138.0</td>\n",
       "    </tr>\n",
       "    <tr>\n",
       "      <td>Domestic Violence</td>\n",
       "      <td>93.0</td>\n",
       "    </tr>\n",
       "    <tr>\n",
       "      <td>Institution/Group/Business</td>\n",
       "      <td>89.0</td>\n",
       "    </tr>\n",
       "    <tr>\n",
       "      <td>Mass Murder</td>\n",
       "      <td>81.0</td>\n",
       "    </tr>\n",
       "    <tr>\n",
       "      <td>Possession of gun by felon or prohibited person</td>\n",
       "      <td>79.0</td>\n",
       "    </tr>\n",
       "    <tr>\n",
       "      <td>Officer Involved Incident</td>\n",
       "      <td>72.0</td>\n",
       "    </tr>\n",
       "    <tr>\n",
       "      <td>House party</td>\n",
       "      <td>59.0</td>\n",
       "    </tr>\n",
       "    <tr>\n",
       "      <td>Suicide</td>\n",
       "      <td>58.0</td>\n",
       "    </tr>\n",
       "    <tr>\n",
       "      <td>Murder/Suicide</td>\n",
       "      <td>54.0</td>\n",
       "    </tr>\n",
       "    <tr>\n",
       "      <td>Child Involved Incident</td>\n",
       "      <td>53.0</td>\n",
       "    </tr>\n",
       "    <tr>\n",
       "      <td>Shootout</td>\n",
       "      <td>52.0</td>\n",
       "    </tr>\n",
       "    <tr>\n",
       "      <td>Drug involvement</td>\n",
       "      <td>51.0</td>\n",
       "    </tr>\n",
       "  </tbody>\n",
       "</table>\n",
       "</div>"
      ],
      "text/plain": [
       "                                                  count\n",
       "victims                                          6968.0\n",
       "Mass Shooting                                    1363.0\n",
       "Shot - Wounded/Injured                           1300.0\n",
       "Shot - Dead                                       715.0\n",
       "Bar/club incident - in or around establishment    230.0\n",
       "Drive-by                                          216.0\n",
       "Gang involvement                                  160.0\n",
       "Possession                                        138.0\n",
       "Domestic Violence                                  93.0\n",
       "Institution/Group/Business                         89.0\n",
       "Mass Murder                                        81.0\n",
       "Possession of gun by felon or prohibited person    79.0\n",
       "Officer Involved Incident                          72.0\n",
       "House party                                        59.0\n",
       "Suicide                                            58.0\n",
       "Murder/Suicide                                     54.0\n",
       "Child Involved Incident                            53.0\n",
       "Shootout                                           52.0\n",
       "Drug involvement                                   51.0"
      ]
     },
     "execution_count": 65,
     "metadata": {},
     "output_type": "execute_result"
    }
   ],
   "source": [
    "char.sort_values('count', ascending=False)"
   ]
  },
  {
   "cell_type": "code",
   "execution_count": null,
   "metadata": {},
   "outputs": [],
   "source": []
  }
 ],
 "metadata": {
  "kernelspec": {
   "display_name": "Python 3",
   "language": "python",
   "name": "python3"
  },
  "language_info": {
   "codemirror_mode": {
    "name": "ipython",
    "version": 3
   },
   "file_extension": ".py",
   "mimetype": "text/x-python",
   "name": "python",
   "nbconvert_exporter": "python",
   "pygments_lexer": "ipython3",
   "version": "3.7.4"
  }
 },
 "nbformat": 4,
 "nbformat_minor": 4
}
