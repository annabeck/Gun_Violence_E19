{
 "cells": [
  {
   "cell_type": "code",
   "execution_count": 1,
   "metadata": {},
   "outputs": [],
   "source": [
    "from zipfile import ZipFile\n",
    "import numpy as np"
   ]
  },
  {
   "cell_type": "code",
   "execution_count": 3,
   "metadata": {},
   "outputs": [],
   "source": [
    "import pandas as pd\n",
    "import zipfile\n",
    "import re\n",
    "\n",
    "#zf = zipfile.ZipFile('Data_incidents.csv.zip') \n",
    "#data = pd.read_csv('Data_incidents.csv.zip').reset_index()"
   ]
  },
  {
   "cell_type": "markdown",
   "metadata": {},
   "source": [
    "data.head(1)"
   ]
  },
  {
   "cell_type": "markdown",
   "metadata": {},
   "source": [
    "## Extract the dummy columns from the rest of the dataset"
   ]
  },
  {
   "cell_type": "markdown",
   "metadata": {},
   "source": [
    "for col in data.columns: \n",
    "    print(col) "
   ]
  },
  {
   "cell_type": "markdown",
   "metadata": {},
   "source": [
    "start = data.columns.get_loc(\"Shot - Wounded/Injured\") # first column of interest\n",
    "end = data.columns.get_loc(\"Political Violence\") +1# last column of interest\n",
    "\n",
    "characters = data.iloc[:,start:end].reset_index()"
   ]
  },
  {
   "cell_type": "markdown",
   "metadata": {},
   "source": [
    "## Find all unique combinations and number of times they occur together"
   ]
  },
  {
   "cell_type": "markdown",
   "metadata": {},
   "source": [
    "from itertools import combinations\n",
    "characters = characters.set_index('index')\n",
    "\n",
    "comb = list(combinations(characters.columns,2)) # a list of all the column headers\n",
    "df_comb = pd.concat([characters[c[1]].mul(characters[c[0]]) for c in comb], axis=1, keys=comb) # combinations all heaters and the their occurances together\n",
    "df_comb.columns = df_comb.columns.map('||'.join) #make double-header into one header combines by \"||\""
   ]
  },
  {
   "cell_type": "markdown",
   "metadata": {},
   "source": [
    "numb_comb = df_comb.sum(axis = 0)"
   ]
  },
  {
   "cell_type": "markdown",
   "metadata": {},
   "source": [
    "numb_comb"
   ]
  },
  {
   "cell_type": "markdown",
   "metadata": {},
   "source": [
    "comb_data = numb_comb.to_frame().reset_index()\n",
    "\n",
    "id_incident = []\n",
    "\n",
    "for i in range(len(comb_data)):\n",
    "    incident = comb_data['index'][i]\n",
    "    if pd.isnull(incident) == True: \n",
    "        continue\n",
    "    else:\n",
    "        incident2 = np.array([re.split(r'\\|\\|?',p) for p in re.split(r'\\|\\|?', incident)]).T\n",
    "        df_test = pd.DataFrame(incident2)\n",
    "        id_incident.append(df_test)\n",
    "\n",
    "               \n",
    "incidents = pd.concat(id_incident).reset_index().drop('index', 1)"
   ]
  },
  {
   "cell_type": "markdown",
   "metadata": {},
   "source": [
    "incidents['weight'] = pd.DataFrame(comb_data.iloc[:,1], index=incidents.index)\n",
    "incidents.columns= ['inc1', 'inc2', 'weight']"
   ]
  },
  {
   "cell_type": "markdown",
   "metadata": {},
   "source": [
    "incidents.to_csv('Data/incidents_network.csv', index=True, sep=',')"
   ]
  },
  {
   "cell_type": "markdown",
   "metadata": {},
   "source": [
    "## NETWORK"
   ]
  },
  {
   "cell_type": "code",
   "execution_count": 4,
   "metadata": {},
   "outputs": [],
   "source": [
    "incidents = pd.read_csv('Data/incidents_network.csv',index_col=0)"
   ]
  },
  {
   "cell_type": "code",
   "execution_count": 5,
   "metadata": {},
   "outputs": [
    {
     "data": {
      "text/html": [
       "<div>\n",
       "<style scoped>\n",
       "    .dataframe tbody tr th:only-of-type {\n",
       "        vertical-align: middle;\n",
       "    }\n",
       "\n",
       "    .dataframe tbody tr th {\n",
       "        vertical-align: top;\n",
       "    }\n",
       "\n",
       "    .dataframe thead th {\n",
       "        text-align: right;\n",
       "    }\n",
       "</style>\n",
       "<table border=\"1\" class=\"dataframe\">\n",
       "  <thead>\n",
       "    <tr style=\"text-align: right;\">\n",
       "      <th></th>\n",
       "      <th>inc1</th>\n",
       "      <th>inc2</th>\n",
       "      <th>weight</th>\n",
       "    </tr>\n",
       "  </thead>\n",
       "  <tbody>\n",
       "    <tr>\n",
       "      <th>0</th>\n",
       "      <td>Shot - Wounded/Injured</td>\n",
       "      <td>Mass Shooting</td>\n",
       "      <td>1561.0</td>\n",
       "    </tr>\n",
       "  </tbody>\n",
       "</table>\n",
       "</div>"
      ],
      "text/plain": [
       "                     inc1           inc2  weight\n",
       "0  Shot - Wounded/Injured  Mass Shooting  1561.0"
      ]
     },
     "execution_count": 5,
     "metadata": {},
     "output_type": "execute_result"
    }
   ],
   "source": [
    "incidents.head(1)"
   ]
  },
  {
   "cell_type": "code",
   "execution_count": 6,
   "metadata": {},
   "outputs": [],
   "source": [
    "edges = incidents[incidents.weight != 0] # delete rows with zero-weight"
   ]
  },
  {
   "cell_type": "code",
   "execution_count": 7,
   "metadata": {},
   "outputs": [],
   "source": [
    "import collections\n",
    "import community\n",
    "import networkx as nx \n",
    "from netwulf import visualize\n",
    "import matplotlib.pyplot as plt\n",
    "from matplotlib.pyplot import figure"
   ]
  },
  {
   "cell_type": "code",
   "execution_count": 9,
   "metadata": {},
   "outputs": [
    {
     "name": "stdout",
     "output_type": "stream",
     "text": [
      "Name: \n",
      "Type: Graph\n",
      "Number of nodes: 108\n",
      "Number of edges: 3990\n",
      "Average degree:  73.8889\n"
     ]
    }
   ],
   "source": [
    "#G.clear()\n",
    "G = nx.from_pandas_edgelist(edges, 'inc1', 'inc2', 'weight')\n",
    "print(nx.info(G))"
   ]
  },
  {
   "cell_type": "code",
   "execution_count": 10,
   "metadata": {},
   "outputs": [
    {
     "name": "stdout",
     "output_type": "stream",
     "text": [
      "changing directory to /Users/Anna/.netwulf\n",
      "starting server here ... /Users/Anna/.netwulf\n"
     ]
    },
    {
     "name": "stderr",
     "output_type": "stream",
     "text": [
      "127.0.0.1 - - [10/Oct/2019 12:32:38] \"GET /?data=tmp_16db53a471f.json&config=config_tmp_16db53a471f.json HTTP/1.1\" 200 -\n",
      "127.0.0.1 - - [10/Oct/2019 12:32:38] \"GET /libs/d3.v4.min.js HTTP/1.1\" 200 -\n",
      "127.0.0.1 - - [10/Oct/2019 12:32:38] \"GET /libs/dat.gui.js HTTP/1.1\" 200 -\n",
      "127.0.0.1 - - [10/Oct/2019 12:32:38] \"GET /parse_options.js HTTP/1.1\" 200 -\n",
      "127.0.0.1 - - [10/Oct/2019 12:32:39] \"GET /config_tmp_16db53a471f.json HTTP/1.1\" 200 -\n",
      "127.0.0.1 - - [10/Oct/2019 12:32:39] \"GET /tmp_16db53a471f.json HTTP/1.1\" 200 -\n",
      "127.0.0.1 - - [10/Oct/2019 12:32:39] code 404, message File not found\n",
      "127.0.0.1 - - [10/Oct/2019 12:32:39] \"GET /favicon.ico HTTP/1.1\" 404 -\n"
     ]
    },
    {
     "name": "stdout",
     "output_type": "stream",
     "text": [
      "stopping server ...\n",
      "was asked to stop the server\n",
      "deleted all files\n",
      "changing directory back to /Users/Anna/Documents/GitHub/Gun_Violence_E19\n"
     ]
    }
   ],
   "source": [
    "partition = community.best_partition(G)\n",
    "communi_seq = partition.values()\n",
    "communi_count = collections.Counter(communi_seq)\n",
    "cu, cnt = zip(*communi_count.items())\n",
    "\n",
    "\n",
    "nx.set_node_attributes(G, partition, 'group')\n",
    "\n",
    "visualize(G)"
   ]
  }
 ],
 "metadata": {
  "kernelspec": {
   "display_name": "Python 3",
   "language": "python",
   "name": "python3"
  },
  "language_info": {
   "codemirror_mode": {
    "name": "ipython",
    "version": 3
   },
   "file_extension": ".py",
   "mimetype": "text/x-python",
   "name": "python",
   "nbconvert_exporter": "python",
   "pygments_lexer": "ipython3",
   "version": "3.7.4"
  }
 },
 "nbformat": 4,
 "nbformat_minor": 2
}
