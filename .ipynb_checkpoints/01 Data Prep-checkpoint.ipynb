{
 "cells": [
  {
   "cell_type": "code",
   "execution_count": 1,
   "metadata": {},
   "outputs": [],
   "source": [
    "from zipfile import ZipFile\n",
    "import numpy as np"
   ]
  },
  {
   "cell_type": "code",
   "execution_count": 2,
   "metadata": {},
   "outputs": [],
   "source": [
    "import pandas as pd\n",
    "import zipfile\n",
    "import re\n",
    "\n",
    "zf = zipfile.ZipFile('Rawdata/gun-violence-data_01-2013_03-2018.csv.zip') \n",
    "df = pd.read_csv('Rawdata/gun-violence-data_01-2013_03-2018.csv.zip')"
   ]
  },
  {
   "cell_type": "markdown",
   "metadata": {},
   "source": [
    "### Drop rows without lat/lon data"
   ]
  },
  {
   "cell_type": "code",
   "execution_count": 3,
   "metadata": {},
   "outputs": [],
   "source": [
    "df = df.dropna(subset=['latitude'])"
   ]
  },
  {
   "cell_type": "markdown",
   "metadata": {},
   "source": [
    "### Removing Alaska, Hawaii and District of Columbia"
   ]
  },
  {
   "cell_type": "code",
   "execution_count": 4,
   "metadata": {},
   "outputs": [],
   "source": [
    "df = df[df['state']!='Alaska']\n",
    "df = df[df['state']!='Hawaii']\n",
    "df = df[df['state']!='District of Columbia']"
   ]
  },
  {
   "cell_type": "markdown",
   "metadata": {},
   "source": [
    "### Format date-time in order to drop year 2013"
   ]
  },
  {
   "cell_type": "code",
   "execution_count": 10,
   "metadata": {},
   "outputs": [],
   "source": [
    "df['Date'] = pd.to_datetime(df.date.str.strip(), format = '%Y-%m-%d') # make date time\n",
    "df = df.drop(columns = 'date')"
   ]
  },
  {
   "cell_type": "code",
   "execution_count": 11,
   "metadata": {},
   "outputs": [],
   "source": [
    "df['Year'] = df.Date.apply(lambda x: x.year)"
   ]
  },
  {
   "cell_type": "markdown",
   "metadata": {},
   "source": [
    "### Drops irrelevant columns and data from 2013"
   ]
  },
  {
   "cell_type": "code",
   "execution_count": 12,
   "metadata": {},
   "outputs": [],
   "source": [
    "df = df[df['Year']!= 2013]\n",
    "\n",
    "df = df.drop(columns = ['address', 'incident_url','source_url','incident_url_fields_missing', 'congressional_district',\n",
    "                        'gun_stolen','gun_type', 'notes', 'n_guns_involved','sources', 'state_house_district', 'state_senate_district'])\n"
   ]
  },
  {
   "cell_type": "code",
   "execution_count": 13,
   "metadata": {},
   "outputs": [],
   "source": [
    "df = df.reset_index()\n",
    "df = df.drop(columns = 'index')"
   ]
  },
  {
   "cell_type": "markdown",
   "metadata": {},
   "source": [
    "## Splitting incident characteristics and matching with incident ID "
   ]
  },
  {
   "cell_type": "code",
   "execution_count": 14,
   "metadata": {},
   "outputs": [],
   "source": [
    "id_incident = []\n",
    "\n",
    "for i in range(len(df)):\n",
    "    id_ = df['incident_id'][i]\n",
    "    id_2 = np.array(id_)\n",
    "    incident = df['incident_characteristics'][i]\n",
    "    if pd.isnull(incident) == True: \n",
    "        continue\n",
    "    else:\n",
    "        incident2 = np.array([re.split(r'\\|\\|?',p) for p in re.split(r'\\|\\|?', incident)]).T\n",
    "        test = np.c_[id_2, incident2]\n",
    "        df_test = pd.DataFrame(test)\n",
    "        id_incident.append(df_test)\n",
    "\n",
    "               \n",
    "incidents = pd.concat(id_incident).reset_index().drop('index', 1)"
   ]
  },
  {
   "cell_type": "markdown",
   "metadata": {},
   "source": [
    "### Count \"missing\" characteristics to obtain max number of incident characteristics"
   ]
  },
  {
   "cell_type": "code",
   "execution_count": 16,
   "metadata": {},
   "outputs": [
    {
     "data": {
      "text/html": [
       "<div>\n",
       "<style scoped>\n",
       "    .dataframe tbody tr th:only-of-type {\n",
       "        vertical-align: middle;\n",
       "    }\n",
       "\n",
       "    .dataframe tbody tr th {\n",
       "        vertical-align: top;\n",
       "    }\n",
       "\n",
       "    .dataframe thead th {\n",
       "        text-align: right;\n",
       "    }\n",
       "</style>\n",
       "<table border=\"1\" class=\"dataframe\">\n",
       "  <thead>\n",
       "    <tr style=\"text-align: right;\">\n",
       "      <th></th>\n",
       "      <th>0</th>\n",
       "      <th>1</th>\n",
       "      <th>2</th>\n",
       "      <th>3</th>\n",
       "      <th>4</th>\n",
       "      <th>5</th>\n",
       "      <th>6</th>\n",
       "      <th>7</th>\n",
       "      <th>8</th>\n",
       "      <th>9</th>\n",
       "      <th>...</th>\n",
       "      <th>11</th>\n",
       "      <th>12</th>\n",
       "      <th>13</th>\n",
       "      <th>14</th>\n",
       "      <th>15</th>\n",
       "      <th>16</th>\n",
       "      <th>17</th>\n",
       "      <th>18</th>\n",
       "      <th>19</th>\n",
       "      <th>MISSING</th>\n",
       "    </tr>\n",
       "  </thead>\n",
       "  <tbody>\n",
       "    <tr>\n",
       "      <td>130518</td>\n",
       "      <td>599153</td>\n",
       "      <td>Shot - Wounded/Injured</td>\n",
       "      <td>Shot - Dead (murder, accidental, suicide)</td>\n",
       "      <td>Accidental Shooting</td>\n",
       "      <td>Accidental Shooting - Death</td>\n",
       "      <td>Accidental Shooting - Injury</td>\n",
       "      <td>Accidental/Negligent Discharge</td>\n",
       "      <td>Mistaken ID (thought it was an intruder/threat...</td>\n",
       "      <td>Home Invasion</td>\n",
       "      <td>Home Invasion - Resident killed</td>\n",
       "      <td>...</td>\n",
       "      <td>Home Invasion - subject/suspect/perpetrator ki...</td>\n",
       "      <td>Defensive Use</td>\n",
       "      <td>Defensive Use - Crime occurs, victim shoots su...</td>\n",
       "      <td>Defensive Use - Stand Your Ground/Castle Doctr...</td>\n",
       "      <td>Criminal act with stolen gun</td>\n",
       "      <td>Possession (gun(s) found during commission of ...</td>\n",
       "      <td>Gun(s) stolen from owner</td>\n",
       "      <td>Stolen/Illegally owned gun{s} recovered during...</td>\n",
       "      <td>Concealed Carry License - Victim</td>\n",
       "      <td>0</td>\n",
       "    </tr>\n",
       "  </tbody>\n",
       "</table>\n",
       "<p>1 rows × 21 columns</p>\n",
       "</div>"
      ],
      "text/plain": [
       "             0                       1  \\\n",
       "130518  599153  Shot - Wounded/Injured   \n",
       "\n",
       "                                                2                    3  \\\n",
       "130518  Shot - Dead (murder, accidental, suicide)  Accidental Shooting   \n",
       "\n",
       "                                  4                             5  \\\n",
       "130518  Accidental Shooting - Death  Accidental Shooting - Injury   \n",
       "\n",
       "                                     6  \\\n",
       "130518  Accidental/Negligent Discharge   \n",
       "\n",
       "                                                        7              8  \\\n",
       "130518  Mistaken ID (thought it was an intruder/threat...  Home Invasion   \n",
       "\n",
       "                                      9  ...  \\\n",
       "130518  Home Invasion - Resident killed  ...   \n",
       "\n",
       "                                                       11             12  \\\n",
       "130518  Home Invasion - subject/suspect/perpetrator ki...  Defensive Use   \n",
       "\n",
       "                                                       13  \\\n",
       "130518  Defensive Use - Crime occurs, victim shoots su...   \n",
       "\n",
       "                                                       14  \\\n",
       "130518  Defensive Use - Stand Your Ground/Castle Doctr...   \n",
       "\n",
       "                                  15  \\\n",
       "130518  Criminal act with stolen gun   \n",
       "\n",
       "                                                       16  \\\n",
       "130518  Possession (gun(s) found during commission of ...   \n",
       "\n",
       "                              17  \\\n",
       "130518  Gun(s) stolen from owner   \n",
       "\n",
       "                                                       18  \\\n",
       "130518  Stolen/Illegally owned gun{s} recovered during...   \n",
       "\n",
       "                                      19 MISSING  \n",
       "130518  Concealed Carry License - Victim       0  \n",
       "\n",
       "[1 rows x 21 columns]"
      ]
     },
     "execution_count": 16,
     "metadata": {},
     "output_type": "execute_result"
    }
   ],
   "source": [
    "incidents['MISSING']= incidents.apply(lambda x: x.isnull().sum(), axis='columns')\n",
    "incidents.loc[incidents['MISSING'] == 0]"
   ]
  },
  {
   "cell_type": "code",
   "execution_count": 20,
   "metadata": {},
   "outputs": [],
   "source": [
    "incidents.columns = ['A','B','C','D','E','F','G','H','I','J','K','L','M','N','O','P','Q','R','S','T','U']"
   ]
  },
  {
   "cell_type": "markdown",
   "metadata": {},
   "source": [
    "## Identifying the unique values in incident characteristics"
   ]
  },
  {
   "cell_type": "code",
   "execution_count": 21,
   "metadata": {
    "scrolled": true
   },
   "outputs": [
    {
     "data": {
      "text/plain": [
       "array(['Shots Fired - No Injuries', 'Officer Involved Incident',\n",
       "       'Shot - Dead (murder, accidental, suicide)',\n",
       "       'Shot - Wounded/Injured', 'Drive-by (car to street, car to car)',\n",
       "       'Armed robbery with injury/death and/or evidence of DGU found',\n",
       "       'Implied Weapon', 'Home Invasion',\n",
       "       'Home Invasion - Resident injured', 'Pistol-whipping',\n",
       "       'Accidental Shooting', 'Accidental Shooting - Injury',\n",
       "       'Cleaning gun', 'Brandishing/flourishing/open carry/lost/found',\n",
       "       'Officer Involved Shooting - subject/suspect/perpetrator shot',\n",
       "       'Possession (gun(s) found during commission of other crimes)',\n",
       "       'Non-Shooting Incident', 'Drug involvement',\n",
       "       'ATF/LE Confiscation/Raid/Arrest', 'Unlawful purchase/sale',\n",
       "       'Car-jacking', 'Accidental Shooting - Death',\n",
       "       'BB/Pellet/Replica gun', 'Hunting accident', 'Road rage',\n",
       "       'Suicide^', 'Murder/Suicide', 'Domestic Violence',\n",
       "       'Home Invasion - No death or injury',\n",
       "       'Accidental/Negligent Discharge',\n",
       "       'Shots fired, no action (reported, no evidence found)',\n",
       "       'Mass Shooting (4+ victims injured or killed excluding the subject/suspect/perpetrator, one location)',\n",
       "       'Gang involvement',\n",
       "       'Possession of gun by felon or prohibited person',\n",
       "       'Sex crime involving firearm', 'Defensive Use', 'TSA Action',\n",
       "       'Institution/Group/Business',\n",
       "       'Officer Involved Shooting - subject/suspect/perpetrator killed',\n",
       "       'Under the influence of alcohol or drugs (only applies to the subject/suspect/perpetrator )',\n",
       "       'Thought gun was unloaded', 'Gun(s) stolen from owner',\n",
       "       'Gun range/gun shop/gun show shooting',\n",
       "       'Officer Involved Shooting - Officer shot',\n",
       "       'Home Invasion - subject/suspect/perpetrator killed',\n",
       "       'Home Invasion - subject/suspect/perpetrator injured',\n",
       "       'Animal shot/killed', 'Child Involved Incident',\n",
       "       'Child injured self',\n",
       "       'Officer Involved Shooting - subject/suspect/perpetrator suicide at standoff',\n",
       "       'Suicide - Attempt',\n",
       "       'Bar/club incident - in or around establishment',\n",
       "       'Home Invasion - Resident killed', 'Child killed by child',\n",
       "       'Self-Inflicted (not suicide or suicide attempt - NO PERP)',\n",
       "       'School Incident', 'School Shooting - elementary/secondary school',\n",
       "       'Officer Involved Incident - Weapon involved but no shots fired',\n",
       "       'Defensive Use - Victim stops crime',\n",
       "       'Defensive Use - Shots fired, no injury/death',\n",
       "       'Concealed Carry License - Victim',\n",
       "       'Officer Involved Shooting - Shots fired, no injury',\n",
       "       'Kidnapping/abductions/hostage', 'House party',\n",
       "       'Accidental Shooting at a Business',\n",
       "       'Defensive Use - Crime occurs, victim shoots subject/suspect/perpetrator',\n",
       "       'Criminal act with stolen gun', 'Child killed self',\n",
       "       'Child picked up & fired gun',\n",
       "       'Gun at school, no death/injury - elementary/secondary school',\n",
       "       'Gun at school, no death/injury - university/college',\n",
       "       'Non-Aggression Incident', 'Defensive Use - WITHOUT a gun',\n",
       "       'Attempted Murder/Suicide (one variable unsuccessful)',\n",
       "       'Stolen/Illegally owned gun{s} recovered during arrest/warrant',\n",
       "       'Police Targeted',\n",
       "       'Defensive Use - Stand Your Ground/Castle Doctrine established',\n",
       "       'Officer Involved Shooting - Officer killed',\n",
       "       'School Shooting - university/college', 'Playing with gun',\n",
       "       'Child injured by child',\n",
       "       'Officer Involved Shooting - subject/suspect/perpetrator unarmed',\n",
       "       'Spree Shooting (multiple victims, multiple locations)',\n",
       "       'Assault weapon (AR-15, AK-47, and ALL variants defined by law enforcement)',\n",
       "       'ShotSpotter',\n",
       "       'Officer Involved Shooting - subject/suspect/perpetrator surrender at standoff',\n",
       "       'Defensive Use - Good Samaritan/Third Party',\n",
       "       'Mass Murder (4+ deceased victims excluding the subject/suspect/perpetrator , one location)',\n",
       "       'Child killed (not child shooter)',\n",
       "       'Child with gun - no shots fired', 'Gun shop robbery or burglary',\n",
       "       'Shootout (where VENN diagram of shooters and victims overlap)',\n",
       "       'Guns stolen from law enforcement', 'Hate crime',\n",
       "       'LOCKDOWN/ALERT ONLY: No GV Incident Occurred Onsite',\n",
       "       'Workplace shooting (disgruntled employee)',\n",
       "       'Defensive use - No shots fired',\n",
       "       'Officer Involved Shooting - Bystander shot',\n",
       "       'Officer Involved Shooting - Bystander killed',\n",
       "       'Child injured (not child shooter)', 'Gun buy back action',\n",
       "       'Concealed Carry License - Perpetrator',\n",
       "       'Officer Involved Shooting - Accidental discharge - no injury required',\n",
       "       'Mistaken ID (thought it was an intruder/threat, was friend/family)',\n",
       "       'Officer Involved Shooting - subject/suspect/perpetrator suicide by cop',\n",
       "       'Terrorism Involvement', 'Ghost gun', 'Political Violence', 'NAV'],\n",
       "      dtype=object)"
      ]
     },
     "execution_count": 21,
     "metadata": {},
     "output_type": "execute_result"
    }
   ],
   "source": [
    "stacked = incidents[['B','C','D','E','F','G','H','I','J','K','L','M','N','O','P','Q','R','S','T']].stack()\n",
    "unikke = stacked.unique()"
   ]
  },
  {
   "cell_type": "markdown",
   "metadata": {},
   "source": [
    "### Correct incidents characteristics with problematic formating"
   ]
  },
  {
   "cell_type": "code",
   "execution_count": 22,
   "metadata": {},
   "outputs": [],
   "source": [
    "unikke2 = ['Shot - Wounded/Injured',\n",
    "       'Mass Shooting',\n",
    "       'Possession',\n",
    "       'Possession of gun by felon or prohibited person',\n",
    "       'Shot - Dead', 'Gang involvement',\n",
    "       'Shots Fired - No Injuries',\n",
    "       'Bar/club incident - in or around establishment',\n",
    "       'Officer Involved Incident',\n",
    "       'Officer Involved Shooting - subject/suspect/perpetrator killed',\n",
    "       'Drug involvement', 'Kidnapping/abductions/hostage',\n",
    "       'Under the influence of alcohol or drugs',\n",
    "       'Suicide', 'Murder/Suicide',\n",
    "       'Attempted Murder/Suicide',\n",
    "       'Domestic Violence', 'Home Invasion',\n",
    "       'Home Invasion - Resident killed',\n",
    "       'Armed robbery with injury/death and/or evidence of DGU found',\n",
    "       'Drive-by',\n",
    "       'Officer Involved Shooting - Officer shot',\n",
    "       'Officer Involved Shooting - Officer killed',\n",
    "       'Officer Involved Shooting - subject/suspect/perpetrator shot',\n",
    "       'Officer Involved Shooting - subject/suspect/perpetrator suicide at standoff',\n",
    "       'Spree Shooting',\n",
    "       'Institution/Group/Business', 'Animal shot/killed',\n",
    "       'Home Invasion - Resident injured',\n",
    "       'Mass Murder',\n",
    "       'Concealed Carry License - Perpetrator',\n",
    "       'Stolen/Illegally owned',\n",
    "       'School Incident', 'School Shooting - university/college',\n",
    "       'Car-jacking', 'Hate crime', 'House party', 'Defensive Use',\n",
    "       'Defensive Use - Crime occurs, victim shoots subject/suspect/perpetrator',\n",
    "       'Defensive Use - Victim stops crime',\n",
    "       'Workplace shooting',\n",
    "       'Assault weapon',\n",
    "       'Pistol-whipping', 'Implied Weapon', 'Accidental Shooting',\n",
    "       'Accidental Shooting - Injury', 'Cleaning gun',\n",
    "       'Brandishing/flourishing/open carry/lost/found',\n",
    "       'Non-Shooting Incident', 'ATF/LE Confiscation/Raid/Arrest',\n",
    "       'Unlawful purchase/sale', 'Accidental Shooting - Death',\n",
    "       'BB/Pellet/Replica gun', 'Hunting accident', 'Road rage',\n",
    "       'Home Invasion - No death or injury',\n",
    "       'Accidental/Negligent Discharge',\n",
    "       'Shots fired, no action',\n",
    "       'Sex crime involving firearm', 'TSA Action',\n",
    "       'Thought gun was unloaded', 'stolen from owner',\n",
    "       'Gun range/gun shop/gun show shooting',\n",
    "       'Home Invasion - subject/suspect/perpetrator killed',\n",
    "       'Home Invasion - subject/suspect/perpetrator injured',\n",
    "       'Child Involved Incident', 'Child injured self',\n",
    "       'Suicide - Attempt', 'Child killed by child',\n",
    "       'Self-Inflicted',\n",
    "       'School Shooting - elementary/secondary school',\n",
    "       'Officer Involved Incident - Weapon involved but no shots fired',\n",
    "       'Defensive Use - Shots fired, no injury/death',\n",
    "       'Concealed Carry License - Victim',\n",
    "       'Officer Involved Shooting - Shots fired, no injury',\n",
    "       'Accidental Shooting at a Business',\n",
    "       'Criminal act with stolen gun', 'Child killed self',\n",
    "       'Child picked up & fired gun',\n",
    "       'Gun at school, no death/injury - elementary/secondary school',\n",
    "       'Gun at school, no death/injury - university/college',\n",
    "       'Non-Aggression Incident', 'Defensive Use - WITHOUT a gun',\n",
    "       'Police Targeted',\n",
    "       'Defensive Use - Stand Your Ground/Castle Doctrine established',\n",
    "       'Playing with gun', 'Child injured by child',\n",
    "       'Officer Involved Shooting - subject/suspect/perpetrator unarmed',\n",
    "       'ShotSpotter',\n",
    "       'Officer Involved Shooting - subject/suspect/perpetrator surrender at standoff',\n",
    "       'Defensive Use - Good Samaritan/Third Party',\n",
    "       'LOCKDOWN/ALERT ONLY: No GV Incident Occurred Onsite',\n",
    "       'Child killed',\n",
    "       'Child with gun - no shots fired', 'Gun shop robbery or burglary',\n",
    "       'Shootout',\n",
    "       'Guns stolen from law enforcement',\n",
    "       'Defensive use - No shots fired',\n",
    "       'Officer Involved Shooting - Bystander shot',\n",
    "       'Officer Involved Shooting - Bystander killed',\n",
    "       'Child injured', 'Gun buy back action',\n",
    "       'Terrorism Involvement',\n",
    "       'Officer Involved Shooting - Accidental discharge - no injury required',\n",
    "       'Mistaken ID ',\n",
    "       'Officer Involved Shooting - subject/suspect/perpetrator suicide by cop',\n",
    "       'Ghost gun', 'Political Violence', 'NAV']"
   ]
  },
  {
   "cell_type": "markdown",
   "metadata": {},
   "source": [
    "## Creating columns for each incident"
   ]
  },
  {
   "cell_type": "code",
   "execution_count": 23,
   "metadata": {},
   "outputs": [],
   "source": [
    "for i in unikke2: \n",
    "    df[i] = df.incident_characteristics.str.contains(i)"
   ]
  },
  {
   "cell_type": "code",
   "execution_count": 38,
   "metadata": {},
   "outputs": [],
   "source": [
    "# This dataframe countains nan in incident columns. \n",
    "#This is due to the fact that some incidents_characteristics are empty"
   ]
  },
  {
   "cell_type": "markdown",
   "metadata": {},
   "source": [
    "## Making table with incidents"
   ]
  },
  {
   "cell_type": "code",
   "execution_count": 79,
   "metadata": {},
   "outputs": [],
   "source": [
    "# Tjekker om vi har identificeret de rigtig variable \n",
    "col = [('False',[]),('True',[])]\n",
    "\n",
    "\n",
    "for i in unikke2:    \n",
    "    s = df[i].value_counts()\n",
    "    s1 = list(s)\n",
    "    for j in range(2): \n",
    "        col[j][1].append(s1[j])\n",
    "    "
   ]
  },
  {
   "cell_type": "code",
   "execution_count": 80,
   "metadata": {},
   "outputs": [],
   "source": [
    "Dict = {title:column for (title,column) in col}\n",
    "di = pd.DataFrame(Dict) #Tabel der viser, hvor mange incidents der er \n",
    "nv_incident = pd.DataFrame(unikke)\n",
    "di['Name']=pd.DataFrame(nv_incident, index = di.index)\n",
    "di = di[['Name','False','True']]\n"
   ]
  },
  {
   "cell_type": "code",
   "execution_count": 81,
   "metadata": {},
   "outputs": [
    {
     "data": {
      "text/html": [
       "<div>\n",
       "<style scoped>\n",
       "    .dataframe tbody tr th:only-of-type {\n",
       "        vertical-align: middle;\n",
       "    }\n",
       "\n",
       "    .dataframe tbody tr th {\n",
       "        vertical-align: top;\n",
       "    }\n",
       "\n",
       "    .dataframe thead th {\n",
       "        text-align: right;\n",
       "    }\n",
       "</style>\n",
       "<table border=\"1\" class=\"dataframe\">\n",
       "  <thead>\n",
       "    <tr style=\"text-align: right;\">\n",
       "      <th></th>\n",
       "      <th>Name</th>\n",
       "      <th>False</th>\n",
       "      <th>True</th>\n",
       "    </tr>\n",
       "  </thead>\n",
       "  <tbody>\n",
       "    <tr>\n",
       "      <td>0</td>\n",
       "      <td>Shots Fired - No Injuries</td>\n",
       "      <td>142045</td>\n",
       "      <td>92206</td>\n",
       "    </tr>\n",
       "    <tr>\n",
       "      <td>4</td>\n",
       "      <td>Drive-by (car to street, car to car)</td>\n",
       "      <td>181716</td>\n",
       "      <td>52535</td>\n",
       "    </tr>\n",
       "    <tr>\n",
       "      <td>48</td>\n",
       "      <td>Child injured self</td>\n",
       "      <td>190923</td>\n",
       "      <td>43328</td>\n",
       "    </tr>\n",
       "    <tr>\n",
       "      <td>2</td>\n",
       "      <td>Shot - Dead (murder, accidental, suicide)</td>\n",
       "      <td>195956</td>\n",
       "      <td>38295</td>\n",
       "    </tr>\n",
       "    <tr>\n",
       "      <td>6</td>\n",
       "      <td>Implied Weapon</td>\n",
       "      <td>199070</td>\n",
       "      <td>35181</td>\n",
       "    </tr>\n",
       "    <tr>\n",
       "      <td>...</td>\n",
       "      <td>...</td>\n",
       "      <td>...</td>\n",
       "      <td>...</td>\n",
       "    </tr>\n",
       "    <tr>\n",
       "      <td>104</td>\n",
       "      <td>Mistaken ID (thought it was an intruder/threat...</td>\n",
       "      <td>234171</td>\n",
       "      <td>80</td>\n",
       "    </tr>\n",
       "    <tr>\n",
       "      <td>99</td>\n",
       "      <td>Child injured (not child shooter)</td>\n",
       "      <td>234220</td>\n",
       "      <td>31</td>\n",
       "    </tr>\n",
       "    <tr>\n",
       "      <td>102</td>\n",
       "      <td>Concealed Carry License - Perpetrator</td>\n",
       "      <td>234221</td>\n",
       "      <td>30</td>\n",
       "    </tr>\n",
       "    <tr>\n",
       "      <td>107</td>\n",
       "      <td>Political Violence</td>\n",
       "      <td>234238</td>\n",
       "      <td>13</td>\n",
       "    </tr>\n",
       "    <tr>\n",
       "      <td>108</td>\n",
       "      <td>NAV</td>\n",
       "      <td>234249</td>\n",
       "      <td>2</td>\n",
       "    </tr>\n",
       "  </tbody>\n",
       "</table>\n",
       "<p>109 rows × 3 columns</p>\n",
       "</div>"
      ],
      "text/plain": [
       "                                                  Name   False   True\n",
       "0                            Shots Fired - No Injuries  142045  92206\n",
       "4                 Drive-by (car to street, car to car)  181716  52535\n",
       "48                                  Child injured self  190923  43328\n",
       "2            Shot - Dead (murder, accidental, suicide)  195956  38295\n",
       "6                                       Implied Weapon  199070  35181\n",
       "..                                                 ...     ...    ...\n",
       "104  Mistaken ID (thought it was an intruder/threat...  234171     80\n",
       "99                   Child injured (not child shooter)  234220     31\n",
       "102              Concealed Carry License - Perpetrator  234221     30\n",
       "107                                 Political Violence  234238     13\n",
       "108                                                NAV  234249      2\n",
       "\n",
       "[109 rows x 3 columns]"
      ]
     },
     "execution_count": 81,
     "metadata": {},
     "output_type": "execute_result"
    }
   ],
   "source": [
    "di.sort_values(by=['True'], ascending = False)"
   ]
  },
  {
   "cell_type": "markdown",
   "metadata": {},
   "source": [
    "## Saving CSV"
   ]
  },
  {
   "cell_type": "code",
   "execution_count": 19,
   "metadata": {},
   "outputs": [],
   "source": [
    "df.to_csv('Data/Data_incidents.csv.zip', index = True, sep = ',', compression = 'zip')"
   ]
  },
  {
   "cell_type": "code",
   "execution_count": null,
   "metadata": {},
   "outputs": [],
   "source": []
  }
 ],
 "metadata": {
  "kernelspec": {
   "display_name": "Python 3",
   "language": "python",
   "name": "python3"
  },
  "language_info": {
   "codemirror_mode": {
    "name": "ipython",
    "version": 3
   },
   "file_extension": ".py",
   "mimetype": "text/x-python",
   "name": "python",
   "nbconvert_exporter": "python",
   "pygments_lexer": "ipython3",
   "version": "3.7.4"
  }
 },
 "nbformat": 4,
 "nbformat_minor": 4
}
