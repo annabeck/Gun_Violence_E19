{
 "cells": [
  {
   "cell_type": "code",
   "execution_count": null,
   "metadata": {},
   "outputs": [],
   "source": [
    "from zipfile import ZipFile\n",
    "import numpy as np\n",
    "import geopandas as gpd\n",
    "from shapely.geometry import Point, Polygon\n",
    "import matplotlib.pyplot as plt\n",
    "import pandas as pd\n",
    "%matplotlib inline\n",
    "from geopandas import GeoDataFrame\n",
    "from descartes import PolygonPatch\n",
    "from mpl_toolkits.axes_grid1 import make_axes_locatable\n",
    "import seaborn as sns"
   ]
  },
  {
   "cell_type": "code",
   "execution_count": null,
   "metadata": {},
   "outputs": [],
   "source": [
    "from geopy.distance import geodesic"
   ]
  },
  {
   "cell_type": "code",
   "execution_count": null,
   "metadata": {},
   "outputs": [],
   "source": [
    "import pandas as pd\n",
    "import zipfile\n",
    "import re\n",
    "import os \n",
    "\n",
    "os.chdir('/Users/josefinebjornholm/Documents/GitHub/Gun_Violence_E19/Data')\n",
    "\n",
    "# Loading incident data \n",
    "zf = zipfile.ZipFile('Data_incidents.csv.zip') \n",
    "df = pd.read_csv('Data_incidents.csv.zip')\n"
   ]
  },
  {
   "cell_type": "code",
   "execution_count": null,
   "metadata": {},
   "outputs": [],
   "source": [
    "# For density plot at the bottom \n",
    "mass_shootings = df[df['Mass Shooting']==True].reset_index()\n",
    "#mass_shootings[mass_shootings['Date']='']"
   ]
  },
  {
   "cell_type": "code",
   "execution_count": null,
   "metadata": {},
   "outputs": [],
   "source": [
    "# Loading law data \n",
    "df_law = pd.read_csv('gun_law_merge.csv', sep = ';')\n",
    "\n",
    "# Renaming the state column\n",
    "df_law.rename(columns={'Unnamed: 0':'state'}, inplace=True)"
   ]
  },
  {
   "cell_type": "code",
   "execution_count": null,
   "metadata": {},
   "outputs": [],
   "source": [
    "#import fiona; help(fiona.open)"
   ]
  },
  {
   "cell_type": "code",
   "execution_count": null,
   "metadata": {},
   "outputs": [],
   "source": [
    "# Loading map data \n",
    "\n",
    "os.chdir('/Users/josefinebjornholm/Documents/GitHub/Gun_Violence_E19/maps/states_21basic')\n",
    "\n",
    "usa = gpd.read_file('states.shp')\n",
    "usa.head(2)\n",
    "#len(usa.STATE_NAME.unique())"
   ]
  },
  {
   "cell_type": "markdown",
   "metadata": {},
   "source": [
    "### Grouping the incident data by sum and count depending on what we want"
   ]
  },
  {
   "cell_type": "code",
   "execution_count": null,
   "metadata": {},
   "outputs": [],
   "source": [
    "df_group_count=df.groupby('state').count().reset_index()\n",
    "df_group_incidents_count = df_group_count[['state','incident_id']]\n",
    "df_group_sum = df.groupby('state').sum().reset_index()\n",
    "df_group_incidents_sum = df_group_sum[['state','n_killed','n_injured']]\n",
    "df_group_incidents_sum.head(1)\n",
    "\n",
    "# Dataset with N_incident, n_killed and n_injured\n",
    "df_group_incidents = df_group_incidents_sum.set_index('state').join(df_group_incidents_count.set_index('state')).reset_index()"
   ]
  },
  {
   "cell_type": "markdown",
   "metadata": {},
   "source": [
    "### Grouping the incident data by number of true in incident characteristics"
   ]
  },
  {
   "cell_type": "code",
   "execution_count": null,
   "metadata": {},
   "outputs": [],
   "source": [
    "df_IC = df.iloc[:, [2] + list(range(19,128))]\n",
    "df_IC_group = df_IC.groupby('state').sum().reset_index()\n",
    "\n",
    "for col in df_IC.columns: \n",
    "    print(col)"
   ]
  },
  {
   "cell_type": "markdown",
   "metadata": {},
   "source": [
    "### Editing law data"
   ]
  },
  {
   "cell_type": "code",
   "execution_count": null,
   "metadata": {},
   "outputs": [],
   "source": [
    "laws =['State permit required to purchase? - Long guns',\n",
    "'Firearm registration? - Long guns',\n",
    "'Owner license required? - Long guns',\n",
    "'Assault weapon law? - Long guns',\n",
    "'NFA weapons restricted? - Long guns',\n",
    "'Background checks required for private sales? - Long guns',\n",
    "'Magazine Capacity Restriction? - Long guns',\n",
    "'Red flag law? - Long guns',\n",
    "'State permit required to purchase? - Handguns',\n",
    "'Firearm registration? - Handguns',\n",
    "'Owner license required? - Handguns',\n",
    "'Assault weapon law? - Handguns',\n",
    "'NFA weapons restricted? - Handguns',\n",
    "'Background checks required for private sales? - Handguns',\n",
    "'Magazine Capacity Restriction? - Handguns',\n",
    "'Red flag law? - Handguns']\n",
    "\n",
    "laws_longguns = laws[0:8]\n",
    "laws_handguns = laws[8:16]\n",
    "\n",
    "print(len(laws_longguns))\n",
    "print(len(laws_handguns))\n",
    "\n",
    "\n",
    "#count how many laws on handguns and longgund each state has\n",
    "\n",
    "df_law['handgun_laws - count'] = df_law.loc[:, laws_handguns].sum(axis=1)\n",
    "df_law['longgun_laws - count'] = df_law.loc[:, laws_longguns].sum(axis=1)\n",
    "df_law.head(1)"
   ]
  },
  {
   "cell_type": "markdown",
   "metadata": {},
   "source": [
    "### Merging the map data, incident data and law data"
   ]
  },
  {
   "cell_type": "code",
   "execution_count": null,
   "metadata": {},
   "outputs": [],
   "source": [
    "merged_group = usa.set_index('STATE_NAME').join(df_group_incidents.set_index('state')).reset_index()\n",
    "merged_group_all = merged_group.set_index('STATE_NAME').join(df_IC_group.set_index('state')).join(df_law.set_index('state'))\n",
    "\n",
    "# Renaming incident_id to N_incident\n",
    "merged_group_all.rename(columns={'incident_id':'N_incident'}, inplace=True)"
   ]
  },
  {
   "cell_type": "code",
   "execution_count": null,
   "metadata": {},
   "outputs": [],
   "source": [
    "merged_group_all['NFA weapons restricted? - Handguns']\n",
    "merged_group_all[['N_incident','n_killed', 'n_injured','Child injured','Mass Shooting', 'Child killed self','Hate crime','NFA weapons restricted? - Handguns']].describe()\n",
    "#merged_group_all[['N_incident','n_killed', 'n_injured','Child injured','Mass Shooting', 'Child killed self','Hate crime','NFA weapons restricted? - Handguns']].sum()"
   ]
  },
  {
   "cell_type": "code",
   "execution_count": null,
   "metadata": {},
   "outputs": [],
   "source": [
    "## Code for plotting specific regions (can also be used for states etc)\n",
    "merged_group[merged_group.SUB_REGION == 'Pacific'].plot()"
   ]
  },
  {
   "cell_type": "markdown",
   "metadata": {},
   "source": [
    "## Plotting point map"
   ]
  },
  {
   "cell_type": "markdown",
   "metadata": {},
   "source": [
    "### Excluiding Alaska and Hawaii from the map"
   ]
  },
  {
   "cell_type": "markdown",
   "metadata": {},
   "source": [
    "df = df.drop(df[(df.state == 'Alaska') & (df.state == 'Hawaii')].index)\n"
   ]
  },
  {
   "cell_type": "markdown",
   "metadata": {},
   "source": [
    "df_49 = df.drop(df.index[(df.state == 'Alaska')])\n",
    "df_48 = df_49.drop(df_49.index[(df_49.state == 'Hawaii')])\n",
    "df_47 = df_48.drop(df_48.index[(df_48.state == 'District of Columbia')])\n",
    "print(len(df))\n",
    "print(len(df_49))\n",
    "print(len(df_48))\n",
    "print(len(df_47))"
   ]
  },
  {
   "cell_type": "markdown",
   "metadata": {},
   "source": [
    "df_47.state.unique()"
   ]
  },
  {
   "cell_type": "code",
   "execution_count": null,
   "metadata": {},
   "outputs": [],
   "source": [
    "geometry = [Point(xy) for xy in zip(df['longitude'], df['latitude'])]"
   ]
  },
  {
   "cell_type": "code",
   "execution_count": null,
   "metadata": {},
   "outputs": [],
   "source": [
    "crs = {'init': 'epsg:4269'}\n",
    "geo_df = gpd.GeoDataFrame(df, crs = crs, geometry = geometry)\n",
    "geo_df.head(1)"
   ]
  },
  {
   "cell_type": "code",
   "execution_count": null,
   "metadata": {},
   "outputs": [],
   "source": [
    "fig, ax = plt.subplots(figsize = (15,15))\n",
    "usa.plot(ax = ax, alpha = 0.4, color = 'grey')\n",
    "geo_df[geo_df['Mass Shooting']==True].plot(ax = ax, markersize = 20, color = 'blue', marker = 'o', label = 'Mass Shooting')\n",
    "#geo_df[geo_df['incident_id']>= 0].plot(ax = ax, markersize = 20, color = 'red', marker = 'o', label = 'Incident')\n",
    "plt.legend()"
   ]
  },
  {
   "cell_type": "markdown",
   "metadata": {},
   "source": [
    "## Plotting Heatmap with points"
   ]
  },
  {
   "cell_type": "code",
   "execution_count": null,
   "metadata": {},
   "outputs": [],
   "source": [
    "# set a variable that will call whatever column we want to visualise on the map\n",
    "variable = 'N_incident'\n",
    "\n",
    "# set the range for the choropleth\n",
    "vmin, vmax = 472, 17556\n",
    "\n",
    "# create figure and axes for Matplotlib\n",
    "fig, ax = plt.subplots(1, figsize=(15, 15))\n",
    "merged_group_all.plot(column=variable, cmap='Blues', linewidth=0.8, ax = ax)\n",
    "geo_df[geo_df['Mass Shooting']==True].plot(ax = ax, markersize = 20, color = 'orange', marker = 'o', label = 'Mass Shooting')\n",
    "\n",
    "plt.xlim(right = -65)\n",
    "plt.xlim(left = -127)\n",
    "plt.ylim(bottom = 22.5)\n",
    "plt.ylim(top = 50)"
   ]
  },
  {
   "cell_type": "code",
   "execution_count": null,
   "metadata": {},
   "outputs": [],
   "source": [
    "ax.axis('off')\n",
    "\n",
    "divider = make_axes_locatable(ax)\n",
    "cax = divider.append_axes(\"right\", size=\"3%\", pad=0.00)\n",
    "\n",
    "\n",
    "# Create colorbar as a legend\n",
    "sm = plt.cm.ScalarMappable(cmap='Blues', norm=plt.Normalize(vmin=vmin, vmax=vmax))\n",
    "\n",
    "# empty array for the data range\n",
    "sm._A = []\n",
    "\n",
    "# add the colorbar to the figure\n",
    "cbar = fig.colorbar(sm, cax=cax)"
   ]
  },
  {
   "cell_type": "code",
   "execution_count": null,
   "metadata": {},
   "outputs": [],
   "source": [
    "fig"
   ]
  },
  {
   "cell_type": "code",
   "execution_count": null,
   "metadata": {},
   "outputs": [],
   "source": [
    "os.chdir('/Users/josefinebjornholm/Documents/GitHub/Gun_Violence_E19/Figures')\n",
    "\n",
    "fig.savefig(\"Incidents_figure.pdf\", bbox_inches='tight')"
   ]
  },
  {
   "cell_type": "code",
   "execution_count": null,
   "metadata": {},
   "outputs": [],
   "source": [
    "# set a variable that will call whatever column we want to visualise on the map\n",
    "variable = 'handgun_laws - count'\n",
    "\n",
    "# set the range for the choropleth\n",
    "vmin, vmax = 0, 8\n",
    "\n",
    "# create figure and axes for Matplotlib\n",
    "fig_law, ax = plt.subplots(1, figsize=(20, 15))\n",
    "merged_group_all.plot(column=variable, cmap='Reds', linewidth=0.8, ax = ax)\n",
    "plt.xlim(right = -65)\n",
    "plt.xlim(left = -127)\n",
    "plt.ylim(bottom = 22.5)\n",
    "plt.ylim(top = 50)"
   ]
  },
  {
   "cell_type": "code",
   "execution_count": null,
   "metadata": {},
   "outputs": [],
   "source": [
    "ax.axis('off')\n",
    "\n",
    "divider = make_axes_locatable(ax)\n",
    "cax = divider.append_axes(\"right\", size=\"3%\", pad=0.00)\n",
    "\n",
    "\n",
    "# Create colorbar as a legend\n",
    "sm = plt.cm.ScalarMappable(cmap='Reds', norm=plt.Normalize(vmin=vmin, vmax=vmax))\n",
    "\n",
    "# empty array for the data range\n",
    "sm._A = []\n",
    "\n",
    "# add the colorbar to the figure\n",
    "cbar = fig.colorbar(sm, cax=cax)"
   ]
  },
  {
   "cell_type": "code",
   "execution_count": null,
   "metadata": {},
   "outputs": [],
   "source": [
    "fig_law"
   ]
  },
  {
   "cell_type": "code",
   "execution_count": null,
   "metadata": {},
   "outputs": [],
   "source": [
    "fig_law.savefig(\"law_figure.pdf\", bbox_inches='tight')"
   ]
  },
  {
   "cell_type": "code",
   "execution_count": null,
   "metadata": {},
   "outputs": [],
   "source": [
    "sns.set_style('white')\n",
    "sns.kdeplot(mass_shootings.longitude, mass_shootings.latitude, kernel='gau', cmap = 'Reds', shade = True, bw='silverman', shade_lowest=False)"
   ]
  },
  {
   "cell_type": "code",
   "execution_count": null,
   "metadata": {},
   "outputs": [],
   "source": [
    "fig_density, ax = plt.subplots(1, figsize=(15, 15))\n",
    "usa.plot(color='white', edgecolor='grey', linewidth=0.8, ax = ax)\n",
    "sns.kdeplot(mass_shootings.longitude, mass_shootings.latitude, kernel='biw', cmap = 'Reds', bw=1, ax = ax) #shade_lowest=False shade = True,\n",
    "plt.xlim(right = -65)\n",
    "plt.xlim(left = -127)\n",
    "plt.ylim(bottom = 22.5)\n",
    "plt.ylim(top = 50)\n",
    "ax.axis('off')"
   ]
  },
  {
   "cell_type": "code",
   "execution_count": null,
   "metadata": {},
   "outputs": [],
   "source": [
    "fig_density, ax = plt.subplots(1, figsize=(15, 15))\n",
    "usa.plot(color='white', edgecolor='grey', linewidth=0.8, ax = ax)\n",
    "sns.kdeplot(mass_shootings.longitude, mass_shootings.latitude, kernel='biw', cmap = 'Reds', bw='silverman', ax = ax) #shade_lowest=False shade = True,\n",
    "plt.xlim(right = -65)\n",
    "plt.xlim(left = -127)\n",
    "plt.ylim(bottom = 22.5)\n",
    "plt.ylim(top = 50)\n",
    "ax.axis('off')"
   ]
  },
  {
   "cell_type": "code",
   "execution_count": null,
   "metadata": {},
   "outputs": [],
   "source": [
    "os.chdir('/Users/josefinebjornholm/Documents/GitHub/Gun_Violence_E19/Figures')\n",
    "\n",
    "fig_density.savefig(\"density_mass_shootings.pdf\", bbox_inches='tight')"
   ]
  },
  {
   "cell_type": "code",
   "execution_count": null,
   "metadata": {},
   "outputs": [],
   "source": [
    "merged_group[merged_group.SUB_REGION == 'Middle Atlantic'].plot()"
   ]
  },
  {
   "cell_type": "code",
   "execution_count": null,
   "metadata": {},
   "outputs": [],
   "source": [
    "merged_group.SUB_REGION.unique"
   ]
  },
  {
   "cell_type": "code",
   "execution_count": null,
   "metadata": {},
   "outputs": [],
   "source": [
    "os.chdir('/Users/josefinebjornholm/Documents/GitHub/Gun_Violence_E19/Data')\n",
    "\n",
    "demo = pd.read_csv('demographics_2018.csv')"
   ]
  },
  {
   "cell_type": "code",
   "execution_count": null,
   "metadata": {},
   "outputs": [],
   "source": [
    "usa_demo = usa.set_index('STATE_NAME').join(demo.set_index('NAME')).reset_index()"
   ]
  },
  {
   "cell_type": "code",
   "execution_count": null,
   "metadata": {},
   "outputs": [],
   "source": [
    "usa_demo['Total_Pop'].describe()"
   ]
  },
  {
   "cell_type": "code",
   "execution_count": null,
   "metadata": {},
   "outputs": [],
   "source": [
    "# set a variable that will call whatever column we want to visualise on the map\n",
    "variable = 'Total_Pop'\n",
    "\n",
    "# set the range for the choropleth\n",
    "vmin, vmax = 577370, 39557040\n",
    "\n",
    "# create figure and axes for Matplotlib\n",
    "fig_pop, ax = plt.subplots(1, figsize=(20, 15))\n",
    "usa_demo.plot(column = variable, cmap='Greens', linewidth=0.8, ax = ax)\n",
    "plt.xlim(right = -65)\n",
    "plt.xlim(left = -127)\n",
    "plt.ylim(bottom = 22.5)\n",
    "plt.ylim(top = 50)"
   ]
  },
  {
   "cell_type": "code",
   "execution_count": null,
   "metadata": {},
   "outputs": [],
   "source": [
    "ax.axis('off')\n",
    "\n",
    "divider = make_axes_locatable(ax)\n",
    "cax = divider.append_axes(\"right\", size=\"3%\", pad=0.00)\n",
    "\n",
    "\n",
    "# Create colorbar as a legend\n",
    "sm = plt.cm.ScalarMappable(cmap='Greens', norm=plt.Normalize(vmin=vmin, vmax=vmax))\n",
    "\n",
    "# empty array for the data range\n",
    "sm._A = []\n",
    "\n",
    "# add the colorbar to the figure\n",
    "cbar = fig_pop.colorbar(sm, cax=cax)"
   ]
  },
  {
   "cell_type": "code",
   "execution_count": null,
   "metadata": {},
   "outputs": [],
   "source": [
    "fig_pop\n",
    "os.chdir('/Users/josefinebjornholm/Documents/GitHub/Gun_Violence_E19/Figures')\n",
    "\n",
    "fig_pop.savefig(\"population_map.pdf\", bbox_inches='tight')"
   ]
  },
  {
   "cell_type": "code",
   "execution_count": null,
   "metadata": {},
   "outputs": [],
   "source": []
  },
  {
   "cell_type": "code",
   "execution_count": null,
   "metadata": {},
   "outputs": [],
   "source": []
  },
  {
   "cell_type": "code",
   "execution_count": null,
   "metadata": {},
   "outputs": [],
   "source": []
  }
 ],
 "metadata": {
  "kernelspec": {
   "display_name": "Python 3",
   "language": "python",
   "name": "python3"
  },
  "language_info": {
   "codemirror_mode": {
    "name": "ipython",
    "version": 3
   },
   "file_extension": ".py",
   "mimetype": "text/x-python",
   "name": "python",
   "nbconvert_exporter": "python",
   "pygments_lexer": "ipython3",
   "version": "3.7.4"
  }
 },
 "nbformat": 4,
 "nbformat_minor": 4
}
