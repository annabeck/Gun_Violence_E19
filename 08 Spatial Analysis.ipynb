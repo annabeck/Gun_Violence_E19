{
 "cells": [
  {
   "cell_type": "markdown",
   "metadata": {},
   "source": [
    "## SPATIAL ANALYSIS"
   ]
  },
  {
   "cell_type": "code",
   "execution_count": 83,
   "metadata": {},
   "outputs": [],
   "source": [
    "import os\n",
    "import requests\n",
    "\n",
    "import numpy as np\n",
    "import pandas as pd\n",
    "import seaborn as sns\n",
    "\n",
    "import folium\n",
    "import geopandas as gpd\n",
    "import fiona\n",
    "import shapely\n",
    "\n",
    "\n",
    "import matplotlib.pyplot as plt\n",
    "from matplotlib.pyplot import figure\n",
    "%matplotlib inline\n",
    "import zipfile\n",
    "from zipfile import ZipFile\n",
    "from sklearn.neighbors import NearestNeighbors\n",
    "from haversine import haversine, Unit"
   ]
  },
  {
   "cell_type": "code",
   "execution_count": 84,
   "metadata": {},
   "outputs": [],
   "source": [
    "from astropy.stats import RipleysKEstimator"
   ]
  },
  {
   "cell_type": "code",
   "execution_count": 241,
   "metadata": {},
   "outputs": [],
   "source": [
    "# For G-function \n",
    "import scipy.spatial\n",
    "#import libpysal as ps\n",
    "import numpy as np\n",
    "from pointpats import PointPattern, PoissonPointProcess, as_window, G, F, J, K, L, Genv, Fenv, Jenv, Kenv, Lenv, Window\n",
    "%matplotlib inline\n",
    "import matplotlib.pyplot as plt"
   ]
  },
  {
   "cell_type": "markdown",
   "metadata": {},
   "source": [
    "## Download the Shape file of US Counties"
   ]
  },
  {
   "cell_type": "markdown",
   "metadata": {},
   "source": [
    "\n",
    "folder_root = '/Users/Anna/Documents/GitHub/Gun_Violence_E19/maps/tl_2017_us_county'\n",
    "\n",
    "os.chdir(folder_root) # change directions\n",
    "zip_file = zipfile.ZipFile(os.path.join(folder_root,'tl_2017_us_county.shp.zip')) # open the zip file\n",
    "zip_file.extractall()\n",
    "zip_file.close()\n",
    "county_data = gpd.read_file('tl_2017_us_county.shp') # read the un-zipped shape-file\n",
    "os.remove(os.path.join(folder_root, 'tl_2017_us_county.shp')) # delete the un-zipped file again, as it is too big to for GitHub sharing\n"
   ]
  },
  {
   "cell_type": "markdown",
   "metadata": {},
   "source": [
    "county_data['Statecode'] = pd.to_numeric(county_data['STATEFP'])\n",
    "county_data = county_data[['Statecode','NAME', 'NAMELSAD','geometry']]"
   ]
  },
  {
   "cell_type": "markdown",
   "metadata": {},
   "source": [
    "state_names = pd.read_csv('state-geocodes-v2016.csv', sep = ';')\n",
    "state_names = state_names[['State (FIPS)','Name']]\n",
    "state_names"
   ]
  },
  {
   "cell_type": "markdown",
   "metadata": {},
   "source": [
    "geo_county = pd.merge(county_data,state_names,left_on=['Statecode'], right_on = ['State (FIPS)'], how = 'left')"
   ]
  },
  {
   "cell_type": "markdown",
   "metadata": {},
   "source": [
    "geo_county = geo_county[geo_county['Name']!='Alaska']\n",
    "geo_county = geo_county[geo_county['Name']!='Hawaii']\n",
    "geo_county = geo_county[geo_county['Name']!='Districts of Columbia']\n",
    "geo_county = geo_county.dropna()\n",
    "geo_county['Name'].unique()"
   ]
  },
  {
   "cell_type": "markdown",
   "metadata": {},
   "source": [
    "fig, ax = plt.subplots(figsize = (20,20))\n",
    "geo_county.plot(ax = ax)\n",
    "\n",
    "plt.xlim(right = -65)\n",
    "plt.xlim(left = -127)\n",
    "plt.ylim(bottom = 22.5)\n"
   ]
  },
  {
   "cell_type": "markdown",
   "metadata": {},
   "source": [
    "extreme = geo_county.bounds\n",
    "min_x = extreme['minx'].min()\n",
    "max_x = extreme['maxx'].max()\n",
    "min_y = extreme['miny'].min()\n",
    "max_y = extreme['maxy'].max()"
   ]
  },
  {
   "cell_type": "markdown",
   "metadata": {},
   "source": [
    "horisontal_grid = np.arange(min_x,max_x,500)\n",
    "vertical_grid = np.arange(min_y,max_y,500)\n",
    "\n",
    "x = []\n",
    "y = [] \n",
    "\n",
    "for h in horisontal_grid: \n",
    "    for v in vertical_grid: \n",
    "        x.append(h)\n",
    "        y.append(v)"
   ]
  },
  {
   "cell_type": "markdown",
   "metadata": {},
   "source": [
    "## Spatial Analysis"
   ]
  },
  {
   "cell_type": "code",
   "execution_count": 69,
   "metadata": {},
   "outputs": [
    {
     "name": "stderr",
     "output_type": "stream",
     "text": [
      "/opt/anaconda3/lib/python3.7/site-packages/IPython/core/interactiveshell.py:3058: DtypeWarning: Columns (19,20,21,22,23,24,25,26,27,28,29,30,31,32,33,34,35,36,37,38,39,40,41,42,43,44,45,46,47,48,49,50,51,52,53,54,55,56,57,58,59,60,61,62,63,64,65,66,67,68,69,70,71,72,73,74,75,76,77,78,79,80,81,82,83,84,85,86,87,88,89,90,91,92,93,94,95,96,97,98,99,100,101,102,103,104,105,106,107,108,109,110,111,112,113,114,115,116,117,118,119,120,121,122,123,124,125,126,127) have mixed types. Specify dtype option on import or set low_memory=False.\n",
      "  interactivity=interactivity, compiler=compiler, result=result)\n"
     ]
    }
   ],
   "source": [
    "os.chdir('/Users/josefinebjornholm/Documents/GitHub/Gun_Violence_E19/Data')\n",
    "df = pd.read_csv('Data_incidents.csv.zip')"
   ]
  },
  {
   "cell_type": "code",
   "execution_count": 70,
   "metadata": {},
   "outputs": [
    {
     "data": {
      "text/plain": [
       "array([False, nan, True], dtype=object)"
      ]
     },
     "execution_count": 70,
     "metadata": {},
     "output_type": "execute_result"
    }
   ],
   "source": [
    "df['Mass Shooting'].unique()"
   ]
  },
  {
   "cell_type": "code",
   "execution_count": 95,
   "metadata": {},
   "outputs": [
    {
     "name": "stdout",
     "output_type": "stream",
     "text": [
      "1352 42134 47928 225150\n"
     ]
    }
   ],
   "source": [
    "## SPLIT THE DATA INTO THE SUB-GROUPS THAT WE ARE INTERESTED IN\n",
    "\n",
    "#MASS SHOOTINGS\n",
    "mass_shootings = df[df['Mass Shooting']== True].reset_index()\n",
    "\n",
    "#NON SHOOTINGS\n",
    "non_shootings = df[df['Non-Shooting Incident']== True]\n",
    "\n",
    "#DEAD SHOOTING EXC. MASS SHOOTINGS\n",
    "dead_shootings = df[df['Shot - Dead']==True]\n",
    "\n",
    "dead_shooting = dead_shootings[dead_shootings['Mass Shooting']==False]\n",
    "dead_shooting = dead_shootings[dead_shootings['Accidental Shooting']==False]\n",
    "\n",
    "#ALL GUN VIOLENCE\n",
    "all_gv = df[df['Mass Shooting'] == False]\n",
    "\n",
    "print(len(mass_shootings),len(non_shootings),len(dead_shooting), len(all_gv))"
   ]
  },
  {
   "cell_type": "code",
   "execution_count": 8,
   "metadata": {},
   "outputs": [
    {
     "data": {
      "text/plain": [
       "1352"
      ]
     },
     "execution_count": 8,
     "metadata": {},
     "output_type": "execute_result"
    }
   ],
   "source": [
    "mass_shootings['state'].unique()\n",
    "len(mass_shootings)"
   ]
  },
  {
   "cell_type": "code",
   "execution_count": 7,
   "metadata": {},
   "outputs": [],
   "source": [
    "X_ms = np.array(mass_shootings[['latitude','longitude']]) # extract the long-lat columns for KKN analysis\n",
    "X_ns = np.array(non_shootings[['latitude','longitude']])\n",
    "X_ds = np.array(dead_shootings[['latitude','longitude']])\n",
    "X_gv = np.array(all_gv[['latitude','longitude']])"
   ]
  },
  {
   "cell_type": "code",
   "execution_count": 21,
   "metadata": {},
   "outputs": [],
   "source": [
    "Mass = mass_shootings[['latitude','longitude']]"
   ]
  },
  {
   "cell_type": "markdown",
   "metadata": {},
   "source": [
    "## NON-SHOOTING NEIGHBOUR"
   ]
  },
  {
   "cell_type": "code",
   "execution_count": 10,
   "metadata": {},
   "outputs": [
    {
     "data": {
      "text/plain": [
       "array([[ 36.8508, -76.2859],\n",
       "       [ 40.6775, -73.7629],\n",
       "       [ 32.3986, -91.1579],\n",
       "       ...,\n",
       "       [ 33.0758, -96.7106],\n",
       "       [ 39.9321, -75.1027],\n",
       "       [ 40.2164, -74.0187]])"
      ]
     },
     "execution_count": 10,
     "metadata": {},
     "output_type": "execute_result"
    }
   ],
   "source": [
    "X_ms"
   ]
  },
  {
   "cell_type": "code",
   "execution_count": 11,
   "metadata": {},
   "outputs": [],
   "source": [
    "distances_ns = []\n",
    "for cor in range(len(X_ms)):\n",
    "    frame = np.vstack((X_ms[cor],X_ns)) # stack eack ms incident with the comparable incidents\n",
    "    frame = np.radians(frame) # Convert into radians\n",
    "    kkn = NearestNeighbors(n_neighbors=2, algorithm='auto', metric='haversine').fit(frame)\n",
    "    distance, indices = kkn.kneighbors([frame[0]]) # only return distance, indicies for the first row (the mass shooting)\n",
    "    dist = distance[0][1] * 6371 # convert into km\n",
    "    ns_cor = frame[indices[0][1]] #coordinates for the nearest neighbor (not saved outside loop)\n",
    "\n",
    "    distances_ns.append(dist)\n"
   ]
  },
  {
   "cell_type": "markdown",
   "metadata": {},
   "source": [
    "## DEAD-SHOOTING NEIGHBOUR"
   ]
  },
  {
   "cell_type": "code",
   "execution_count": 12,
   "metadata": {},
   "outputs": [],
   "source": [
    "distances_ds = []\n",
    "for cor in range(len(X_ms)):\n",
    "    frame = np.vstack((X_ms[cor],X_ds))\n",
    "    frame = np.radians(frame)\n",
    "    kkn = NearestNeighbors(n_neighbors=2, algorithm='auto', metric='haversine').fit(frame)\n",
    "    distance, indices = kkn.kneighbors([frame[0]])\n",
    "    dist = distance[0][1] * 6371\n",
    "    ns_cor = frame[indices[0][1]]\n",
    "\n",
    "    distances_ds.append(dist)"
   ]
  },
  {
   "cell_type": "markdown",
   "metadata": {},
   "source": [
    "## MASS-SHOOTING NEIGHBOUR"
   ]
  },
  {
   "cell_type": "code",
   "execution_count": 13,
   "metadata": {},
   "outputs": [],
   "source": [
    "X_ms = np.radians(X_ms)\n",
    "kkn = NearestNeighbors(n_neighbors=2, algorithm='auto', metric='haversine').fit(X_ms)\n",
    "distance, indices = kkn.kneighbors()"
   ]
  },
  {
   "cell_type": "code",
   "execution_count": 14,
   "metadata": {},
   "outputs": [],
   "source": [
    "distances_ms = []\n",
    "for i in range(len(distance)):\n",
    "    dist = distance[i][1] * 6371\n",
    "    distances_ms.append(dist)"
   ]
  },
  {
   "cell_type": "code",
   "execution_count": 15,
   "metadata": {},
   "outputs": [],
   "source": [
    "nn_ms = pd.DataFrame(distances_ms, columns = ['ms_distance']);\n",
    "nn_ns = pd.DataFrame(distances_ns, columns = ['ns_distance']);\n",
    "nn_ds = pd.DataFrame(distances_ds, columns = ['ds_distance']);"
   ]
  },
  {
   "cell_type": "code",
   "execution_count": 16,
   "metadata": {},
   "outputs": [
    {
     "name": "stdout",
     "output_type": "stream",
     "text": [
      "1352 1352 1352\n"
     ]
    }
   ],
   "source": [
    "print(len(nn_ms), len(nn_ns), len(nn_ds))"
   ]
  },
  {
   "cell_type": "code",
   "execution_count": 17,
   "metadata": {},
   "outputs": [],
   "source": [
    "# The columns to dataframe\n",
    "mass_shootings['MS_Dist'] = nn_ms\n",
    "mass_shootings['NS_Dist'] = nn_ns\n",
    "mass_shootings['DS_Dist'] = nn_ds"
   ]
  },
  {
   "cell_type": "code",
   "execution_count": 18,
   "metadata": {},
   "outputs": [
    {
     "data": {
      "text/html": [
       "<div>\n",
       "<style scoped>\n",
       "    .dataframe tbody tr th:only-of-type {\n",
       "        vertical-align: middle;\n",
       "    }\n",
       "\n",
       "    .dataframe tbody tr th {\n",
       "        vertical-align: top;\n",
       "    }\n",
       "\n",
       "    .dataframe thead th {\n",
       "        text-align: right;\n",
       "    }\n",
       "</style>\n",
       "<table border=\"1\" class=\"dataframe\">\n",
       "  <thead>\n",
       "    <tr style=\"text-align: right;\">\n",
       "      <th></th>\n",
       "      <th>index</th>\n",
       "      <th>Unnamed: 0</th>\n",
       "      <th>incident_id</th>\n",
       "      <th>state</th>\n",
       "      <th>city_or_county</th>\n",
       "      <th>n_killed</th>\n",
       "      <th>n_injured</th>\n",
       "      <th>incident_characteristics</th>\n",
       "      <th>latitude</th>\n",
       "      <th>location_description</th>\n",
       "      <th>...</th>\n",
       "      <th>Terrorism Involvement</th>\n",
       "      <th>Officer Involved Shooting - Accidental discharge - no injury required</th>\n",
       "      <th>Mistaken ID</th>\n",
       "      <th>Officer Involved Shooting - subject/suspect/perpetrator suicide by cop</th>\n",
       "      <th>Ghost gun</th>\n",
       "      <th>Political Violence</th>\n",
       "      <th>NAV</th>\n",
       "      <th>MS_Dist</th>\n",
       "      <th>NS_Dist</th>\n",
       "      <th>DS_Dist</th>\n",
       "    </tr>\n",
       "  </thead>\n",
       "  <tbody>\n",
       "    <tr>\n",
       "      <td>0</td>\n",
       "      <td>71</td>\n",
       "      <td>71</td>\n",
       "      <td>92194</td>\n",
       "      <td>Virginia</td>\n",
       "      <td>Norfolk</td>\n",
       "      <td>2</td>\n",
       "      <td>2</td>\n",
       "      <td>Shot - Wounded/Injured||Shot - Dead (murder, a...</td>\n",
       "      <td>36.8508</td>\n",
       "      <td>NaN</td>\n",
       "      <td>...</td>\n",
       "      <td>False</td>\n",
       "      <td>False</td>\n",
       "      <td>False</td>\n",
       "      <td>False</td>\n",
       "      <td>False</td>\n",
       "      <td>False</td>\n",
       "      <td>False</td>\n",
       "      <td>2.595616</td>\n",
       "      <td>0.447451</td>\n",
       "      <td>0.000000</td>\n",
       "    </tr>\n",
       "    <tr>\n",
       "      <td>1</td>\n",
       "      <td>321</td>\n",
       "      <td>321</td>\n",
       "      <td>92704</td>\n",
       "      <td>New York</td>\n",
       "      <td>Queens</td>\n",
       "      <td>1</td>\n",
       "      <td>3</td>\n",
       "      <td>Shot - Wounded/Injured||Shot - Dead (murder, a...</td>\n",
       "      <td>40.6775</td>\n",
       "      <td>NaN</td>\n",
       "      <td>...</td>\n",
       "      <td>False</td>\n",
       "      <td>False</td>\n",
       "      <td>False</td>\n",
       "      <td>False</td>\n",
       "      <td>False</td>\n",
       "      <td>False</td>\n",
       "      <td>False</td>\n",
       "      <td>2.630121</td>\n",
       "      <td>0.956968</td>\n",
       "      <td>0.000000</td>\n",
       "    </tr>\n",
       "    <tr>\n",
       "      <td>2</td>\n",
       "      <td>1481</td>\n",
       "      <td>1481</td>\n",
       "      <td>95500</td>\n",
       "      <td>Louisiana</td>\n",
       "      <td>Tallulah</td>\n",
       "      <td>0</td>\n",
       "      <td>6</td>\n",
       "      <td>Shot - Wounded/Injured||Mass Shooting (4+ vict...</td>\n",
       "      <td>32.3986</td>\n",
       "      <td>103 Klub</td>\n",
       "      <td>...</td>\n",
       "      <td>False</td>\n",
       "      <td>False</td>\n",
       "      <td>False</td>\n",
       "      <td>False</td>\n",
       "      <td>False</td>\n",
       "      <td>False</td>\n",
       "      <td>False</td>\n",
       "      <td>30.537472</td>\n",
       "      <td>26.329290</td>\n",
       "      <td>2.673553</td>\n",
       "    </tr>\n",
       "    <tr>\n",
       "      <td>3</td>\n",
       "      <td>1508</td>\n",
       "      <td>1508</td>\n",
       "      <td>95579</td>\n",
       "      <td>Illinois</td>\n",
       "      <td>Elgin</td>\n",
       "      <td>0</td>\n",
       "      <td>5</td>\n",
       "      <td>Shot - Wounded/Injured||Mass Shooting (4+ vict...</td>\n",
       "      <td>42.0401</td>\n",
       "      <td>NaN</td>\n",
       "      <td>...</td>\n",
       "      <td>False</td>\n",
       "      <td>False</td>\n",
       "      <td>False</td>\n",
       "      <td>False</td>\n",
       "      <td>False</td>\n",
       "      <td>False</td>\n",
       "      <td>False</td>\n",
       "      <td>38.002292</td>\n",
       "      <td>0.826531</td>\n",
       "      <td>0.640190</td>\n",
       "    </tr>\n",
       "    <tr>\n",
       "      <td>4</td>\n",
       "      <td>1567</td>\n",
       "      <td>1567</td>\n",
       "      <td>95550</td>\n",
       "      <td>Alabama</td>\n",
       "      <td>Huntsville</td>\n",
       "      <td>0</td>\n",
       "      <td>5</td>\n",
       "      <td>Shot - Wounded/Injured||Mass Shooting (4+ vict...</td>\n",
       "      <td>34.7371</td>\n",
       "      <td>NaN</td>\n",
       "      <td>...</td>\n",
       "      <td>False</td>\n",
       "      <td>False</td>\n",
       "      <td>False</td>\n",
       "      <td>False</td>\n",
       "      <td>False</td>\n",
       "      <td>False</td>\n",
       "      <td>False</td>\n",
       "      <td>11.969211</td>\n",
       "      <td>2.151040</td>\n",
       "      <td>0.191025</td>\n",
       "    </tr>\n",
       "    <tr>\n",
       "      <td>...</td>\n",
       "      <td>...</td>\n",
       "      <td>...</td>\n",
       "      <td>...</td>\n",
       "      <td>...</td>\n",
       "      <td>...</td>\n",
       "      <td>...</td>\n",
       "      <td>...</td>\n",
       "      <td>...</td>\n",
       "      <td>...</td>\n",
       "      <td>...</td>\n",
       "      <td>...</td>\n",
       "      <td>...</td>\n",
       "      <td>...</td>\n",
       "      <td>...</td>\n",
       "      <td>...</td>\n",
       "      <td>...</td>\n",
       "      <td>...</td>\n",
       "      <td>...</td>\n",
       "      <td>...</td>\n",
       "      <td>...</td>\n",
       "      <td>...</td>\n",
       "    </tr>\n",
       "    <tr>\n",
       "      <td>1347</td>\n",
       "      <td>225745</td>\n",
       "      <td>225745</td>\n",
       "      <td>1074886</td>\n",
       "      <td>California</td>\n",
       "      <td>San Francisco</td>\n",
       "      <td>1</td>\n",
       "      <td>5</td>\n",
       "      <td>Shot - Wounded/Injured||Shot - Dead (murder, a...</td>\n",
       "      <td>37.7163</td>\n",
       "      <td>Amazon Barbershop</td>\n",
       "      <td>...</td>\n",
       "      <td>False</td>\n",
       "      <td>False</td>\n",
       "      <td>False</td>\n",
       "      <td>False</td>\n",
       "      <td>False</td>\n",
       "      <td>False</td>\n",
       "      <td>False</td>\n",
       "      <td>4.530501</td>\n",
       "      <td>0.852293</td>\n",
       "      <td>0.000000</td>\n",
       "    </tr>\n",
       "    <tr>\n",
       "      <td>1348</td>\n",
       "      <td>226075</td>\n",
       "      <td>226075</td>\n",
       "      <td>1077180</td>\n",
       "      <td>Utah</td>\n",
       "      <td>Salt Lake City (West Valley City)</td>\n",
       "      <td>0</td>\n",
       "      <td>4</td>\n",
       "      <td>Shot - Wounded/Injured||Drive-by (car to stree...</td>\n",
       "      <td>40.7021</td>\n",
       "      <td>Walmart</td>\n",
       "      <td>...</td>\n",
       "      <td>False</td>\n",
       "      <td>False</td>\n",
       "      <td>False</td>\n",
       "      <td>False</td>\n",
       "      <td>False</td>\n",
       "      <td>False</td>\n",
       "      <td>False</td>\n",
       "      <td>20.641806</td>\n",
       "      <td>1.280196</td>\n",
       "      <td>0.622692</td>\n",
       "    </tr>\n",
       "    <tr>\n",
       "      <td>1349</td>\n",
       "      <td>226575</td>\n",
       "      <td>226575</td>\n",
       "      <td>1080234</td>\n",
       "      <td>Texas</td>\n",
       "      <td>Plano</td>\n",
       "      <td>1</td>\n",
       "      <td>3</td>\n",
       "      <td>Shot - Wounded/Injured||Shot - Dead (murder, a...</td>\n",
       "      <td>33.0758</td>\n",
       "      <td>Cross Creek Apartments</td>\n",
       "      <td>...</td>\n",
       "      <td>False</td>\n",
       "      <td>False</td>\n",
       "      <td>False</td>\n",
       "      <td>False</td>\n",
       "      <td>False</td>\n",
       "      <td>False</td>\n",
       "      <td>False</td>\n",
       "      <td>4.216156</td>\n",
       "      <td>3.052364</td>\n",
       "      <td>0.000000</td>\n",
       "    </tr>\n",
       "    <tr>\n",
       "      <td>1350</td>\n",
       "      <td>226620</td>\n",
       "      <td>226620</td>\n",
       "      <td>1080442</td>\n",
       "      <td>New Jersey</td>\n",
       "      <td>Camden</td>\n",
       "      <td>0</td>\n",
       "      <td>4</td>\n",
       "      <td>Shot - Wounded/Injured||Institution/Group/Busi...</td>\n",
       "      <td>39.9321</td>\n",
       "      <td>NaN</td>\n",
       "      <td>...</td>\n",
       "      <td>False</td>\n",
       "      <td>False</td>\n",
       "      <td>False</td>\n",
       "      <td>False</td>\n",
       "      <td>False</td>\n",
       "      <td>False</td>\n",
       "      <td>False</td>\n",
       "      <td>5.916698</td>\n",
       "      <td>0.370844</td>\n",
       "      <td>0.000000</td>\n",
       "    </tr>\n",
       "    <tr>\n",
       "      <td>1351</td>\n",
       "      <td>226763</td>\n",
       "      <td>226763</td>\n",
       "      <td>1082273</td>\n",
       "      <td>New Jersey</td>\n",
       "      <td>Asbury Park</td>\n",
       "      <td>0</td>\n",
       "      <td>5</td>\n",
       "      <td>Shot - Wounded/Injured||Drive-by (car to stree...</td>\n",
       "      <td>40.2164</td>\n",
       "      <td>NaN</td>\n",
       "      <td>...</td>\n",
       "      <td>False</td>\n",
       "      <td>False</td>\n",
       "      <td>False</td>\n",
       "      <td>False</td>\n",
       "      <td>False</td>\n",
       "      <td>False</td>\n",
       "      <td>False</td>\n",
       "      <td>19.273638</td>\n",
       "      <td>0.257969</td>\n",
       "      <td>0.257969</td>\n",
       "    </tr>\n",
       "  </tbody>\n",
       "</table>\n",
       "<p>1352 rows × 132 columns</p>\n",
       "</div>"
      ],
      "text/plain": [
       "       index  Unnamed: 0  incident_id       state  \\\n",
       "0         71          71        92194    Virginia   \n",
       "1        321         321        92704    New York   \n",
       "2       1481        1481        95500   Louisiana   \n",
       "3       1508        1508        95579    Illinois   \n",
       "4       1567        1567        95550     Alabama   \n",
       "...      ...         ...          ...         ...   \n",
       "1347  225745      225745      1074886  California   \n",
       "1348  226075      226075      1077180        Utah   \n",
       "1349  226575      226575      1080234       Texas   \n",
       "1350  226620      226620      1080442  New Jersey   \n",
       "1351  226763      226763      1082273  New Jersey   \n",
       "\n",
       "                         city_or_county  n_killed  n_injured  \\\n",
       "0                               Norfolk         2          2   \n",
       "1                                Queens         1          3   \n",
       "2                              Tallulah         0          6   \n",
       "3                                 Elgin         0          5   \n",
       "4                            Huntsville         0          5   \n",
       "...                                 ...       ...        ...   \n",
       "1347                      San Francisco         1          5   \n",
       "1348  Salt Lake City (West Valley City)         0          4   \n",
       "1349                              Plano         1          3   \n",
       "1350                             Camden         0          4   \n",
       "1351                        Asbury Park         0          5   \n",
       "\n",
       "                               incident_characteristics  latitude  \\\n",
       "0     Shot - Wounded/Injured||Shot - Dead (murder, a...   36.8508   \n",
       "1     Shot - Wounded/Injured||Shot - Dead (murder, a...   40.6775   \n",
       "2     Shot - Wounded/Injured||Mass Shooting (4+ vict...   32.3986   \n",
       "3     Shot - Wounded/Injured||Mass Shooting (4+ vict...   42.0401   \n",
       "4     Shot - Wounded/Injured||Mass Shooting (4+ vict...   34.7371   \n",
       "...                                                 ...       ...   \n",
       "1347  Shot - Wounded/Injured||Shot - Dead (murder, a...   37.7163   \n",
       "1348  Shot - Wounded/Injured||Drive-by (car to stree...   40.7021   \n",
       "1349  Shot - Wounded/Injured||Shot - Dead (murder, a...   33.0758   \n",
       "1350  Shot - Wounded/Injured||Institution/Group/Busi...   39.9321   \n",
       "1351  Shot - Wounded/Injured||Drive-by (car to stree...   40.2164   \n",
       "\n",
       "        location_description  ...  Terrorism Involvement  \\\n",
       "0                        NaN  ...                  False   \n",
       "1                        NaN  ...                  False   \n",
       "2                   103 Klub  ...                  False   \n",
       "3                        NaN  ...                  False   \n",
       "4                        NaN  ...                  False   \n",
       "...                      ...  ...                    ...   \n",
       "1347       Amazon Barbershop  ...                  False   \n",
       "1348                 Walmart  ...                  False   \n",
       "1349  Cross Creek Apartments  ...                  False   \n",
       "1350                     NaN  ...                  False   \n",
       "1351                     NaN  ...                  False   \n",
       "\n",
       "     Officer Involved Shooting - Accidental discharge - no injury required  \\\n",
       "0                                                 False                      \n",
       "1                                                 False                      \n",
       "2                                                 False                      \n",
       "3                                                 False                      \n",
       "4                                                 False                      \n",
       "...                                                 ...                      \n",
       "1347                                              False                      \n",
       "1348                                              False                      \n",
       "1349                                              False                      \n",
       "1350                                              False                      \n",
       "1351                                              False                      \n",
       "\n",
       "     Mistaken ID   \\\n",
       "0           False   \n",
       "1           False   \n",
       "2           False   \n",
       "3           False   \n",
       "4           False   \n",
       "...           ...   \n",
       "1347        False   \n",
       "1348        False   \n",
       "1349        False   \n",
       "1350        False   \n",
       "1351        False   \n",
       "\n",
       "     Officer Involved Shooting - subject/suspect/perpetrator suicide by cop  \\\n",
       "0                                                 False                       \n",
       "1                                                 False                       \n",
       "2                                                 False                       \n",
       "3                                                 False                       \n",
       "4                                                 False                       \n",
       "...                                                 ...                       \n",
       "1347                                              False                       \n",
       "1348                                              False                       \n",
       "1349                                              False                       \n",
       "1350                                              False                       \n",
       "1351                                              False                       \n",
       "\n",
       "     Ghost gun Political Violence    NAV    MS_Dist    NS_Dist   DS_Dist  \n",
       "0        False              False  False   2.595616   0.447451  0.000000  \n",
       "1        False              False  False   2.630121   0.956968  0.000000  \n",
       "2        False              False  False  30.537472  26.329290  2.673553  \n",
       "3        False              False  False  38.002292   0.826531  0.640190  \n",
       "4        False              False  False  11.969211   2.151040  0.191025  \n",
       "...        ...                ...    ...        ...        ...       ...  \n",
       "1347     False              False  False   4.530501   0.852293  0.000000  \n",
       "1348     False              False  False  20.641806   1.280196  0.622692  \n",
       "1349     False              False  False   4.216156   3.052364  0.000000  \n",
       "1350     False              False  False   5.916698   0.370844  0.000000  \n",
       "1351     False              False  False  19.273638   0.257969  0.257969  \n",
       "\n",
       "[1352 rows x 132 columns]"
      ]
     },
     "execution_count": 18,
     "metadata": {},
     "output_type": "execute_result"
    }
   ],
   "source": [
    "mass_shootings"
   ]
  },
  {
   "cell_type": "code",
   "execution_count": 19,
   "metadata": {},
   "outputs": [],
   "source": [
    "#extract relevant columns\n",
    "ms_nn = mass_shootings[['state','NS_Dist','DS_Dist','MS_Dist']]"
   ]
  },
  {
   "cell_type": "code",
   "execution_count": 20,
   "metadata": {},
   "outputs": [],
   "source": [
    "ms_nn_desc_state = ms_nn.groupby(['state']).describe().reset_index() \n"
   ]
  },
  {
   "cell_type": "code",
   "execution_count": 21,
   "metadata": {
    "scrolled": true
   },
   "outputs": [],
   "source": [
    "sorted_desc1 = ms_nn_desc_state.sort_values(('NS_Dist', 'count'), ascending=False).round(2)\n",
    "\n",
    "#make range columns\n",
    "sorted_desc1['NS_Range'] = sorted_desc1[('NS_Dist',   'min')].map(str) +'-'+ sorted_desc1[('NS_Dist',   'max')].map(str)\n",
    "sorted_desc1['DS_Range'] = sorted_desc1[('DS_Dist',   'min')].map(str) +'-'+ sorted_desc1[('DS_Dist',   'max')].map(str)\n",
    "sorted_desc1['MS_Range'] = sorted_desc1[('MS_Dist',   'min')].map(str) +'-'+ sorted_desc1[('MS_Dist',   'max')].map(str)"
   ]
  },
  {
   "cell_type": "code",
   "execution_count": 22,
   "metadata": {},
   "outputs": [
    {
     "data": {
      "text/html": [
       "<div>\n",
       "<style scoped>\n",
       "    .dataframe tbody tr th:only-of-type {\n",
       "        vertical-align: middle;\n",
       "    }\n",
       "\n",
       "    .dataframe tbody tr th {\n",
       "        vertical-align: top;\n",
       "    }\n",
       "\n",
       "    .dataframe thead tr th {\n",
       "        text-align: left;\n",
       "    }\n",
       "</style>\n",
       "<table border=\"1\" class=\"dataframe\">\n",
       "  <thead>\n",
       "    <tr>\n",
       "      <th></th>\n",
       "      <th>state</th>\n",
       "      <th colspan=\"8\" halign=\"left\">NS_Dist</th>\n",
       "      <th>DS_Dist</th>\n",
       "      <th>...</th>\n",
       "      <th colspan=\"7\" halign=\"left\">MS_Dist</th>\n",
       "      <th>NS_Range</th>\n",
       "      <th>DS_Range</th>\n",
       "      <th>MS_Range</th>\n",
       "    </tr>\n",
       "    <tr>\n",
       "      <th></th>\n",
       "      <th></th>\n",
       "      <th>count</th>\n",
       "      <th>mean</th>\n",
       "      <th>std</th>\n",
       "      <th>min</th>\n",
       "      <th>25%</th>\n",
       "      <th>50%</th>\n",
       "      <th>75%</th>\n",
       "      <th>max</th>\n",
       "      <th>count</th>\n",
       "      <th>...</th>\n",
       "      <th>mean</th>\n",
       "      <th>std</th>\n",
       "      <th>min</th>\n",
       "      <th>25%</th>\n",
       "      <th>50%</th>\n",
       "      <th>75%</th>\n",
       "      <th>max</th>\n",
       "      <th></th>\n",
       "      <th></th>\n",
       "      <th></th>\n",
       "    </tr>\n",
       "  </thead>\n",
       "  <tbody>\n",
       "    <tr>\n",
       "      <td>3</td>\n",
       "      <td>California</td>\n",
       "      <td>155.0</td>\n",
       "      <td>2.02</td>\n",
       "      <td>8.86</td>\n",
       "      <td>0.0</td>\n",
       "      <td>0.40</td>\n",
       "      <td>0.90</td>\n",
       "      <td>1.62</td>\n",
       "      <td>109.99</td>\n",
       "      <td>155.0</td>\n",
       "      <td>...</td>\n",
       "      <td>13.46</td>\n",
       "      <td>32.06</td>\n",
       "      <td>0.47</td>\n",
       "      <td>1.75</td>\n",
       "      <td>4.1</td>\n",
       "      <td>9.58</td>\n",
       "      <td>299.32</td>\n",
       "      <td>0.0-109.99</td>\n",
       "      <td>0.0-4.53</td>\n",
       "      <td>0.47-299.32</td>\n",
       "    </tr>\n",
       "    <tr>\n",
       "      <td>9</td>\n",
       "      <td>Illinois</td>\n",
       "      <td>133.0</td>\n",
       "      <td>0.86</td>\n",
       "      <td>0.87</td>\n",
       "      <td>0.0</td>\n",
       "      <td>0.34</td>\n",
       "      <td>0.64</td>\n",
       "      <td>1.15</td>\n",
       "      <td>7.58</td>\n",
       "      <td>133.0</td>\n",
       "      <td>...</td>\n",
       "      <td>6.96</td>\n",
       "      <td>16.65</td>\n",
       "      <td>0.22</td>\n",
       "      <td>0.74</td>\n",
       "      <td>1.3</td>\n",
       "      <td>3.52</td>\n",
       "      <td>112.31</td>\n",
       "      <td>0.0-7.58</td>\n",
       "      <td>0.0-6.78</td>\n",
       "      <td>0.22-112.31</td>\n",
       "    </tr>\n",
       "  </tbody>\n",
       "</table>\n",
       "<p>2 rows × 28 columns</p>\n",
       "</div>"
      ],
      "text/plain": [
       "        state NS_Dist                                            DS_Dist  ...  \\\n",
       "                count  mean   std  min   25%   50%   75%     max   count  ...   \n",
       "3  California   155.0  2.02  8.86  0.0  0.40  0.90  1.62  109.99   155.0  ...   \n",
       "9    Illinois   133.0  0.86  0.87  0.0  0.34  0.64  1.15    7.58   133.0  ...   \n",
       "\n",
       "  MS_Dist                                          NS_Range  DS_Range  \\\n",
       "     mean    std   min   25%  50%   75%     max                         \n",
       "3   13.46  32.06  0.47  1.75  4.1  9.58  299.32  0.0-109.99  0.0-4.53   \n",
       "9    6.96  16.65  0.22  0.74  1.3  3.52  112.31    0.0-7.58  0.0-6.78   \n",
       "\n",
       "      MS_Range  \n",
       "                \n",
       "3  0.47-299.32  \n",
       "9  0.22-112.31  \n",
       "\n",
       "[2 rows x 28 columns]"
      ]
     },
     "execution_count": 22,
     "metadata": {},
     "output_type": "execute_result"
    }
   ],
   "source": [
    "sorted_desc1.head(2)"
   ]
  },
  {
   "cell_type": "code",
   "execution_count": 23,
   "metadata": {},
   "outputs": [
    {
     "name": "stdout",
     "output_type": "stream",
     "text": [
      "\\begin{tabular}{lrrlrlrl}\n",
      "\\toprule\n",
      "          state & \\multicolumn{2}{l}{NS\\_Dist} &     NS\\_Range & DS\\_Dist &   DS\\_Range & MS\\_Dist &       MS\\_Range \\\\\n",
      "                &   count & \\multicolumn{2}{l}{mean} & \\multicolumn{2}{l}{mean} & \\multicolumn{2}{l}{mean} \\\\\n",
      "\\midrule\n",
      "     California &   155.0 &   2.02 &   0.0-109.99 &    0.23 &   0.0-4.53 &   13.46 &    0.47-299.32 \\\\\n",
      "       Illinois &   133.0 &   0.86 &     0.0-7.58 &    0.16 &   0.0-6.78 &    6.96 &    0.22-112.31 \\\\\n",
      "        Florida &   102.0 &   1.45 &     0.0-28.3 &    0.49 &  0.0-20.04 &   16.12 &     0.28-129.1 \\\\\n",
      "          Texas &    84.0 &   2.57 &    0.0-17.33 &    0.20 &   0.0-2.46 &   33.24 &    1.84-258.57 \\\\\n",
      "       New York &    64.0 &   0.53 &     0.0-4.42 &    0.21 &   0.0-1.97 &    7.39 &    0.15-117.63 \\\\\n",
      "        Georgia &    63.0 &   3.34 &    0.0-28.63 &    0.77 &  0.0-16.88 &   21.53 &    0.48-107.45 \\\\\n",
      "      Louisiana &    54.0 &   1.04 &    0.0-26.33 &    0.15 &   0.0-2.67 &   11.57 &    0.75-116.26 \\\\\n",
      "           Ohio &    54.0 &   1.64 &    0.0-19.34 &    0.29 &   0.0-6.43 &   17.01 &     0.89-97.54 \\\\\n",
      "   Pennsylvania &    52.0 &   1.16 &   0.09-16.52 &    0.26 &   0.0-4.05 &   11.75 &    0.76-130.51 \\\\\n",
      "      Tennessee &    52.0 &   1.43 &    0.0-23.75 &    0.48 &   0.0-6.63 &   14.26 &    1.16-153.51 \\\\\n",
      "       Michigan &    45.0 &   1.10 &      0.0-6.4 &    0.42 &   0.0-7.45 &   15.74 &     0.92-92.87 \\\\\n",
      "       Missouri &    42.0 &   2.05 &   0.13-28.21 &    0.11 &   0.0-0.91 &   20.94 &    0.89-170.71 \\\\\n",
      "     New Jersey &    38.0 &   0.37 &     0.0-2.55 &    0.17 &   0.0-1.99 &    7.81 &     0.76-59.78 \\\\\n",
      "       Virginia &    35.0 &   5.24 &   0.21-61.32 &    1.32 &  0.0-23.37 &   22.75 &     0.98-83.02 \\\\\n",
      "        Indiana &    34.0 &   0.91 &     0.0-4.32 &    0.43 &   0.0-3.55 &    9.08 &      1.0-63.24 \\\\\n",
      "       Maryland &    33.0 &   0.67 &     0.0-4.55 &    0.08 &   0.0-0.49 &    5.02 &     0.73-40.93 \\\\\n",
      "        Alabama &    33.0 &   7.28 &   0.13-40.31 &    0.75 &  0.0-10.43 &   34.72 &     2.98-82.54 \\\\\n",
      " South Carolina &    31.0 &   2.40 &    0.01-16.3 &    0.48 &   0.0-5.29 &   26.15 &     0.83-56.11 \\\\\n",
      " North Carolina &    31.0 &   2.64 &    0.17-15.5 &    1.11 &  0.0-10.91 &   36.06 &    1.48-116.67 \\\\\n",
      "    Mississippi &    26.0 &   9.95 &    0.0-53.05 &    1.05 &   0.0-18.6 &   47.80 &    6.28-116.93 \\\\\n",
      "       Kentucky &    20.0 &   3.54 &   0.18-22.45 &    0.46 &   0.0-5.84 &   25.95 &     0.88-94.91 \\\\\n",
      "        Arizona &    16.0 &   3.11 &    0.77-7.44 &    0.23 &   0.0-1.68 &   38.68 &    5.71-183.69 \\\\\n",
      "      Minnesota &    15.0 &   2.48 &   0.08-22.37 &    1.49 &  0.0-18.67 &   28.20 &     0.3-334.03 \\\\\n",
      "     Washington &    15.0 &   4.19 &   0.02-16.46 &    0.86 &  0.0-10.97 &   60.67 &    1.27-360.15 \\\\\n",
      "  Massachusetts &    13.0 &   0.17 &     0.0-0.89 &    0.36 &   0.0-1.28 &   18.29 &     2.03-47.25 \\\\\n",
      "    Connecticut &    12.0 &   0.30 &    0.07-1.16 &    0.28 &   0.0-1.08 &   11.09 &     3.12-31.25 \\\\\n",
      "       Colorado &    12.0 &   3.73 &   0.26-28.89 &    0.35 &   0.0-2.29 &   35.76 &    2.13-208.85 \\\\\n",
      "         Kansas &    11.0 &   3.76 &   0.02-29.66 &    0.20 &    0.0-1.2 &   21.62 &     4.19-54.07 \\\\\n",
      "       Arkansas &    11.0 &   4.69 &    0.0-36.51 &    0.16 &   0.0-1.45 &   43.75 &     7.49-99.35 \\\\\n",
      "      Wisconsin &     9.0 &   1.12 &    0.41-3.56 &    0.08 &    0.0-0.2 &   41.41 &     0.53-235.9 \\\\\n",
      "     New Mexico &     9.0 &   4.49 &   0.37-34.16 &    0.05 &   0.0-0.46 &   74.45 &    5.96-166.23 \\\\\n",
      "         Nevada &     9.0 &   1.54 &    0.44-3.27 &    0.12 &   0.0-0.36 &    5.66 &     2.49-10.92 \\\\\n",
      "       Oklahoma &     8.0 &   2.88 &   0.01-20.32 &    0.40 &   0.0-1.27 &   27.77 &    1.23-129.38 \\\\\n",
      "         Oregon &     6.0 &   1.83 &    0.09-6.09 &    0.14 &   0.0-0.62 &   62.04 &   11.57-213.05 \\\\\n",
      "           Utah &     4.0 &   1.03 &    0.11-1.42 &    0.25 &   0.0-0.62 &   33.38 &    19.77-72.46 \\\\\n",
      "           Iowa &     4.0 &   0.82 &    0.21-1.39 &    0.20 &   0.0-0.43 &   33.60 &    3.62-121.75 \\\\\n",
      "       Delaware &     4.0 &   0.35 &     0.1-0.73 &    2.97 &  0.0-11.86 &   22.49 &     0.81-86.61 \\\\\n",
      "       Nebraska &     3.0 &   0.98 &    0.68-1.13 &    0.37 &    0.0-1.1 &   11.86 &    10.66-12.46 \\\\\n",
      "   Rhode Island &     2.0 &   0.31 &     0.3-0.32 &    2.33 &   0.2-4.45 &   32.76 &    28.33-37.19 \\\\\n",
      "   South Dakota &     2.0 &  39.31 &   19.6-59.02 &    0.00 &    0.0-0.0 &  306.25 &  306.12-306.39 \\\\\n",
      "          Maine &     2.0 &   3.23 &    0.56-5.89 &    0.00 &    0.0-0.0 &  179.48 &   131.3-227.67 \\\\\n",
      "        Montana &     2.0 &  42.37 &  34.62-50.13 &    0.00 &    0.0-0.0 &  529.37 &  433.06-625.67 \\\\\n",
      "        Vermont &     1.0 &   1.49 &    1.49-1.49 &    0.00 &    0.0-0.0 &  188.95 &  188.95-188.95 \\\\\n",
      "  West Virginia &     1.0 &   0.94 &    0.94-0.94 &    0.00 &    0.0-0.0 &  102.46 &  102.46-102.46 \\\\\n",
      "\\bottomrule\n",
      "\\end{tabular}\n",
      "\n"
     ]
    }
   ],
   "source": [
    "#sorted_desc.iloc[:, [0,1,2,3,5,9,11,13,17,19,21,25]]\n",
    "#sorted_desc1.iloc[:, [0,1,2,25,10,26,18,27]].head(10)\n",
    "print(sorted_desc1.iloc[:, [0,1,2,25,10,26,18,27]].to_latex(index=False))"
   ]
  },
  {
   "cell_type": "markdown",
   "metadata": {},
   "source": [
    "## Kernel density estimation "
   ]
  },
  {
   "cell_type": "code",
   "execution_count": 9,
   "metadata": {},
   "outputs": [
    {
     "data": {
      "text/plain": [
       "226820"
      ]
     },
     "execution_count": 9,
     "metadata": {},
     "output_type": "execute_result"
    }
   ],
   "source": [
    "X_ms = df[['longitude','latitude']]\n",
    "#test = X.iloc[0:50000,:]\n",
    "len(X_ms)"
   ]
  },
  {
   "cell_type": "markdown",
   "metadata": {},
   "source": [
    "from sklearn.neighbors.kde import KernelDensity\n",
    "\n",
    "frame = np.vstack((X_ms[0], X_gv))\n",
    "kde = KernelDensity(kernel = 'gaussian', bandwidth = 0.2).fit(X)\n",
    "kde.score_samples(X)"
   ]
  },
  {
   "cell_type": "code",
   "execution_count": 14,
   "metadata": {},
   "outputs": [
    {
     "data": {
      "text/plain": [
       "<matplotlib.axes._subplots.AxesSubplot at 0x1a28b279d0>"
      ]
     },
     "execution_count": 14,
     "metadata": {},
     "output_type": "execute_result"
    },
    {
     "data": {
      "image/png": "[encoded data removed]",
      "text/plain": [
       "<Figure size 432x288 with 1 Axes>"
      ]
     },
     "metadata": {},
     "output_type": "display_data"
    }
   ],
   "source": [
    "sns.set_style('white')\n",
    "sns.kdeplot(mass_shootings.longitude, mass_shootings.latitude, kernel='gau', cmap = 'Reds', shade = True, bw=1, shade_lowest=False)"
   ]
  },
  {
   "cell_type": "code",
   "execution_count": 11,
   "metadata": {},
   "outputs": [
    {
     "data": {
      "text/plain": [
       "<matplotlib.axes._subplots.AxesSubplot at 0x1a21b98690>"
      ]
     },
     "execution_count": 11,
     "metadata": {},
     "output_type": "execute_result"
    },
    {
     "data": {
      "image/png": "[encoded data removed]",
      "text/plain": [
       "<Figure size 432x288 with 1 Axes>"
      ]
     },
     "metadata": {},
     "output_type": "display_data"
    }
   ],
   "source": [
    "sns.set_style('white')\n",
    "\n",
    "sns.kdeplot(mass_shootings.longitude, mass_shootings.latitude, kernel='gau')"
   ]
  },
  {
   "cell_type": "markdown",
   "metadata": {},
   "source": [
    "## G-function"
   ]
  },
  {
   "cell_type": "markdown",
   "metadata": {},
   "source": [
    "### Area definition"
   ]
  },
  {
   "cell_type": "code",
   "execution_count": 72,
   "metadata": {},
   "outputs": [],
   "source": [
    "northeast = ['Illinois','Wisconsin','Michigan','Indiana']\n",
    "ms_northeast= mass_shootings.loc[mass_shootings['state'].isin(northeast)].reset_index()\n",
    "ms_northeast=ms_northeast.drop(columns = 'index')\n",
    "\n",
    "middleatlantic = ['Connecticut','Massachusetts','Delaware','Maryland','New York','Pennsylvania','New Jersey']\n",
    "ms_midatlantic= mass_shootings.loc[mass_shootings['state'].isin(middleatlantic)].reset_index()\n",
    "ms_midatlantic=ms_midatlantic.drop(columns = 'index')"
   ]
  },
  {
   "cell_type": "markdown",
   "metadata": {},
   "source": [
    "### Relevant state definitions "
   ]
  },
  {
   "cell_type": "code",
   "execution_count": 73,
   "metadata": {},
   "outputs": [],
   "source": [
    "ms_cali = mass_shootings[mass_shootings['state'] =='California'].reset_index()\n",
    "#ms_illinois = mass_shootings[mass_shootings['state'] == 'Illinois'].reset_index()\n",
    "#ms_nj = mass_shootings[mass_shootings['state']=='New Jersey'].reset_index()"
   ]
  },
  {
   "cell_type": "code",
   "execution_count": 96,
   "metadata": {},
   "outputs": [],
   "source": [
    "ms_ll = mass_shootings[['latitude', 'longitude']]\n",
    "cali_ll = ms_cali[['latitude', 'longitude']]\n",
    "NE_ll = ms_northeast[['latitude', 'longitude']]\n",
    "MA_ll = ms_midatlantic[['latitude', 'longitude']]"
   ]
  },
  {
   "cell_type": "code",
   "execution_count": 75,
   "metadata": {},
   "outputs": [],
   "source": [
    "pp_ms = PointPattern(ms_ll)\n",
    "pp_cali = PointPattern(cali_ll)\n",
    "pp_NE = PointPattern(NE_ll)\n",
    "pp_MA = PointPattern(MA_ll)"
   ]
  },
  {
   "cell_type": "code",
   "execution_count": 20,
   "metadata": {},
   "outputs": [
    {
     "name": "stdout",
     "output_type": "stream",
     "text": [
      "Point Pattern\n",
      "155 points\n",
      "Bounding rectangle [(32.5866,-122.819), (41.4838,-116.18)]\n",
      "Area of window: 59.068510799999984\n",
      "Intensity estimate for window: 2.6240715721582073\n",
      "         x        y\n",
      "0  33.9593 -118.278\n",
      "1  37.7752 -122.221\n",
      "2  37.9595 -121.277\n",
      "3  41.4838 -120.545\n",
      "4  33.7869 -118.278\n"
     ]
    }
   ],
   "source": [
    "pp_cali.summary()"
   ]
  },
  {
   "cell_type": "code",
   "execution_count": 145,
   "metadata": {},
   "outputs": [],
   "source": [
    "realizations_ms = PoissonPointProcess(pp_ms.window, pp_ms.n, 100, asPP=True)\n",
    "realizations_cali = PoissonPointProcess(pp_cali.window, pp_cali.n, 100, asPP=True)\n",
    "realizations_NE = PoissonPointProcess(pp_NE.window, pp_NE.n, 100, asPP=True)\n",
    "realizations_MA = PoissonPointProcess(pp_MA.window, pp_MA.n, 100, asPP=True)"
   ]
  },
  {
   "cell_type": "code",
   "execution_count": 146,
   "metadata": {},
   "outputs": [
    {
     "data": {
      "image/png": "[encoded data removed]",
      "text/plain": [
       "<Figure size 432x288 with 1 Axes>"
      ]
     },
     "metadata": {
      "needs_background": "light"
     },
     "output_type": "display_data"
    }
   ],
   "source": [
    "g_ms = Genv(pp_ms, intervals = 50, realizations = realizations_ms, dmax=1.25)\n",
    "g_mass = g_ms.plot()"
   ]
  },
  {
   "cell_type": "code",
   "execution_count": 169,
   "metadata": {},
   "outputs": [
    {
     "data": {
      "text/plain": [
       "<pointpats.distance_statistics.Genv at 0x1a23407690>"
      ]
     },
     "execution_count": 169,
     "metadata": {},
     "output_type": "execute_result"
    }
   ],
   "source": [
    "g_cali"
   ]
  },
  {
   "cell_type": "code",
   "execution_count": 326,
   "metadata": {},
   "outputs": [],
   "source": [
    "g_cali = G(pp_cali, intervals = 50, dmax=1.5)\n",
    "g_NE = G(pp_NE, intervals = 50, dmax=1.5)\n",
    "g_MA = G(pp_MA, intervals = 50, dmax=1.5)"
   ]
  },
  {
   "cell_type": "code",
   "execution_count": 199,
   "metadata": {},
   "outputs": [],
   "source": [
    "genv_cali = Genv(pp_cali, intervals = 50, realizations = realizations_cali, dmax=1)\n",
    "genv_NE = Genv(pp_NE, intervals = 50, realizations = realizations_NE, dmax=0.8)\n",
    "genv_MA = Genv(pp_NE, intervals = 50, realizations = realizations_MA, dmax=0.8)"
   ]
  },
  {
   "cell_type": "code",
   "execution_count": 348,
   "metadata": {},
   "outputs": [
    {
     "data": {
      "image/png": "[encoded data removed]",
      "text/plain": [
       "<Figure size 720x504 with 1 Axes>"
      ]
     },
     "metadata": {
      "needs_background": "light"
     },
     "output_type": "display_data"
    }
   ],
   "source": [
    "fig_cali_g, ax = plt.subplots(1, figsize=(10, 7))\n",
    "g_cali.plot()\n",
    "plt.title('')\n",
    "ax.spines['right'].set_visible(False)\n",
    "ax.spines['top'].set_visible(False)\n",
    "plt.ylabel('', fontsize = 25);\n",
    "plt.yticks(fontsize = 25);\n",
    "plt.xlabel('d (km)', fontsize = 25);\n",
    "plt.xticks(fontsize = 25);\n",
    "\n",
    "L = plt.legend(loc=4, prop={'size': 25}, frameon=False)\n",
    "L.get_texts()[0].set_text('$G(d)_{OBS}$')\n",
    "L.get_texts()[1].set_text('$G(d)_{CSR}$')\n",
    "\n",
    "os.chdir('/Users/josefinebjornholm/Documents/GitHub/Gun_Violence_E19/Figures')\n",
    "fig_cali_g.savefig(\"G_cali.pdf\", bbox_inches='tight')"
   ]
  },
  {
   "cell_type": "code",
   "execution_count": 347,
   "metadata": {},
   "outputs": [
    {
     "data": {
      "image/png": "[encoded data removed]",
      "text/plain": [
       "<Figure size 720x504 with 1 Axes>"
      ]
     },
     "metadata": {
      "needs_background": "light"
     },
     "output_type": "display_data"
    }
   ],
   "source": [
    "fig_NE_g, ax = plt.subplots(1, figsize=(10, 7))\n",
    "g_NE.plot()\n",
    "plt.title('')\n",
    "ax.spines['right'].set_visible(False)\n",
    "ax.spines['top'].set_visible(False)\n",
    "plt.ylabel('', fontsize = 25);\n",
    "plt.yticks(fontsize = 25);\n",
    "plt.xlabel('d (km)', fontsize = 25);\n",
    "plt.xticks(fontsize = 25);\n",
    "\n",
    "L = plt.legend(loc=4, prop={'size': 25}, frameon=False)\n",
    "L.get_texts()[0].set_text('$G(d)_{OBS}$')\n",
    "L.get_texts()[1].set_text('$G(d)_{CSR}$')\n",
    "\n",
    "os.chdir('/Users/josefinebjornholm/Documents/GitHub/Gun_Violence_E19/Figures')\n",
    "fig_NE_g.savefig(\"G_NE.pdf\", bbox_inches='tight')"
   ]
  },
  {
   "cell_type": "code",
   "execution_count": 349,
   "metadata": {},
   "outputs": [
    {
     "data": {
      "image/png": "[encoded data removed]",
      "text/plain": [
       "<Figure size 720x504 with 1 Axes>"
      ]
     },
     "metadata": {
      "needs_background": "light"
     },
     "output_type": "display_data"
    }
   ],
   "source": [
    "fig_MA_g, ax = plt.subplots(1, figsize=(10, 7))\n",
    "g_MA.plot()\n",
    "plt.title('')\n",
    "ax.spines['right'].set_visible(False)\n",
    "ax.spines['top'].set_visible(False)\n",
    "plt.ylabel('', fontsize = 25);\n",
    "plt.yticks(fontsize = 25);\n",
    "plt.xlabel('d (km)', fontsize = 25);\n",
    "plt.xticks(fontsize = 25);\n",
    "\n",
    "L = plt.legend(loc=4, prop={'size': 25}, frameon=False)\n",
    "L.get_texts()[0].set_text('$G(d)_{OBS}$')\n",
    "L.get_texts()[1].set_text('$G(d)_{CSR}$')\n",
    "\n",
    "os.chdir('/Users/josefinebjornholm/Documents/GitHub/Gun_Violence_E19/Figures')\n",
    "fig_MA_g.savefig(\"G_MA.pdf\", bbox_inches='tight')"
   ]
  },
  {
   "cell_type": "markdown",
   "metadata": {},
   "source": [
    "## K-Function"
   ]
  },
  {
   "cell_type": "code",
   "execution_count": 292,
   "metadata": {},
   "outputs": [],
   "source": [
    "kenv_cali = Kenv(pp_cali, realizations=realizations_cali)\n",
    "kenv_NE = Kenv(pp_NE, dmax=7, realizations=realizations_NE)\n",
    "kenv_MA = Kenv(pp_MA, dmax=7, realizations=realizations_MA)"
   ]
  },
  {
   "cell_type": "code",
   "execution_count": 322,
   "metadata": {},
   "outputs": [],
   "source": [
    "k_cali = K(pp_cali, intervals=50, dmax=1.5)\n",
    "k_NE = K(pp_NE, intervals=50, dmax=1.5)\n",
    "k_MA = K(pp_MA, intervals=50, dmax=1.5)"
   ]
  },
  {
   "cell_type": "code",
   "execution_count": 342,
   "metadata": {},
   "outputs": [
    {
     "data": {
      "image/png": "[encoded data removed]",
      "text/plain": [
       "<Figure size 720x504 with 1 Axes>"
      ]
     },
     "metadata": {
      "needs_background": "light"
     },
     "output_type": "display_data"
    }
   ],
   "source": [
    "fig, ax = plt.subplots(1, figsize=(10, 7))\n",
    "k_cali.plot()\n",
    "plt.title('')\n",
    "ax.spines['right'].set_visible(False)\n",
    "ax.spines['top'].set_visible(False)\n",
    "plt.ylabel('', fontsize = 25);\n",
    "plt.yticks(fontsize = 25);\n",
    "plt.xlabel('r (km)', fontsize = 25);\n",
    "plt.xticks(fontsize = 25);\n",
    "\n",
    "L = plt.legend(loc=4, prop={'size': 25}, frameon=False)\n",
    "L.get_texts()[0].set_text('$K(r)_{OBS}$')\n",
    "L.get_texts()[1].set_text('$K(r)_{CSR}$')\n",
    "\n",
    "\n",
    "os.chdir('/Users/josefinebjornholm/Documents/GitHub/Gun_Violence_E19/Figures')\n",
    "fig.savefig(\"K_cali.pdf\", bbox_inches='tight')"
   ]
  },
  {
   "cell_type": "code",
   "execution_count": 341,
   "metadata": {},
   "outputs": [
    {
     "data": {
      "image/png": "[encoded data removed]",
      "text/plain": [
       "<Figure size 720x504 with 1 Axes>"
      ]
     },
     "metadata": {
      "needs_background": "light"
     },
     "output_type": "display_data"
    }
   ],
   "source": [
    "fig, ax = plt.subplots(1, figsize=(10, 7))\n",
    "k_NE.plot()\n",
    "plt.title('')\n",
    "ax.spines['right'].set_visible(False)\n",
    "ax.spines['top'].set_visible(False)\n",
    "plt.ylabel('', fontsize = 25);\n",
    "plt.yticks(fontsize = 25);\n",
    "plt.xlabel('r (km)', fontsize = 25);\n",
    "plt.xticks(fontsize = 25);\n",
    "\n",
    "L = plt.legend(loc=4, prop={'size': 25}, frameon=False)\n",
    "L.get_texts()[0].set_text('$K(r)_{OBS}$')\n",
    "L.get_texts()[1].set_text('$K(r)_{CSR}$')\n",
    "\n",
    "\n",
    "os.chdir('/Users/josefinebjornholm/Documents/GitHub/Gun_Violence_E19/Figures')\n",
    "fig.savefig(\"K_NE.pdf\", bbox_inches='tight')"
   ]
  },
  {
   "cell_type": "code",
   "execution_count": 340,
   "metadata": {},
   "outputs": [
    {
     "data": {
      "image/png": "[encoded data removed]",
      "text/plain": [
       "<Figure size 720x504 with 1 Axes>"
      ]
     },
     "metadata": {
      "needs_background": "light"
     },
     "output_type": "display_data"
    }
   ],
   "source": [
    "fig, ax = plt.subplots(1, figsize=(10, 7))\n",
    "k_MA.plot()\n",
    "plt.title('')\n",
    "ax.spines['right'].set_visible(False)\n",
    "ax.spines['top'].set_visible(False)\n",
    "plt.ylabel('', fontsize = 25);\n",
    "plt.yticks(fontsize = 25);\n",
    "plt.xlabel('r (km)', fontsize = 25);\n",
    "plt.xticks(fontsize = 25);\n",
    "\n",
    "L = plt.legend(loc=4, prop={'size': 25}, frameon=False)\n",
    "L.get_texts()[0].set_text('$K(r)_{OBS}$')\n",
    "L.get_texts()[1].set_text('$K(r)_{CSR}$')\n",
    "\n",
    "\n",
    "os.chdir('/Users/josefinebjornholm/Documents/GitHub/Gun_Violence_E19/Figures')\n",
    "fig.savefig(\"K_MA.pdf\", bbox_inches='tight')"
   ]
  },
  {
   "cell_type": "markdown",
   "metadata": {},
   "source": [
    "# AR-model"
   ]
  },
  {
   "cell_type": "code",
   "execution_count": 131,
   "metadata": {},
   "outputs": [
    {
     "name": "stderr",
     "output_type": "stream",
     "text": [
      "/Users/Anna/opt/anaconda3/lib/python3.7/site-packages/ipykernel_launcher.py:5: SettingWithCopyWarning: \n",
      "A value is trying to be set on a copy of a slice from a DataFrame.\n",
      "Try using .loc[row_indexer,col_indexer] = value instead\n",
      "\n",
      "See the caveats in the documentation: http://pandas.pydata.org/pandas-docs/stable/user_guide/indexing.html#returning-a-view-versus-a-copy\n",
      "  \"\"\"\n",
      "/Users/Anna/opt/anaconda3/lib/python3.7/site-packages/ipykernel_launcher.py:9: SettingWithCopyWarning: \n",
      "A value is trying to be set on a copy of a slice from a DataFrame.\n",
      "Try using .loc[row_indexer,col_indexer] = value instead\n",
      "\n",
      "See the caveats in the documentation: http://pandas.pydata.org/pandas-docs/stable/user_guide/indexing.html#returning-a-view-versus-a-copy\n",
      "  if __name__ == '__main__':\n"
     ]
    }
   ],
   "source": [
    "import datetime\n",
    "from datetime import datetime, timedelta\n",
    "\n",
    "cali_ar = ms_cali[['Date', 'Mass Shooting']]\n",
    "cali_ar['date'] = pd.to_datetime(cali_ar.Date.str.strip(), format='%Y-%m-%d')\n",
    "\n",
    "cali_ar['firstday'] = cali_ar['date'].apply(lambda x: x - timedelta(days=x.dayofweek))"
   ]
  },
  {
   "cell_type": "code",
   "execution_count": 187,
   "metadata": {},
   "outputs": [],
   "source": [
    "base = cali_ar['date'].max()\n",
    "numdays = 1500\n",
    "date_list = [base - timedelta(days=x) for x in range((cali_ar['date'].max()-cali_ar['date'].min()).days+1)]\n",
    "date_list = pd.DataFrame(date_list)\n",
    "date_list.columns=['date']"
   ]
  },
  {
   "cell_type": "code",
   "execution_count": 189,
   "metadata": {},
   "outputs": [],
   "source": [
    "date_list['firstday'] = date_list['date'].apply(lambda x: x - timedelta(days=x.dayofweek))"
   ]
  },
  {
   "cell_type": "code",
   "execution_count": 199,
   "metadata": {},
   "outputs": [
    {
     "data": {
      "text/html": [
       "<div>\n",
       "<style scoped>\n",
       "    .dataframe tbody tr th:only-of-type {\n",
       "        vertical-align: middle;\n",
       "    }\n",
       "\n",
       "    .dataframe tbody tr th {\n",
       "        vertical-align: top;\n",
       "    }\n",
       "\n",
       "    .dataframe thead th {\n",
       "        text-align: right;\n",
       "    }\n",
       "</style>\n",
       "<table border=\"1\" class=\"dataframe\">\n",
       "  <thead>\n",
       "    <tr style=\"text-align: right;\">\n",
       "      <th></th>\n",
       "      <th>date</th>\n",
       "    </tr>\n",
       "  </thead>\n",
       "  <tbody>\n",
       "    <tr>\n",
       "      <td>0</td>\n",
       "      <td>2018-03-19</td>\n",
       "    </tr>\n",
       "    <tr>\n",
       "      <td>1</td>\n",
       "      <td>2018-03-12</td>\n",
       "    </tr>\n",
       "    <tr>\n",
       "      <td>2</td>\n",
       "      <td>2018-03-05</td>\n",
       "    </tr>\n",
       "    <tr>\n",
       "      <td>3</td>\n",
       "      <td>2018-02-26</td>\n",
       "    </tr>\n",
       "    <tr>\n",
       "      <td>4</td>\n",
       "      <td>2018-02-19</td>\n",
       "    </tr>\n",
       "    <tr>\n",
       "      <td>...</td>\n",
       "      <td>...</td>\n",
       "    </tr>\n",
       "    <tr>\n",
       "      <td>214</td>\n",
       "      <td>2014-02-10</td>\n",
       "    </tr>\n",
       "    <tr>\n",
       "      <td>215</td>\n",
       "      <td>2014-02-03</td>\n",
       "    </tr>\n",
       "    <tr>\n",
       "      <td>216</td>\n",
       "      <td>2014-01-27</td>\n",
       "    </tr>\n",
       "    <tr>\n",
       "      <td>217</td>\n",
       "      <td>2014-01-20</td>\n",
       "    </tr>\n",
       "    <tr>\n",
       "      <td>218</td>\n",
       "      <td>2014-01-13</td>\n",
       "    </tr>\n",
       "  </tbody>\n",
       "</table>\n",
       "<p>219 rows × 1 columns</p>\n",
       "</div>"
      ],
      "text/plain": [
       "          date\n",
       "0   2018-03-19\n",
       "1   2018-03-12\n",
       "2   2018-03-05\n",
       "3   2018-02-26\n",
       "4   2018-02-19\n",
       "..         ...\n",
       "214 2014-02-10\n",
       "215 2014-02-03\n",
       "216 2014-01-27\n",
       "217 2014-01-20\n",
       "218 2014-01-13\n",
       "\n",
       "[219 rows x 1 columns]"
      ]
     },
     "execution_count": 199,
     "metadata": {},
     "output_type": "execute_result"
    }
   ],
   "source": [
    "dates_all = date_list.firstday.unique()\n",
    "dates_all = pd.DataFrame(dates_all)\n",
    "dates_all.columns=['date']\n",
    "dates_all"
   ]
  },
  {
   "cell_type": "code",
   "execution_count": 200,
   "metadata": {},
   "outputs": [],
   "source": [
    "ts = cali_ar.groupby('firstday')['Mass Shooting'].count()\n",
    "ts = pd.DataFrame(ts)"
   ]
  },
  {
   "cell_type": "code",
   "execution_count": 216,
   "metadata": {},
   "outputs": [],
   "source": [
    "test = pd.merge(dates_all, ts, left_on='date', right_on='firstday', how='left')\n",
    "test = test.set_index('date')"
   ]
  },
  {
   "cell_type": "code",
   "execution_count": 217,
   "metadata": {},
   "outputs": [],
   "source": [
    "from pandas.plotting import autocorrelation_plot"
   ]
  },
  {
   "cell_type": "code",
   "execution_count": 229,
   "metadata": {},
   "outputs": [],
   "source": [
    "test['MS'] = test['Mass Shooting'].apply(lambda x: x>=1)"
   ]
  },
  {
   "cell_type": "code",
   "execution_count": 231,
   "metadata": {},
   "outputs": [],
   "source": [
    "test1 = test.drop(columns=['Mass Shooting'])"
   ]
  },
  {
   "cell_type": "code",
   "execution_count": 232,
   "metadata": {
    "scrolled": true
   },
   "outputs": [
    {
     "data": {
      "text/plain": [
       "<matplotlib.axes._subplots.AxesSubplot at 0x1a20758710>"
      ]
     },
     "execution_count": 232,
     "metadata": {},
     "output_type": "execute_result"
    },
    {
     "data": {
      "image/png": "[encoded data removed]",
      "text/plain": [
       "<Figure size 432x288 with 1 Axes>"
      ]
     },
     "metadata": {
      "needs_background": "light"
     },
     "output_type": "display_data"
    }
   ],
   "source": [
    "#ts_cali = ts.set_index('date')\n",
    "autocorrelation_plot(test1)"
   ]
  },
  {
   "cell_type": "code",
   "execution_count": 235,
   "metadata": {},
   "outputs": [
    {
     "name": "stderr",
     "output_type": "stream",
     "text": [
      "/Users/Anna/opt/anaconda3/lib/python3.7/site-packages/statsmodels/tsa/base/tsa_model.py:165: ValueWarning: No frequency information was provided, so inferred frequency -1W-MON will be used.\n",
      "  % freq, ValueWarning)\n",
      "/Users/Anna/opt/anaconda3/lib/python3.7/site-packages/statsmodels/tsa/base/tsa_model.py:165: ValueWarning: No frequency information was provided, so inferred frequency -1W-MON will be used.\n",
      "  % freq, ValueWarning)\n"
     ]
    },
    {
     "name": "stdout",
     "output_type": "stream",
     "text": [
      "                             ARIMA Model Results                              \n",
      "==============================================================================\n",
      "Dep. Variable:                   D.MS   No. Observations:                  218\n",
      "Model:                 ARIMA(7, 1, 0)   Log Likelihood                -155.936\n",
      "Method:                       css-mle   S.D. of innovations              0.495\n",
      "Date:                Thu, 05 Dec 2019   AIC                            329.871\n",
      "Time:                        16:44:06   BIC                            360.332\n",
      "Sample:                    03-12-2018   HQIC                           342.175\n",
      "                         - 01-13-2014                                         \n",
      "==============================================================================\n",
      "                 coef    std err          z      P>|z|      [0.025      0.975]\n",
      "------------------------------------------------------------------------------\n",
      "const          0.4954      0.036     13.607      0.000       0.424       0.567\n",
      "ar.L1.D.MS     0.0875      0.068      1.290      0.198      -0.045       0.220\n",
      "ar.L2.D.MS    -0.0151      0.068     -0.221      0.826      -0.149       0.119\n",
      "ar.L3.D.MS    -0.0393      0.068     -0.573      0.567      -0.173       0.095\n",
      "ar.L4.D.MS     0.0547      0.069      0.797      0.426      -0.080       0.189\n",
      "ar.L5.D.MS     0.0573      0.069      0.833      0.406      -0.078       0.192\n",
      "ar.L6.D.MS    -0.0050      0.069     -0.072      0.943      -0.140       0.130\n",
      "ar.L7.D.MS    -0.0609      0.069     -0.885      0.377      -0.196       0.074\n",
      "                                    Roots                                    \n",
      "=============================================================================\n",
      "                  Real          Imaginary           Modulus         Frequency\n",
      "-----------------------------------------------------------------------------\n",
      "AR.1            1.4263           -0.5582j            1.5316           -0.0594\n",
      "AR.2            1.4263           +0.5582j            1.5316            0.0594\n",
      "AR.3            0.3309           -1.3200j            1.3609           -0.2109\n",
      "AR.4            0.3309           +1.3200j            1.3609            0.2109\n",
      "AR.5           -1.0248           -1.1800j            1.5629           -0.3638\n",
      "AR.6           -1.0248           +1.1800j            1.5629            0.3638\n",
      "AR.7           -1.5462           -0.0000j            1.5462           -0.5000\n",
      "-----------------------------------------------------------------------------\n"
     ]
    }
   ],
   "source": [
    "from statsmodels.tsa.arima_model import ARIMA\n",
    "model = ARIMA(test1, order=(7,1,0))\n",
    "model_fit = model.fit(disp=0)\n",
    "print(model_fit.summary())"
   ]
  },
  {
   "cell_type": "code",
   "execution_count": null,
   "metadata": {},
   "outputs": [],
   "source": []
  }
 ],
 "metadata": {
  "kernelspec": {
   "display_name": "Python 3",
   "language": "python",
   "name": "python3"
  },
  "language_info": {
   "codemirror_mode": {
    "name": "ipython",
    "version": 3
   },
   "file_extension": ".py",
   "mimetype": "text/x-python",
   "name": "python",
   "nbconvert_exporter": "python",
   "pygments_lexer": "ipython3",
   "version": "3.7.4"
  }
 },
 "nbformat": 4,
 "nbformat_minor": 4
}
