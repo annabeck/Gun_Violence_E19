{
 "cells": [
  {
   "cell_type": "code",
   "execution_count": 13,
   "metadata": {},
   "outputs": [],
   "source": [
    "import requests\n",
    "from json2table import convert\n",
    "import json\n",
    "import numpy as np\n",
    "import pandas as pd\n",
    "import matplotlib.pyplot as plt"
   ]
  },
  {
   "cell_type": "code",
   "execution_count": 19,
   "metadata": {},
   "outputs": [],
   "source": [
    "url = 'https://api.census.gov/data/'\n",
    "key = '3b73c25c2be006e16d34baf9a203112b51cacdbf'"
   ]
  },
  {
   "cell_type": "code",
   "execution_count": 20,
   "metadata": {},
   "outputs": [],
   "source": [
    "year = [2014,2015,2016,2017,2018]\n",
    "dataset = '/acs/acs1'\n",
    "var = 'B01001_001E'\n",
    "geo = 'state'\n",
    "geo_1 = ':*'"
   ]
  },
  {
   "cell_type": "code",
   "execution_count": 21,
   "metadata": {
    "scrolled": true
   },
   "outputs": [
    {
     "name": "stdout",
     "output_type": "stream",
     "text": [
      "https://api.census.gov/data/2014/acs/acs1?&get=NAME,B01001_001E&for=state:*\n",
      "https://api.census.gov/data/2015/acs/acs1?&get=NAME,B01001_001E&for=state:*\n",
      "https://api.census.gov/data/2016/acs/acs1?&get=NAME,B01001_001E&for=state:*\n",
      "https://api.census.gov/data/2017/acs/acs1?&get=NAME,B01001_001E&for=state:*\n",
      "https://api.census.gov/data/2018/acs/acs1?&get=NAME,B01001_001E&for=state:*\n"
     ]
    }
   ],
   "source": [
    "col = [('Year', []),\n",
    " ('NAME', []),      \n",
    " ('Total_Pop', []),\n",
    " ('state', [])]\n",
    "\n",
    "for y in year:\n",
    "    \n",
    "    full_url = url+str(y)+dataset+'?&get=NAME,'+ var + '&for=' +geo+geo_1\n",
    "    print(full_url)\n",
    "    responce = requests.get(full_url).json()\n",
    "    \n",
    "    for t in responce:\n",
    "        col[0][1].append(y)\n",
    "        for i in range(len(responce[0])):\n",
    "            val = t[i]\n",
    "            col[i+1][1].append(val)"
   ]
  },
  {
   "cell_type": "code",
   "execution_count": 22,
   "metadata": {},
   "outputs": [],
   "source": [
    "Dict={title:column for (title,column) in col}\n",
    "df=pd.DataFrame(Dict)\n",
    "data = df[df['NAME']!='NAME']"
   ]
  },
  {
   "cell_type": "code",
   "execution_count": 24,
   "metadata": {
    "scrolled": true
   },
   "outputs": [],
   "source": [
    "#Drop states that we do not consider\n",
    "data = data[data['NAME']!='Alaska']\n",
    "data = data[data['NAME']!='Hawaii']\n",
    "data = data[data['NAME']!='District of Columbia']"
   ]
  },
  {
   "cell_type": "code",
   "execution_count": 26,
   "metadata": {},
   "outputs": [],
   "source": [
    "data_2018 = data[data['Year'] == 2018].reset_index()"
   ]
  },
  {
   "cell_type": "code",
   "execution_count": 27,
   "metadata": {},
   "outputs": [],
   "source": [
    "data_2018.to_csv('Data/demographics_2018.csv', sep=',')"
   ]
  }
 ],
 "metadata": {
  "kernelspec": {
   "display_name": "Python 3",
   "language": "python",
   "name": "python3"
  },
  "language_info": {
   "codemirror_mode": {
    "name": "ipython",
    "version": 3
   },
   "file_extension": ".py",
   "mimetype": "text/x-python",
   "name": "python",
   "nbconvert_exporter": "python",
   "pygments_lexer": "ipython3",
   "version": "3.7.4"
  }
 },
 "nbformat": 4,
 "nbformat_minor": 2
}
